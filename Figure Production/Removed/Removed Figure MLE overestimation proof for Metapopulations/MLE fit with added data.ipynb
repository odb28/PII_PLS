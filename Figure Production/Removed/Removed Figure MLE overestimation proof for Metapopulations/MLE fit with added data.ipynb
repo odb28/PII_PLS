{
 "cells": [
  {
   "cell_type": "code",
   "execution_count": 1,
   "metadata": {
    "collapsed": true
   },
   "outputs": [],
   "source": [
    "# Load initial packages and functions from own package\n",
    "import scipy as sp\n",
    "from src.PLS.utils import meta_mle\n",
    "from src.PLS.utils import meta_mle_sir\n",
    "import numpy as np\n",
    "from src.PLS.metaSIR import meta_timed_sir\n",
    "from decimal import Decimal, ROUND_UP\n",
    "from src.PLS.metaSIR import basic_square_map\n",
    "from src.PLS.metaSIR import straight_line_distances\n",
    "from src.PLS.metaSIR import basic_kernel\n",
    "import time"
   ]
  },
  {
   "cell_type": "code",
   "execution_count": 2,
   "outputs": [],
   "source": [
    "#Define the parameters and get the sample epidemic\n",
    "R0 = 5\n",
    "mle_b = []\n",
    "start_time = time.time()\n",
    "for i in [1]:\n",
    "    seed = i\n",
    "    N = 4\n",
    "    test_map = basic_square_map(N)\n",
    "    test_distances = straight_line_distances(test_map, N, scaling=10)\n",
    "    gamma = 1\n",
    "    X0 = [[999, 1, 0]]\n",
    "    div = sum(X0[0])\n",
    "    for i in range(N - 1):\n",
    "        X0.append([1000, 0, 0])\n",
    "    beta = R0 / div\n",
    "    rng = np.random.default_rng(seed)\n",
    "    tstep = 0.01\n",
    "    tmax = 100\n",
    "    tmax = float(Decimal(tstep) * (\n",
    "                Decimal(meta_timed_sir(X0, beta, gamma, N, test_distances, basic_kernel, tmax, tstep, rng)) / Decimal(\n",
    "            tstep)).quantize(1, rounding=ROUND_UP))\n",
    "    rng = np.random.default_rng(seed)\n",
    "    start_time = time.time()\n",
    "    times_real, timed_real,causes = meta_mle_sir(X0, beta, gamma, N, test_distances, basic_kernel, tmax, tstep, rng)"
   ],
   "metadata": {
    "collapsed": false
   }
  },
  {
   "cell_type": "code",
   "execution_count": 3,
   "outputs": [
    {
     "name": "stdout",
     "output_type": "stream",
     "text": [
      "True\n"
     ]
    }
   ],
   "source": [
    "#get length of reality\n",
    "print(len(timed_real[0:7954]) == len(timed_real))"
   ],
   "metadata": {
    "collapsed": false
   }
  },
  {
   "cell_type": "code",
   "execution_count": 4,
   "outputs": [],
   "source": [
    "#Set up MLE array for different info\n",
    "mle_b = []"
   ],
   "metadata": {
    "collapsed": false
   }
  },
  {
   "cell_type": "code",
   "execution_count": 5,
   "outputs": [],
   "source": [
    "subset_points = [10,25,50,100,250,500,750,1000,2000,3000,4000,5000,6000,7000,7954]"
   ],
   "metadata": {
    "collapsed": false
   }
  },
  {
   "cell_type": "code",
   "execution_count": 6,
   "outputs": [],
   "source": [
    "for subset in subset_points:\n",
    "    #Define the optimisation function for the scipy solver\n",
    "    def opt_mle(paras):\n",
    "        return - meta_mle(paras[0]/div,gamma,timed_real[0:subset],times_real[0:subset],tmax,basic_kernel,test_distances,causes[0:subset])\n",
    "    found = False\n",
    "    for j in range(20):\n",
    "        w = sp.optimize.minimize(opt_mle,x0=(4.0+j/10))\n",
    "        if found == False:\n",
    "            found = True\n",
    "            best_b = w.x[0]\n",
    "            best = w.fun\n",
    "        elif w.fun > best:\n",
    "            best_b = w.x[0]\n",
    "    mle_b.append(best_b)"
   ],
   "metadata": {
    "collapsed": false
   }
  },
  {
   "cell_type": "code",
   "execution_count": 10,
   "outputs": [],
   "source": [
    "np.savetxt(\"MLE_graph.csv\",mle_b,delimiter = \",\")"
   ],
   "metadata": {
    "collapsed": false
   }
  },
  {
   "cell_type": "code",
   "execution_count": null,
   "outputs": [],
   "source": [],
   "metadata": {
    "collapsed": false
   }
  }
 ],
 "metadata": {
  "kernelspec": {
   "display_name": "Python 3",
   "language": "python",
   "name": "python3"
  },
  "language_info": {
   "codemirror_mode": {
    "name": "ipython",
    "version": 2
   },
   "file_extension": ".py",
   "mimetype": "text/x-python",
   "name": "python",
   "nbconvert_exporter": "python",
   "pygments_lexer": "ipython2",
   "version": "2.7.6"
  }
 },
 "nbformat": 4,
 "nbformat_minor": 0
}
