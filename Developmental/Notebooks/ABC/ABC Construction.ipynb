{
 "cells": [
  {
   "cell_type": "code",
   "execution_count": 162,
   "metadata": {
    "collapsed": true
   },
   "outputs": [],
   "source": [
    "import numpy as np\n",
    "from matplotlib import pyplot as plt\n",
    "import seaborn as sns\n",
    "import scipy as sp\n",
    "from src.baseSIR import no_ext_sir\n",
    "from src.baseSIR import timed_sir\n",
    "from decimal import Decimal, ROUND_UP\n",
    "import time\n",
    "import pandas as pd"
   ]
  },
  {
   "cell_type": "code",
   "execution_count": 145,
   "outputs": [],
   "source": [
    "def sum_sq_distance(array1,array2):\n",
    "    if len(array1) != len(array2):\n",
    "        raise ValueError(\"Arrays not of equal length\")\n",
    "    dist = 0\n",
    "    try:\n",
    "        x=len(array1[0])\n",
    "    except:\n",
    "        for i in range(len(array1)):\n",
    "            dist += (array1[i] - array2[i])**2\n",
    "    else:\n",
    "        for i in range(len(array1)):\n",
    "            for j in range(len(array1[i])):\n",
    "                dist += (array1[i][j] - array2[i][j])**2\n",
    "    return dist\n",
    "\n",
    "def sum_sqrt_sq_distance(array1,array2):\n",
    "    if len(array1) != len(array2):\n",
    "        raise ValueError(\"Arrays not of equal length\")\n",
    "    dist = 0\n",
    "    try:\n",
    "        x=len(array1[0])\n",
    "    except:\n",
    "        for i in range(len(array1)):\n",
    "            dist += (array1[i] - array2[i])**2\n",
    "    else:\n",
    "        for i in range(len(array1)):\n",
    "            for j in range(len(array1[i])):\n",
    "                dist += (array1[i][j] - array2[i][j])**2\n",
    "    return np.sqrt(dist)\n"
   ],
   "metadata": {
    "collapsed": false
   }
  },
  {
   "cell_type": "code",
   "execution_count": 146,
   "outputs": [],
   "source": [
    "def ABC_core(func,para_distro,reality,N,distance,rng):\n",
    "    \"\"\"\n",
    "    :param func: The function to iterate over\n",
    "    :param para_distro: An array of parameter values\n",
    "    :param N: The number of iterations for each parameter value\n",
    "    :param distance: The method for choosing a distance measure\n",
    "    :param rng: RNG\n",
    "    :return: An array of the parameter values with distance measures\n",
    "    \"\"\"\n",
    "\n",
    "    if distance == \"sum_sq\":\n",
    "        dis_func = sum_sq_distance\n",
    "    elif distance == \"sum_sqrt_sq\":\n",
    "        dis_func = sum_sqrt_sq_distance\n",
    "    else:\n",
    "        raise ValueError(\"Not a valid distance measure\")\n",
    "    output = np.array([[0,0]])\n",
    "    for parameter in para_distro:\n",
    "        for i in range(N):\n",
    "            dis = dis_func((func(parameter,rng)),reality)\n",
    "            out_pair = np.array([parameter,dis])\n",
    "            output = np.append(output,[out_pair],axis = 0)\n",
    "    print(\".\",end=\"\")\n",
    "    return output[1:]\n"
   ],
   "metadata": {
    "collapsed": false
   }
  },
  {
   "cell_type": "code",
   "execution_count": 147,
   "outputs": [],
   "source": [
    "def test(beta,rng):\n",
    "    noise = np.random.normal(0,0.2,size = 3)\n",
    "    return np.array([beta-1 + noise[0],beta + noise[1],beta+1 + noise[2]])"
   ],
   "metadata": {
    "collapsed": false
   }
  },
  {
   "cell_type": "code",
   "execution_count": null,
   "outputs": [],
   "source": [
    "def ABC_iterate(func,para_distro,reality,N,distance,rng,core_output):\n",
    "    peak = min(core_output[:,0])\n",
    "    sorted_output = core_output[core_output[:, 1].argsort()]\n",
    "    upper = sorted_output[0:len(sorted_output)/5,0]\n",
    "    new_paras = np.linespace(peak,upper,25)\n",
    "    return ABC_core(func,new_paras,reality,N,distance,rng)"
   ],
   "metadata": {
    "collapsed": false
   }
  },
  {
   "cell_type": "code",
   "execution_count": 148,
   "outputs": [],
   "source": [
    "reality = np.array([2,3,4])\n",
    "test_paras = np.array([1,2,3,4,5,6,7,8,9,10])"
   ],
   "metadata": {
    "collapsed": false
   }
  },
  {
   "cell_type": "code",
   "execution_count": 149,
   "outputs": [
    {
     "name": "stdout",
     "output_type": "stream",
     "text": [
      "[3.2326884  3.78754435 4.94445774]\n",
      "[2 3 4]\n"
     ]
    }
   ],
   "source": [
    "rng = np.random.default_rng(1912)\n",
    "print(test(4,rng))\n",
    "print(reality)"
   ],
   "metadata": {
    "collapsed": false
   }
  },
  {
   "cell_type": "code",
   "execution_count": 150,
   "outputs": [],
   "source": [
    "rng = np.random.default_rng(1912)\n",
    "tested_ABC = ABC_core(test,test_paras,reality,100,\"sum_sq\",rng=rng)"
   ],
   "metadata": {
    "collapsed": false
   }
  },
  {
   "cell_type": "code",
   "execution_count": 151,
   "outputs": [
    {
     "name": "stderr",
     "output_type": "stream",
     "text": [
      "C:\\Users\\ollie\\AppData\\Local\\Temp\\ipykernel_24680\\1166730926.py:3: UserWarning: Matplotlib is currently using module://matplotlib_inline.backend_inline, which is a non-GUI backend, so cannot show the figure.\n",
      "  fig.show()\n"
     ]
    },
    {
     "data": {
      "text/plain": "<Figure size 640x480 with 1 Axes>",
      "image/png": "[encoded data removed]"
     },
     "metadata": {},
     "output_type": "display_data"
    }
   ],
   "source": [
    "fig, ax0 = plt.subplots()\n",
    "ax0.scatter(tested_ABC[:,0],tested_ABC[:,1])\n",
    "fig.show()"
   ],
   "metadata": {
    "collapsed": false
   }
  },
  {
   "cell_type": "code",
   "execution_count": 152,
   "outputs": [
    {
     "name": "stdout",
     "output_type": "stream",
     "text": [
      "11.0\n",
      "Reality took 0.0530695915222168 seconds to run!\n"
     ]
    }
   ],
   "source": [
    "X0 = [999, 1, 0]\n",
    "gamma = 1\n",
    "beta = 3\n",
    "mu = 0\n",
    "tstep = 0.05\n",
    "test_time = 100\n",
    "tmax = float(Decimal(tstep) * (Decimal(timed_sir(X0, mu, beta, gamma, test_time, rng) )/ Decimal(tstep)).quantize(1,rounding=ROUND_UP))\n",
    "rng = np.random.default_rng(1)\n",
    "print(tmax)\n",
    "start_time = time.time()\n",
    "reality = no_ext_sir(X0, mu, beta, gamma, tmax, tstep, rng)\n",
    "print(f\"Reality took {time.time() - start_time} seconds to run!\")"
   ],
   "metadata": {
    "collapsed": false
   }
  },
  {
   "cell_type": "code",
   "execution_count": 154,
   "outputs": [],
   "source": [
    "betas = np.arange(1,5,0.1)\n",
    "def sim_sir(bet,model_rng):\n",
    "    return no_ext_sir(X0, mu, bet, gamma, tmax, tstep, model_rng)\n",
    "applied_ABC = ABC_core(sim_sir,betas,reality,1000,\"sum_sq\",rng)"
   ],
   "metadata": {
    "collapsed": false
   }
  },
  {
   "cell_type": "code",
   "execution_count": 155,
   "outputs": [
    {
     "name": "stdout",
     "output_type": "stream",
     "text": [
      "[[1.00000000e+00 2.35483930e+08]\n",
      " [1.00000000e+00 2.47983948e+08]\n",
      " [1.00000000e+00 2.46866416e+08]\n",
      " ...\n",
      " [4.90000000e+00 1.86948860e+07]\n",
      " [4.90000000e+00 2.75551680e+07]\n",
      " [4.90000000e+00 2.29689400e+07]]\n"
     ]
    }
   ],
   "source": [
    "print(applied_ABC)"
   ],
   "metadata": {
    "collapsed": false
   }
  },
  {
   "cell_type": "code",
   "execution_count": 160,
   "outputs": [],
   "source": [
    "np.savetxt(\"../../Home made ABC Results/traj1.csv\",applied_ABC,delimiter=\",\")"
   ],
   "metadata": {
    "collapsed": false
   }
  },
  {
   "cell_type": "code",
   "execution_count": 193,
   "outputs": [],
   "source": [
    "def ABC_rejection(epsilon,core_output):\n",
    "    return core_output[core_output[:,1] <= epsilon]"
   ],
   "metadata": {
    "collapsed": false
   }
  },
  {
   "cell_type": "code",
   "execution_count": 211,
   "outputs": [],
   "source": [
    "thresholded_ABC = ABC_rejection(5e6,applied_ABC)"
   ],
   "metadata": {
    "collapsed": false
   }
  },
  {
   "cell_type": "code",
   "execution_count": 212,
   "outputs": [
    {
     "name": "stdout",
     "output_type": "stream",
     "text": [
      "[[2.200000e+00 4.983384e+06]\n",
      " [2.200000e+00 4.637542e+06]\n",
      " [2.200000e+00 3.648130e+06]\n",
      " ...\n",
      " [4.900000e+00 2.359126e+06]\n",
      " [4.900000e+00 2.807202e+06]\n",
      " [4.900000e+00 2.701662e+06]]\n"
     ]
    }
   ],
   "source": [
    "print(thresholded_ABC)"
   ],
   "metadata": {
    "collapsed": false
   }
  },
  {
   "cell_type": "code",
   "execution_count": 215,
   "outputs": [],
   "source": [
    "result = pd.DataFrame(thresholded_ABC, columns=[\"Beta\",\"Counts\"])\n",
    "bet_dis = result.groupby(\"Beta\").count()"
   ],
   "metadata": {
    "collapsed": false
   }
  },
  {
   "cell_type": "code",
   "execution_count": 218,
   "outputs": [],
   "source": [
    "mles = np.genfromtxt(\"../../Data/R0_3/Fitted/MLE_b_I0_1_3.csv\")\n",
    "mle1 = mles[0]"
   ],
   "metadata": {
    "collapsed": false
   }
  },
  {
   "cell_type": "code",
   "execution_count": 221,
   "outputs": [
    {
     "name": "stderr",
     "output_type": "stream",
     "text": [
      "C:\\Users\\ollie\\AppData\\Local\\Temp\\ipykernel_24680\\3856519812.py:4: UserWarning: Matplotlib is currently using module://matplotlib_inline.backend_inline, which is a non-GUI backend, so cannot show the figure.\n",
      "  fig.show()\n"
     ]
    },
    {
     "data": {
      "text/plain": "<Figure size 640x480 with 1 Axes>",
      "image/png": "[encoded data removed]"
     },
     "metadata": {},
     "output_type": "display_data"
    }
   ],
   "source": [
    "fig, ax0 = plt.subplots()\n",
    "sns.scatterplot(bet_dis)\n",
    "ax0.axvline(mle1, color = \"red\")\n",
    "fig.show()"
   ],
   "metadata": {
    "collapsed": false
   }
  },
  {
   "cell_type": "code",
   "execution_count": null,
   "outputs": [],
   "source": [],
   "metadata": {
    "collapsed": false
   }
  }
 ],
 "metadata": {
  "kernelspec": {
   "display_name": "Python 3",
   "language": "python",
   "name": "python3"
  },
  "language_info": {
   "codemirror_mode": {
    "name": "ipython",
    "version": 2
   },
   "file_extension": ".py",
   "mimetype": "text/x-python",
   "name": "python",
   "nbconvert_exporter": "python",
   "pygments_lexer": "ipython2",
   "version": "2.7.6"
  }
 },
 "nbformat": 4,
 "nbformat_minor": 0
}
