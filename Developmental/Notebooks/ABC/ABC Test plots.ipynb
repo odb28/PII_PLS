{
 "cells": [
  {
   "cell_type": "code",
   "execution_count": 1,
   "metadata": {
    "collapsed": true
   },
   "outputs": [],
   "source": [
    "import numpy as np\n",
    "from matplotlib import pyplot as plt\n",
    "import seaborn as sns\n",
    "import scipy as sp\n",
    "from src.baseSIR import no_ext_sir\n",
    "from src.baseSIR import timed_sir\n",
    "from src.baseSIR import real_si\n",
    "from decimal import Decimal, ROUND_UP\n",
    "import time\n",
    "import pandas as pd\n",
    "from src.ABC import ABC_rejection\n",
    "from src.ABC import ABC_core\n",
    "from src.ABC import sum_sqrt_sq_distance"
   ]
  },
  {
   "cell_type": "code",
   "execution_count": 2,
   "outputs": [],
   "source": [
    "distance_measure_array = [\"sum_sq\",\"sum_sqrt_sq\",\"mixed\",\"rinf\"]\n",
    "dis = distance_measure_array[1]"
   ],
   "metadata": {
    "collapsed": false
   }
  },
  {
   "cell_type": "code",
   "execution_count": 3,
   "outputs": [
    {
     "ename": "FileNotFoundError",
     "evalue": "../../Home made ABC Results/Traj1_10b_sum_sqrt_sq_ext_widerB.csv not found.",
     "output_type": "error",
     "traceback": [
      "\u001B[1;31m---------------------------------------------------------------------------\u001B[0m",
      "\u001B[1;31mFileNotFoundError\u001B[0m                         Traceback (most recent call last)",
      "Cell \u001B[1;32mIn[3], line 7\u001B[0m\n\u001B[0;32m      5\u001B[0m applied_ABC1 \u001B[38;5;241m=\u001B[39m np\u001B[38;5;241m.\u001B[39mgenfromtxt(\u001B[38;5;124mf\u001B[39m\u001B[38;5;124m\"\u001B[39m\u001B[38;5;124m../../Home made ABC Results/Traj1_1000b_\u001B[39m\u001B[38;5;132;01m{\u001B[39;00mdis\u001B[38;5;132;01m}\u001B[39;00m\u001B[38;5;124m_ext_wideB.csv\u001B[39m\u001B[38;5;124m\"\u001B[39m,delimiter\u001B[38;5;241m=\u001B[39m\u001B[38;5;124m\"\u001B[39m\u001B[38;5;124m,\u001B[39m\u001B[38;5;124m\"\u001B[39m)\n\u001B[0;32m      6\u001B[0m applied_ABC2 \u001B[38;5;241m=\u001B[39m np\u001B[38;5;241m.\u001B[39mgenfromtxt(\u001B[38;5;124mf\u001B[39m\u001B[38;5;124m\"\u001B[39m\u001B[38;5;124m../../Home made ABC Results/Traj1_100b_\u001B[39m\u001B[38;5;132;01m{\u001B[39;00mdis\u001B[38;5;132;01m}\u001B[39;00m\u001B[38;5;124m_ext_wideB.csv\u001B[39m\u001B[38;5;124m\"\u001B[39m,delimiter\u001B[38;5;241m=\u001B[39m\u001B[38;5;124m\"\u001B[39m\u001B[38;5;124m,\u001B[39m\u001B[38;5;124m\"\u001B[39m)\n\u001B[1;32m----> 7\u001B[0m applied_ABC3 \u001B[38;5;241m=\u001B[39m \u001B[43mnp\u001B[49m\u001B[38;5;241;43m.\u001B[39;49m\u001B[43mgenfromtxt\u001B[49m\u001B[43m(\u001B[49m\u001B[38;5;124;43mf\u001B[39;49m\u001B[38;5;124;43m\"\u001B[39;49m\u001B[38;5;124;43m../../Home made ABC Results/Traj1_10b_\u001B[39;49m\u001B[38;5;132;43;01m{\u001B[39;49;00m\u001B[43mdis\u001B[49m\u001B[38;5;132;43;01m}\u001B[39;49;00m\u001B[38;5;124;43m_ext_widerB.csv\u001B[39;49m\u001B[38;5;124;43m\"\u001B[39;49m\u001B[43m,\u001B[49m\u001B[43mdelimiter\u001B[49m\u001B[38;5;241;43m=\u001B[39;49m\u001B[38;5;124;43m\"\u001B[39;49m\u001B[38;5;124;43m,\u001B[39;49m\u001B[38;5;124;43m\"\u001B[39;49m\u001B[43m)\u001B[49m\n",
      "File \u001B[1;32m~\\anaconda3\\envs\\PLS Research\\lib\\site-packages\\numpy\\lib\\npyio.py:1980\u001B[0m, in \u001B[0;36mgenfromtxt\u001B[1;34m(fname, dtype, comments, delimiter, skip_header, skip_footer, converters, missing_values, filling_values, usecols, names, excludelist, deletechars, replace_space, autostrip, case_sensitive, defaultfmt, unpack, usemask, loose, invalid_raise, max_rows, encoding, ndmin, like)\u001B[0m\n\u001B[0;32m   1978\u001B[0m     fname \u001B[38;5;241m=\u001B[39m os_fspath(fname)\n\u001B[0;32m   1979\u001B[0m \u001B[38;5;28;01mif\u001B[39;00m \u001B[38;5;28misinstance\u001B[39m(fname, \u001B[38;5;28mstr\u001B[39m):\n\u001B[1;32m-> 1980\u001B[0m     fid \u001B[38;5;241m=\u001B[39m \u001B[43mnp\u001B[49m\u001B[38;5;241;43m.\u001B[39;49m\u001B[43mlib\u001B[49m\u001B[38;5;241;43m.\u001B[39;49m\u001B[43m_datasource\u001B[49m\u001B[38;5;241;43m.\u001B[39;49m\u001B[43mopen\u001B[49m\u001B[43m(\u001B[49m\u001B[43mfname\u001B[49m\u001B[43m,\u001B[49m\u001B[43m \u001B[49m\u001B[38;5;124;43m'\u001B[39;49m\u001B[38;5;124;43mrt\u001B[39;49m\u001B[38;5;124;43m'\u001B[39;49m\u001B[43m,\u001B[49m\u001B[43m \u001B[49m\u001B[43mencoding\u001B[49m\u001B[38;5;241;43m=\u001B[39;49m\u001B[43mencoding\u001B[49m\u001B[43m)\u001B[49m\n\u001B[0;32m   1981\u001B[0m     fid_ctx \u001B[38;5;241m=\u001B[39m contextlib\u001B[38;5;241m.\u001B[39mclosing(fid)\n\u001B[0;32m   1982\u001B[0m \u001B[38;5;28;01melse\u001B[39;00m:\n",
      "File \u001B[1;32m~\\anaconda3\\envs\\PLS Research\\lib\\site-packages\\numpy\\lib\\_datasource.py:193\u001B[0m, in \u001B[0;36mopen\u001B[1;34m(path, mode, destpath, encoding, newline)\u001B[0m\n\u001B[0;32m    156\u001B[0m \u001B[38;5;250m\u001B[39m\u001B[38;5;124;03m\"\"\"\u001B[39;00m\n\u001B[0;32m    157\u001B[0m \u001B[38;5;124;03mOpen `path` with `mode` and return the file object.\u001B[39;00m\n\u001B[0;32m    158\u001B[0m \n\u001B[1;32m   (...)\u001B[0m\n\u001B[0;32m    189\u001B[0m \n\u001B[0;32m    190\u001B[0m \u001B[38;5;124;03m\"\"\"\u001B[39;00m\n\u001B[0;32m    192\u001B[0m ds \u001B[38;5;241m=\u001B[39m DataSource(destpath)\n\u001B[1;32m--> 193\u001B[0m \u001B[38;5;28;01mreturn\u001B[39;00m \u001B[43mds\u001B[49m\u001B[38;5;241;43m.\u001B[39;49m\u001B[43mopen\u001B[49m\u001B[43m(\u001B[49m\u001B[43mpath\u001B[49m\u001B[43m,\u001B[49m\u001B[43m \u001B[49m\u001B[43mmode\u001B[49m\u001B[43m,\u001B[49m\u001B[43m \u001B[49m\u001B[43mencoding\u001B[49m\u001B[38;5;241;43m=\u001B[39;49m\u001B[43mencoding\u001B[49m\u001B[43m,\u001B[49m\u001B[43m \u001B[49m\u001B[43mnewline\u001B[49m\u001B[38;5;241;43m=\u001B[39;49m\u001B[43mnewline\u001B[49m\u001B[43m)\u001B[49m\n",
      "File \u001B[1;32m~\\anaconda3\\envs\\PLS Research\\lib\\site-packages\\numpy\\lib\\_datasource.py:533\u001B[0m, in \u001B[0;36mDataSource.open\u001B[1;34m(self, path, mode, encoding, newline)\u001B[0m\n\u001B[0;32m    530\u001B[0m     \u001B[38;5;28;01mreturn\u001B[39;00m _file_openers[ext](found, mode\u001B[38;5;241m=\u001B[39mmode,\n\u001B[0;32m    531\u001B[0m                               encoding\u001B[38;5;241m=\u001B[39mencoding, newline\u001B[38;5;241m=\u001B[39mnewline)\n\u001B[0;32m    532\u001B[0m \u001B[38;5;28;01melse\u001B[39;00m:\n\u001B[1;32m--> 533\u001B[0m     \u001B[38;5;28;01mraise\u001B[39;00m \u001B[38;5;167;01mFileNotFoundError\u001B[39;00m(\u001B[38;5;124mf\u001B[39m\u001B[38;5;124m\"\u001B[39m\u001B[38;5;132;01m{\u001B[39;00mpath\u001B[38;5;132;01m}\u001B[39;00m\u001B[38;5;124m not found.\u001B[39m\u001B[38;5;124m\"\u001B[39m)\n",
      "\u001B[1;31mFileNotFoundError\u001B[0m: ../../Home made ABC Results/Traj1_10b_sum_sqrt_sq_ext_widerB.csv not found."
     ]
    }
   ],
   "source": [
    "#applied_ABC1 = np.genfromtxt(\"../../Home made ABC Results/Traj_fixed_g_1_N_1000_b_3.csv\",delimiter=\",\")\n",
    "#applied_ABC2 = np.genfromtxt(\"../../Home made ABC Results/Traj_fixed_g_1_N_100_b_3.csv\",delimiter=\",\")\n",
    "#applied_ABC3 = np.genfromtxt(\"../../Home made ABC Results/Traj_fixed_g_1_N_10_b_3.csv\",delimiter=\",\")\n",
    "\n",
    "applied_ABC1 = np.genfromtxt(f\"../../Home made ABC Results/Traj1_1000b_{dis}_ext_wideB.csv\",delimiter=\",\")\n",
    "applied_ABC2 = np.genfromtxt(f\"../../Home made ABC Results/Traj1_100b_{dis}_ext_wideB.csv\",delimiter=\",\")\n",
    "applied_ABC3 = np.genfromtxt(f\"../../Home made ABC Results/Traj1_10b_{dis}_ext_widerB.csv\",delimiter=\",\")"
   ],
   "metadata": {
    "collapsed": false
   }
  },
  {
   "cell_type": "code",
   "execution_count": null,
   "outputs": [],
   "source": [
    "def threshold_scheduler(results,threshold_references):\n",
    "    sort_res = results.sort_values(by=\"Distance\")\n",
    "    output = []\n",
    "    for i in threshold_references:\n",
    "        temp = sort_res.iloc[0:int(len(sort_res.index)/(100/i))]\n",
    "        output.append(temp.iloc[-1,1])\n",
    "    return output\n"
   ],
   "metadata": {
    "collapsed": false
   }
  },
  {
   "cell_type": "code",
   "execution_count": null,
   "outputs": [],
   "source": [
    "graph_ABC = applied_ABC3\n",
    "reference = [1,2,5,10,20,50]"
   ],
   "metadata": {
    "collapsed": false
   }
  },
  {
   "cell_type": "code",
   "execution_count": null,
   "outputs": [],
   "source": [
    "df_ABC = pd.DataFrame(graph_ABC, columns=[\"Beta\",\"Distance\"])\n",
    "threshold_schedule = threshold_scheduler(df_ABC,reference)"
   ],
   "metadata": {
    "collapsed": false
   }
  },
  {
   "cell_type": "code",
   "execution_count": null,
   "outputs": [],
   "source": [
    "fig, ax0 = plt.subplots(figsize = (8,8))\n",
    "cols = sns.color_palette(\"rocket\",n_colors=10)\n",
    "for i in range(len(threshold_schedule)):\n",
    "\n",
    "    thresh = ABC_rejection(threshold_schedule[i],graph_ABC)\n",
    "    ploted = pd.DataFrame(thresh, columns=[\"Beta\",\"Counts\"])\n",
    "    bet_dis = ploted.groupby(\"Beta\").count()\n",
    "    plot_bet_dis = bet_dis[bet_dis[\"Counts\"] !=0 ]\n",
    "    max_scale = max(plot_bet_dis[\"Counts\"])\n",
    "    plot_bet_dis[\"Counts\"] = plot_bet_dis[\"Counts\"]/max_scale\n",
    "    spline = sp.interpolate.splrep(plot_bet_dis.index,plot_bet_dis[\"Counts\"],s=0)\n",
    "    ax0.scatter(bet_dis.index,plot_bet_dis[\"Counts\"], label = f\"Threshold= {reference[i]}% accepted\",color = cols[i], alpha = 0.25)\n",
    "    ax0.plot(plot_bet_dis.index,sp.interpolate.BSpline(*spline)(plot_bet_dis.index), color = cols[i])\n",
    "mles = np.genfromtxt(\"../../Data/R0_3/Fitted/MLE_b_3.csv\")\n",
    "mle1 = mles[0]\n",
    "ax0.set_ylabel(\"Proportion accepted compared to Max\")\n",
    "ax0.set_xlabel(\"Beta\")\n",
    "ax0.axvline(mle1, color = \"red\")\n",
    "ax0.legend(bbox_to_anchor = (1,1))\n",
    "ax0.set_ylim(0,1.05)\n",
    "#ax0.set_xlim(1,5)\n",
    "fig.show()"
   ],
   "metadata": {
    "collapsed": false
   }
  },
  {
   "cell_type": "code",
   "execution_count": null,
   "outputs": [],
   "source": [],
   "metadata": {
    "collapsed": false
   }
  },
  {
   "cell_type": "code",
   "execution_count": null,
   "outputs": [],
   "source": [
    "import numpy as np\n",
    "from src.PLS.metaSIR import meta_no_ext_sir\n",
    "from src.PLS.metaSIR import meta_sir\n",
    "from src.PLS.metaSIR import meta_timed_sir\n",
    "from decimal import Decimal, ROUND_UP\n",
    "import time\n",
    "from src.PLS.metaSIR import basic_square_map\n",
    "from src.PLS.metaSIR import straight_line_distances\n",
    "from src.PLS.metaSIR import basic_kernel\n",
    "\n",
    "distance_measure_array = [\"sum_sq\",\"sum_sqrt_sq\",\"mixed\",\"rinf\",\"meta\"]\n",
    "dis = distance_measure_array[-1]\n",
    "seed = 1\n",
    "N = 4\n",
    "test_map = basic_square_map(N)\n",
    "test_distances = straight_line_distances(test_map,N,scaling=10)\n",
    "\n",
    "R0 = 5\n",
    "gamma = 1\n",
    "X0 = [[999,1,0]]\n",
    "div = sum(X0[0])\n",
    "for i in range(N-1):\n",
    "    X0.append([1000,0,0])\n",
    "beta = R0/div\n",
    "rng = np.random.default_rng(seed)\n",
    "tstep = 0.01\n",
    "tmax = 100\n",
    "tmax = float(Decimal(tstep) * (Decimal(meta_timed_sir(X0,beta,gamma,N,test_distances,basic_kernel,tmax,tstep,rng) )/ Decimal(tstep)).quantize(1,rounding=ROUND_UP))\n",
    "rng = np.random.default_rng(seed)\n",
    "\n",
    "reality = meta_no_ext_sir(X0,beta,gamma,N,test_distances,basic_kernel,tmax,tstep,rng)"
   ],
   "metadata": {
    "collapsed": false
   }
  },
  {
   "cell_type": "code",
   "execution_count": null,
   "outputs": [],
   "source": [],
   "metadata": {
    "collapsed": false
   }
  }
 ],
 "metadata": {
  "kernelspec": {
   "display_name": "Python 3",
   "language": "python",
   "name": "python3"
  },
  "language_info": {
   "codemirror_mode": {
    "name": "ipython",
    "version": 2
   },
   "file_extension": ".py",
   "mimetype": "text/x-python",
   "name": "python",
   "nbconvert_exporter": "python",
   "pygments_lexer": "ipython2",
   "version": "2.7.6"
  }
 },
 "nbformat": 4,
 "nbformat_minor": 0
}
