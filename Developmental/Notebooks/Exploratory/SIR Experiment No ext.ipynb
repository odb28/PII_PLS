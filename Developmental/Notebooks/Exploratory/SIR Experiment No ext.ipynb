{
 "cells": [
  {
   "cell_type": "code",
   "execution_count": 6,
   "metadata": {
    "collapsed": true
   },
   "outputs": [
    {
     "name": "stdout",
     "output_type": "stream",
     "text": [
      "Reality took 0.027016639709472656 seconds to run!\n"
     ]
    }
   ],
   "source": [
    "import time\n",
    "import numpy as np\n",
    "import pymc as pm\n",
    "from src.baseSIR import no_ext_sir\n",
    "from src.baseSIR import real_sir\n",
    "import arviz as az\n",
    "\n",
    "\n",
    "\n",
    "#Initialise RNG\n",
    "seed = 1\n",
    "rng = np.random.default_rng(seed)\n",
    "def sim_sir(model_rng, b, g, size=None):\n",
    "    return no_ext_sir(X0, mu, b, g, tmax, tstep, rng) * factor\n",
    "\n",
    "\n",
    "# Run the \"real world\"\n",
    "X0 = [900, 100, 0]\n",
    "beta = 3\n",
    "gamma = 1\n",
    "mu = 0\n",
    "tmax = 10\n",
    "tstep = 0.05\n",
    "start_time = time.time()\n",
    "reality = no_ext_sir(X0, mu, beta, gamma, tmax, tstep,rng)\n",
    "#rng = np.random.default_rng(seed)\n",
    "#test_reality = real_sir(X0, mu, beta, gamma, tmax, tstep,rng)\n",
    "#print(f\"The New function gives a {test_reality == reality} result!\")\n",
    "print(f\"Reality took {time.time() - start_time} seconds to run!\")"
   ]
  },
  {
   "cell_type": "code",
   "execution_count": 11,
   "outputs": [
    {
     "name": "stdout",
     "output_type": "stream",
     "text": [
      "[[900 100   0]\n",
      " [885 106   9]\n",
      " [872 112  16]\n",
      " [854 128  18]\n",
      " [840 139  21]\n",
      " [826 145  29]\n",
      " [801 164  35]\n",
      " [776 184  40]\n",
      " [756 198  46]\n",
      " [730 219  51]\n",
      " [709 223  68]\n",
      " [680 240  80]\n",
      " [656 253  91]\n",
      " [636 256 108]\n",
      " [622 253 125]\n",
      " [595 268 137]\n",
      " [570 285 145]\n",
      " [547 301 152]\n",
      " [526 308 166]\n",
      " [505 313 182]\n",
      " [485 321 194]\n",
      " [456 333 211]\n",
      " [428 342 230]\n",
      " [408 349 243]\n",
      " [384 360 256]\n",
      " [365 364 271]\n",
      " [345 373 282]\n",
      " [317 380 303]\n",
      " [296 380 324]\n",
      " [276 381 343]\n",
      " [256 381 363]\n",
      " [234 388 378]\n",
      " [221 378 401]\n",
      " [210 371 419]\n",
      " [197 366 437]\n",
      " [183 366 451]\n",
      " [174 357 469]\n",
      " [167 345 488]\n",
      " [154 338 508]\n",
      " [149 329 522]\n",
      " [138 323 539]\n",
      " [132 313 555]\n",
      " [127 305 568]\n",
      " [123 300 577]\n",
      " [116 291 593]\n",
      " [107 287 606]\n",
      " [102 281 617]\n",
      " [ 97 270 633]\n",
      " [ 93 266 641]\n",
      " [ 87 264 649]\n",
      " [ 81 257 662]\n",
      " [ 79 248 673]\n",
      " [ 77 238 685]\n",
      " [ 74 233 693]\n",
      " [ 71 228 701]\n",
      " [ 69 216 715]\n",
      " [ 64 203 733]\n",
      " [ 62 192 746]\n",
      " [ 57 191 752]\n",
      " [ 56 179 765]\n",
      " [ 55 170 775]\n",
      " [ 53 162 785]\n",
      " [ 52 155 793]\n",
      " [ 51 147 802]\n",
      " [ 50 142 808]\n",
      " [ 49 137 814]\n",
      " [ 49 129 822]\n",
      " [ 47 126 827]\n",
      " [ 44 125 831]\n",
      " [ 44 116 840]\n",
      " [ 44 109 847]\n",
      " [ 44 105 851]\n",
      " [ 44 102 854]\n",
      " [ 44 100 856]\n",
      " [ 44  97 859]\n",
      " [ 44  91 865]\n",
      " [ 43  84 873]\n",
      " [ 43  80 877]\n",
      " [ 42  80 878]\n",
      " [ 40  80 880]\n",
      " [ 40  77 883]\n",
      " [ 40  74 886]\n",
      " [ 40  71 889]\n",
      " [ 39  70 891]\n",
      " [ 39  70 891]\n",
      " [ 38  68 894]\n",
      " [ 37  65 898]\n",
      " [ 37  63 900]\n",
      " [ 37  60 903]\n",
      " [ 36  55 909]\n",
      " [ 36  51 913]\n",
      " [ 36  48 916]\n",
      " [ 36  46 918]\n",
      " [ 35  45 920]\n",
      " [ 35  41 924]\n",
      " [ 35  40 925]\n",
      " [ 35  40 925]\n",
      " [ 34  39 927]\n",
      " [ 33  38 929]\n",
      " [ 32  38 930]\n",
      " [ 32  37 931]\n",
      " [ 32  34 934]\n",
      " [ 32  33 935]\n",
      " [ 31  32 937]\n",
      " [ 31  26 943]\n",
      " [ 31  25 944]\n",
      " [ 31  25 944]\n",
      " [ 30  22 948]\n",
      " [ 29  21 950]\n",
      " [ 29  21 950]\n",
      " [ 29  19 952]\n",
      " [ 29  18 953]\n",
      " [ 29  18 953]\n",
      " [ 29  17 954]\n",
      " [ 29  16 955]\n",
      " [ 29  16 955]\n",
      " [ 29  16 955]\n",
      " [ 29  14 957]\n",
      " [ 28  14 958]\n",
      " [ 28  12 960]\n",
      " [ 28  12 960]\n",
      " [ 28  11 961]\n",
      " [ 28  11 961]\n",
      " [ 28  11 961]\n",
      " [ 28  10 962]\n",
      " [ 28   9 963]\n",
      " [ 28   7 965]\n",
      " [ 28   7 965]\n",
      " [ 28   7 965]\n",
      " [ 28   7 965]\n",
      " [ 28   6 966]\n",
      " [ 28   6 966]\n",
      " [ 28   5 967]\n",
      " [ 28   5 967]\n",
      " [ 28   3 969]\n",
      " [ 28   3 969]\n",
      " [ 28   3 969]\n",
      " [ 28   3 969]\n",
      " [ 28   3 969]\n",
      " [ 28   3 969]\n",
      " [ 28   2 970]\n",
      " [ 28   2 970]\n",
      " [ 28   2 970]\n",
      " [ 28   2 970]\n",
      " [ 28   2 970]\n",
      " [ 28   2 970]\n",
      " [ 28   2 970]\n",
      " [ 28   2 970]\n",
      " [ 28   2 970]\n",
      " [ 28   2 970]\n",
      " [ 28   2 970]\n",
      " [ 28   2 970]\n",
      " [ 28   2 970]\n",
      " [ 28   2 970]\n",
      " [ 28   2 970]\n",
      " [ 28   1 971]\n",
      " [ 28   1 971]\n",
      " [ 28   1 971]\n",
      " [ 28   1 971]\n",
      " [ 28   1 971]\n",
      " [ 28   1 971]\n",
      " [ 28   1 971]\n",
      " [ 28   0 972]\n",
      " [ 28   0 972]\n",
      " [ 28   0 972]\n",
      " [ 28   0 972]\n",
      " [ 28   0 972]\n",
      " [ 28   0 972]\n",
      " [ 28   0 972]\n",
      " [ 28   0 972]\n",
      " [ 28   0 972]\n",
      " [ 28   0 972]\n",
      " [ 28   0 972]\n",
      " [ 28   0 972]\n",
      " [ 28   0 972]\n",
      " [ 28   0 972]\n",
      " [ 28   0 972]\n",
      " [ 28   0 972]\n",
      " [ 28   0 972]\n",
      " [ 28   0 972]\n",
      " [ 28   0 972]\n",
      " [ 28   0 972]\n",
      " [ 28   0 972]\n",
      " [ 28   0 972]\n",
      " [ 28   0 972]\n",
      " [ 28   0 972]\n",
      " [ 28   0 972]\n",
      " [ 28   0 972]\n",
      " [ 28   0 972]\n",
      " [ 28   0 972]\n",
      " [ 28   0 972]\n",
      " [ 28   0 972]\n",
      " [ 28   0 972]\n",
      " [ 28   0 972]\n",
      " [ 28   0 972]\n",
      " [ 28   0 972]\n",
      " [ 28   0 972]\n",
      " [ 28   0 972]\n",
      " [ 28   0 972]\n",
      " [ 28   0 972]]\n"
     ]
    }
   ],
   "source": [
    "print(reality)"
   ],
   "metadata": {
    "collapsed": false
   }
  },
  {
   "cell_type": "code",
   "execution_count": 7,
   "outputs": [
    {
     "name": "stderr",
     "output_type": "stream",
     "text": [
      "Initializing SMC sampler...\n",
      "Sampling 6 chains in 6 jobs\n"
     ]
    },
    {
     "name": "stdout",
     "output_type": "stream",
     "text": [
      "Resolution X3 took 303.45154428482056 seconds to fit!\n"
     ]
    },
    {
     "name": "stderr",
     "output_type": "stream",
     "text": [
      "C:\\Users\\ollie\\anaconda3\\envs\\PLS Research\\lib\\site-packages\\arviz\\data\\base.py:221: UserWarning: More chains (6) than draws (5). Passed array should have shape (chains, draws, *shape)\n",
      "  warnings.warn(\n"
     ]
    }
   ],
   "source": [
    "# Resolution X100\n",
    "X0 = [9, 1, 0]\n",
    "mu = 0\n",
    "tmax = 10\n",
    "tstep = 0.05\n",
    "factor = 100\n",
    "start_time = time.time()\n",
    "with pm.Model() as test:\n",
    "    b = pm.HalfNormal(\"b\", 5)\n",
    "    g = pm.HalfNormal(\"g\", 5)\n",
    "    s = pm.Simulator(\"s\", sim_sir, params=(b, g), epsilon=500, observed=reality)\n",
    "    idata3 = pm.sample_smc(progressbar=False)\n",
    "print(f\"Resolution X3 took {time.time() - start_time} seconds to fit!\")"
   ],
   "metadata": {
    "collapsed": false
   }
  },
  {
   "cell_type": "code",
   "execution_count": 8,
   "outputs": [
    {
     "data": {
      "text/plain": "<xarray.Dataset>\nDimensions:                  (chain: 6, draw: 5)\nCoordinates:\n  * chain                    (chain) int32 0 1 2 3 4 5\n  * draw                     (draw) int32 0 1 2 3 4\nData variables:\n    log_marginal_likelihood  (chain, draw) object nan nan nan ... nan nan -9.508\n    beta                     (chain, draw) object 0.00621795654296875 ... 1\n    accept_rate              (chain, draw) object 0.6218 0.4882 ... 0.04739\nAttributes:\n    created_at:                 2023-11-07T10:59:11.969301\n    arviz_version:              0.16.0\n    inference_library:          pymc\n    inference_library_version:  5.6.1\n    _n_draws:                   2000\n    threshold:                  0.5\n    _n_tune:                    9\n    correlation_threshold:      0.01\n    _t_sampling:                303.2604818344116",
      "text/html": "<div><svg style=\"position: absolute; width: 0; height: 0; overflow: hidden\">\n<defs>\n<symbol id=\"icon-database\" viewBox=\"0 0 32 32\">\n<path d=\"M16 0c-8.837 0-16 2.239-16 5v4c0 2.761 7.163 5 16 5s16-2.239 16-5v-4c0-2.761-7.163-5-16-5z\"></path>\n<path d=\"M16 17c-8.837 0-16-2.239-16-5v6c0 2.761 7.163 5 16 5s16-2.239 16-5v-6c0 2.761-7.163 5-16 5z\"></path>\n<path d=\"M16 26c-8.837 0-16-2.239-16-5v6c0 2.761 7.163 5 16 5s16-2.239 16-5v-6c0 2.761-7.163 5-16 5z\"></path>\n</symbol>\n<symbol id=\"icon-file-text2\" viewBox=\"0 0 32 32\">\n<path d=\"M28.681 7.159c-0.694-0.947-1.662-2.053-2.724-3.116s-2.169-2.030-3.116-2.724c-1.612-1.182-2.393-1.319-2.841-1.319h-15.5c-1.378 0-2.5 1.121-2.5 2.5v27c0 1.378 1.122 2.5 2.5 2.5h23c1.378 0 2.5-1.122 2.5-2.5v-19.5c0-0.448-0.137-1.23-1.319-2.841zM24.543 5.457c0.959 0.959 1.712 1.825 2.268 2.543h-4.811v-4.811c0.718 0.556 1.584 1.309 2.543 2.268zM28 29.5c0 0.271-0.229 0.5-0.5 0.5h-23c-0.271 0-0.5-0.229-0.5-0.5v-27c0-0.271 0.229-0.5 0.5-0.5 0 0 15.499-0 15.5 0v7c0 0.552 0.448 1 1 1h7v19.5z\"></path>\n<path d=\"M23 26h-14c-0.552 0-1-0.448-1-1s0.448-1 1-1h14c0.552 0 1 0.448 1 1s-0.448 1-1 1z\"></path>\n<path d=\"M23 22h-14c-0.552 0-1-0.448-1-1s0.448-1 1-1h14c0.552 0 1 0.448 1 1s-0.448 1-1 1z\"></path>\n<path d=\"M23 18h-14c-0.552 0-1-0.448-1-1s0.448-1 1-1h14c0.552 0 1 0.448 1 1s-0.448 1-1 1z\"></path>\n</symbol>\n</defs>\n</svg>\n<style>/* CSS stylesheet for displaying xarray objects in jupyterlab.\n *\n */\n\n:root {\n  --xr-font-color0: var(--jp-content-font-color0, rgba(0, 0, 0, 1));\n  --xr-font-color2: var(--jp-content-font-color2, rgba(0, 0, 0, 0.54));\n  --xr-font-color3: var(--jp-content-font-color3, rgba(0, 0, 0, 0.38));\n  --xr-border-color: var(--jp-border-color2, #e0e0e0);\n  --xr-disabled-color: var(--jp-layout-color3, #bdbdbd);\n  --xr-background-color: var(--jp-layout-color0, white);\n  --xr-background-color-row-even: var(--jp-layout-color1, white);\n  --xr-background-color-row-odd: var(--jp-layout-color2, #eeeeee);\n}\n\nhtml[theme=dark],\nbody[data-theme=dark],\nbody.vscode-dark {\n  --xr-font-color0: rgba(255, 255, 255, 1);\n  --xr-font-color2: rgba(255, 255, 255, 0.54);\n  --xr-font-color3: rgba(255, 255, 255, 0.38);\n  --xr-border-color: #1F1F1F;\n  --xr-disabled-color: #515151;\n  --xr-background-color: #111111;\n  --xr-background-color-row-even: #111111;\n  --xr-background-color-row-odd: #313131;\n}\n\n.xr-wrap {\n  display: block !important;\n  min-width: 300px;\n  max-width: 700px;\n}\n\n.xr-text-repr-fallback {\n  /* fallback to plain text repr when CSS is not injected (untrusted notebook) */\n  display: none;\n}\n\n.xr-header {\n  padding-top: 6px;\n  padding-bottom: 6px;\n  margin-bottom: 4px;\n  border-bottom: solid 1px var(--xr-border-color);\n}\n\n.xr-header > div,\n.xr-header > ul {\n  display: inline;\n  margin-top: 0;\n  margin-bottom: 0;\n}\n\n.xr-obj-type,\n.xr-array-name {\n  margin-left: 2px;\n  margin-right: 10px;\n}\n\n.xr-obj-type {\n  color: var(--xr-font-color2);\n}\n\n.xr-sections {\n  padding-left: 0 !important;\n  display: grid;\n  grid-template-columns: 150px auto auto 1fr 20px 20px;\n}\n\n.xr-section-item {\n  display: contents;\n}\n\n.xr-section-item input {\n  display: none;\n}\n\n.xr-section-item input + label {\n  color: var(--xr-disabled-color);\n}\n\n.xr-section-item input:enabled + label {\n  cursor: pointer;\n  color: var(--xr-font-color2);\n}\n\n.xr-section-item input:enabled + label:hover {\n  color: var(--xr-font-color0);\n}\n\n.xr-section-summary {\n  grid-column: 1;\n  color: var(--xr-font-color2);\n  font-weight: 500;\n}\n\n.xr-section-summary > span {\n  display: inline-block;\n  padding-left: 0.5em;\n}\n\n.xr-section-summary-in:disabled + label {\n  color: var(--xr-font-color2);\n}\n\n.xr-section-summary-in + label:before {\n  display: inline-block;\n  content: '►';\n  font-size: 11px;\n  width: 15px;\n  text-align: center;\n}\n\n.xr-section-summary-in:disabled + label:before {\n  color: var(--xr-disabled-color);\n}\n\n.xr-section-summary-in:checked + label:before {\n  content: '▼';\n}\n\n.xr-section-summary-in:checked + label > span {\n  display: none;\n}\n\n.xr-section-summary,\n.xr-section-inline-details {\n  padding-top: 4px;\n  padding-bottom: 4px;\n}\n\n.xr-section-inline-details {\n  grid-column: 2 / -1;\n}\n\n.xr-section-details {\n  display: none;\n  grid-column: 1 / -1;\n  margin-bottom: 5px;\n}\n\n.xr-section-summary-in:checked ~ .xr-section-details {\n  display: contents;\n}\n\n.xr-array-wrap {\n  grid-column: 1 / -1;\n  display: grid;\n  grid-template-columns: 20px auto;\n}\n\n.xr-array-wrap > label {\n  grid-column: 1;\n  vertical-align: top;\n}\n\n.xr-preview {\n  color: var(--xr-font-color3);\n}\n\n.xr-array-preview,\n.xr-array-data {\n  padding: 0 5px !important;\n  grid-column: 2;\n}\n\n.xr-array-data,\n.xr-array-in:checked ~ .xr-array-preview {\n  display: none;\n}\n\n.xr-array-in:checked ~ .xr-array-data,\n.xr-array-preview {\n  display: inline-block;\n}\n\n.xr-dim-list {\n  display: inline-block !important;\n  list-style: none;\n  padding: 0 !important;\n  margin: 0;\n}\n\n.xr-dim-list li {\n  display: inline-block;\n  padding: 0;\n  margin: 0;\n}\n\n.xr-dim-list:before {\n  content: '(';\n}\n\n.xr-dim-list:after {\n  content: ')';\n}\n\n.xr-dim-list li:not(:last-child):after {\n  content: ',';\n  padding-right: 5px;\n}\n\n.xr-has-index {\n  font-weight: bold;\n}\n\n.xr-var-list,\n.xr-var-item {\n  display: contents;\n}\n\n.xr-var-item > div,\n.xr-var-item label,\n.xr-var-item > .xr-var-name span {\n  background-color: var(--xr-background-color-row-even);\n  margin-bottom: 0;\n}\n\n.xr-var-item > .xr-var-name:hover span {\n  padding-right: 5px;\n}\n\n.xr-var-list > li:nth-child(odd) > div,\n.xr-var-list > li:nth-child(odd) > label,\n.xr-var-list > li:nth-child(odd) > .xr-var-name span {\n  background-color: var(--xr-background-color-row-odd);\n}\n\n.xr-var-name {\n  grid-column: 1;\n}\n\n.xr-var-dims {\n  grid-column: 2;\n}\n\n.xr-var-dtype {\n  grid-column: 3;\n  text-align: right;\n  color: var(--xr-font-color2);\n}\n\n.xr-var-preview {\n  grid-column: 4;\n}\n\n.xr-index-preview {\n  grid-column: 2 / 5;\n  color: var(--xr-font-color2);\n}\n\n.xr-var-name,\n.xr-var-dims,\n.xr-var-dtype,\n.xr-preview,\n.xr-attrs dt {\n  white-space: nowrap;\n  overflow: hidden;\n  text-overflow: ellipsis;\n  padding-right: 10px;\n}\n\n.xr-var-name:hover,\n.xr-var-dims:hover,\n.xr-var-dtype:hover,\n.xr-attrs dt:hover {\n  overflow: visible;\n  width: auto;\n  z-index: 1;\n}\n\n.xr-var-attrs,\n.xr-var-data,\n.xr-index-data {\n  display: none;\n  background-color: var(--xr-background-color) !important;\n  padding-bottom: 5px !important;\n}\n\n.xr-var-attrs-in:checked ~ .xr-var-attrs,\n.xr-var-data-in:checked ~ .xr-var-data,\n.xr-index-data-in:checked ~ .xr-index-data {\n  display: block;\n}\n\n.xr-var-data > table {\n  float: right;\n}\n\n.xr-var-name span,\n.xr-var-data,\n.xr-index-name div,\n.xr-index-data,\n.xr-attrs {\n  padding-left: 25px !important;\n}\n\n.xr-attrs,\n.xr-var-attrs,\n.xr-var-data,\n.xr-index-data {\n  grid-column: 1 / -1;\n}\n\ndl.xr-attrs {\n  padding: 0;\n  margin: 0;\n  display: grid;\n  grid-template-columns: 125px auto;\n}\n\n.xr-attrs dt,\n.xr-attrs dd {\n  padding: 0;\n  margin: 0;\n  float: left;\n  padding-right: 10px;\n  width: auto;\n}\n\n.xr-attrs dt {\n  font-weight: normal;\n  grid-column: 1;\n}\n\n.xr-attrs dt:hover span {\n  display: inline-block;\n  background: var(--xr-background-color);\n  padding-right: 10px;\n}\n\n.xr-attrs dd {\n  grid-column: 2;\n  white-space: pre-wrap;\n  word-break: break-all;\n}\n\n.xr-icon-database,\n.xr-icon-file-text2,\n.xr-no-icon {\n  display: inline-block;\n  vertical-align: middle;\n  width: 1em;\n  height: 1.5em !important;\n  stroke-width: 0;\n  stroke: currentColor;\n  fill: currentColor;\n}\n</style><pre class='xr-text-repr-fallback'>&lt;xarray.Dataset&gt;\nDimensions:                  (chain: 6, draw: 5)\nCoordinates:\n  * chain                    (chain) int32 0 1 2 3 4 5\n  * draw                     (draw) int32 0 1 2 3 4\nData variables:\n    log_marginal_likelihood  (chain, draw) object nan nan nan ... nan nan -9.508\n    beta                     (chain, draw) object 0.00621795654296875 ... 1\n    accept_rate              (chain, draw) object 0.6218 0.4882 ... 0.04739\nAttributes:\n    created_at:                 2023-11-07T10:59:11.969301\n    arviz_version:              0.16.0\n    inference_library:          pymc\n    inference_library_version:  5.6.1\n    _n_draws:                   2000\n    threshold:                  0.5\n    _n_tune:                    9\n    correlation_threshold:      0.01\n    _t_sampling:                303.2604818344116</pre><div class='xr-wrap' style='display:none'><div class='xr-header'><div class='xr-obj-type'>xarray.Dataset</div></div><ul class='xr-sections'><li class='xr-section-item'><input id='section-bc1dfe9a-3999-4bcf-a721-9252e5d1144d' class='xr-section-summary-in' type='checkbox' disabled ><label for='section-bc1dfe9a-3999-4bcf-a721-9252e5d1144d' class='xr-section-summary'  title='Expand/collapse section'>Dimensions:</label><div class='xr-section-inline-details'><ul class='xr-dim-list'><li><span class='xr-has-index'>chain</span>: 6</li><li><span class='xr-has-index'>draw</span>: 5</li></ul></div><div class='xr-section-details'></div></li><li class='xr-section-item'><input id='section-4260e622-40fb-4a9f-92e1-81f7ba7b6b3c' class='xr-section-summary-in' type='checkbox'  checked><label for='section-4260e622-40fb-4a9f-92e1-81f7ba7b6b3c' class='xr-section-summary' >Coordinates: <span>(2)</span></label><div class='xr-section-inline-details'></div><div class='xr-section-details'><ul class='xr-var-list'><li class='xr-var-item'><div class='xr-var-name'><span class='xr-has-index'>chain</span></div><div class='xr-var-dims'>(chain)</div><div class='xr-var-dtype'>int32</div><div class='xr-var-preview xr-preview'>0 1 2 3 4 5</div><input id='attrs-be3ea743-d65e-4b77-a8ba-95f16c521699' class='xr-var-attrs-in' type='checkbox' disabled><label for='attrs-be3ea743-d65e-4b77-a8ba-95f16c521699' title='Show/Hide attributes'><svg class='icon xr-icon-file-text2'><use xlink:href='#icon-file-text2'></use></svg></label><input id='data-ca380dfd-1a60-4555-a789-4ea669e0f8e8' class='xr-var-data-in' type='checkbox'><label for='data-ca380dfd-1a60-4555-a789-4ea669e0f8e8' title='Show/Hide data repr'><svg class='icon xr-icon-database'><use xlink:href='#icon-database'></use></svg></label><div class='xr-var-attrs'><dl class='xr-attrs'></dl></div><div class='xr-var-data'><pre>array([0, 1, 2, 3, 4, 5])</pre></div></li><li class='xr-var-item'><div class='xr-var-name'><span class='xr-has-index'>draw</span></div><div class='xr-var-dims'>(draw)</div><div class='xr-var-dtype'>int32</div><div class='xr-var-preview xr-preview'>0 1 2 3 4</div><input id='attrs-940317f5-23f1-4563-8a34-4ad95a7562fa' class='xr-var-attrs-in' type='checkbox' disabled><label for='attrs-940317f5-23f1-4563-8a34-4ad95a7562fa' title='Show/Hide attributes'><svg class='icon xr-icon-file-text2'><use xlink:href='#icon-file-text2'></use></svg></label><input id='data-f6bca841-54ba-4ec1-bf0b-db97f413d18a' class='xr-var-data-in' type='checkbox'><label for='data-f6bca841-54ba-4ec1-bf0b-db97f413d18a' title='Show/Hide data repr'><svg class='icon xr-icon-database'><use xlink:href='#icon-database'></use></svg></label><div class='xr-var-attrs'><dl class='xr-attrs'></dl></div><div class='xr-var-data'><pre>array([0, 1, 2, 3, 4])</pre></div></li></ul></div></li><li class='xr-section-item'><input id='section-592a6ef6-7974-4d94-a943-729aa6d28962' class='xr-section-summary-in' type='checkbox'  checked><label for='section-592a6ef6-7974-4d94-a943-729aa6d28962' class='xr-section-summary' >Data variables: <span>(3)</span></label><div class='xr-section-inline-details'></div><div class='xr-section-details'><ul class='xr-var-list'><li class='xr-var-item'><div class='xr-var-name'><span>log_marginal_likelihood</span></div><div class='xr-var-dims'>(chain, draw)</div><div class='xr-var-dtype'>object</div><div class='xr-var-preview xr-preview'>nan nan nan nan ... nan nan -9.508</div><input id='attrs-41a8b000-affa-424b-b135-66e85107d876' class='xr-var-attrs-in' type='checkbox' disabled><label for='attrs-41a8b000-affa-424b-b135-66e85107d876' title='Show/Hide attributes'><svg class='icon xr-icon-file-text2'><use xlink:href='#icon-file-text2'></use></svg></label><input id='data-c1f52046-3768-4afd-a52f-c520eb47b217' class='xr-var-data-in' type='checkbox'><label for='data-c1f52046-3768-4afd-a52f-c520eb47b217' title='Show/Hide data repr'><svg class='icon xr-icon-database'><use xlink:href='#icon-database'></use></svg></label><div class='xr-var-attrs'><dl class='xr-attrs'></dl></div><div class='xr-var-data'><pre>array([[nan, nan, nan, nan, -9.51092452535577],\n       [nan, nan, nan, nan, -9.5104834540043],\n       [nan, nan, nan, nan, -9.44671429304875],\n       [nan, nan, nan, nan, -9.487534890676454],\n       [nan, nan, nan, nan, -9.504026249933446],\n       [nan, nan, nan, nan, -9.508393344239275]], dtype=object)</pre></div></li><li class='xr-var-item'><div class='xr-var-name'><span>beta</span></div><div class='xr-var-dims'>(chain, draw)</div><div class='xr-var-dtype'>object</div><div class='xr-var-preview xr-preview'>0.00621795654296875 ... 1</div><input id='attrs-5f48b4eb-ce17-4d82-bbe3-8f89974791f6' class='xr-var-attrs-in' type='checkbox' disabled><label for='attrs-5f48b4eb-ce17-4d82-bbe3-8f89974791f6' title='Show/Hide attributes'><svg class='icon xr-icon-file-text2'><use xlink:href='#icon-file-text2'></use></svg></label><input id='data-4ecc2b52-8f87-42f9-a66f-9da6ae783cb4' class='xr-var-data-in' type='checkbox'><label for='data-4ecc2b52-8f87-42f9-a66f-9da6ae783cb4' title='Show/Hide data repr'><svg class='icon xr-icon-database'><use xlink:href='#icon-database'></use></svg></label><div class='xr-var-attrs'><dl class='xr-attrs'></dl></div><div class='xr-var-data'><pre>array([[0.00621795654296875, 0.06097881589084864, 0.20512724132083804,\n        0.55700293107166, 1],\n       [0.0066375732421875, 0.06284688971936703, 0.21797047862855834,\n        0.5943023965939629, 1],\n       [0.0062408447265625, 0.0611227648332715, 0.21188751078068435,\n        0.5720420038485396, 1],\n       [0.006622314453125, 0.06636037863790989, 0.225687373806295,\n        0.5908596257304388, 1],\n       [0.0063629150390625, 0.062214930541813374, 0.2140774811512074,\n        0.5733548628727418, 1],\n       [0.0063018798828125, 0.062398976646363735, 0.21945062209397292,\n        0.5824288277950307, 1]], dtype=object)</pre></div></li><li class='xr-var-item'><div class='xr-var-name'><span>accept_rate</span></div><div class='xr-var-dims'>(chain, draw)</div><div class='xr-var-dtype'>object</div><div class='xr-var-preview xr-preview'>0.6218 0.4882 ... 0.09671 0.04739</div><input id='attrs-ea223155-81da-48cb-b1ae-799971de8c62' class='xr-var-attrs-in' type='checkbox' disabled><label for='attrs-ea223155-81da-48cb-b1ae-799971de8c62' title='Show/Hide attributes'><svg class='icon xr-icon-file-text2'><use xlink:href='#icon-file-text2'></use></svg></label><input id='data-df360a25-0c11-4915-aad3-ab96a353b00d' class='xr-var-data-in' type='checkbox'><label for='data-df360a25-0c11-4915-aad3-ab96a353b00d' title='Show/Hide data repr'><svg class='icon xr-icon-database'><use xlink:href='#icon-database'></use></svg></label><div class='xr-var-attrs'><dl class='xr-attrs'></dl></div><div class='xr-var-data'><pre>array([[0.6218333333333333, 0.4881666666666667, 0.249,\n        0.09910714285714285, 0.049625],\n       [0.6145833333333334, 0.4886111111111111, 0.2370625, 0.09653125,\n        0.0488125],\n       [0.5998125, 0.4924, 0.23835714285714285, 0.09870833333333333,\n        0.04766666666666667],\n       [0.5881, 0.4692222222222222, 0.23395, 0.09422727272727273,\n        0.04405],\n       [0.61, 0.47888888888888886, 0.2427777777777778,\n        0.09596428571428571, 0.04925],\n       [0.6162142857142857, 0.48328571428571426, 0.24,\n        0.09671428571428571, 0.047392857142857146]], dtype=object)</pre></div></li></ul></div></li><li class='xr-section-item'><input id='section-52d42526-6f45-41e5-a095-0697f2a67493' class='xr-section-summary-in' type='checkbox'  ><label for='section-52d42526-6f45-41e5-a095-0697f2a67493' class='xr-section-summary' >Indexes: <span>(2)</span></label><div class='xr-section-inline-details'></div><div class='xr-section-details'><ul class='xr-var-list'><li class='xr-var-item'><div class='xr-index-name'><div>chain</div></div><div class='xr-index-preview'>PandasIndex</div><div></div><input id='index-ac0f72eb-f7fe-4a29-bc02-a61d26dd7985' class='xr-index-data-in' type='checkbox'/><label for='index-ac0f72eb-f7fe-4a29-bc02-a61d26dd7985' title='Show/Hide index repr'><svg class='icon xr-icon-database'><use xlink:href='#icon-database'></use></svg></label><div class='xr-index-data'><pre>PandasIndex(Index([0, 1, 2, 3, 4, 5], dtype=&#x27;int32&#x27;, name=&#x27;chain&#x27;))</pre></div></li><li class='xr-var-item'><div class='xr-index-name'><div>draw</div></div><div class='xr-index-preview'>PandasIndex</div><div></div><input id='index-3b54145b-7bcb-4c6c-8525-381d3ba5330f' class='xr-index-data-in' type='checkbox'/><label for='index-3b54145b-7bcb-4c6c-8525-381d3ba5330f' title='Show/Hide index repr'><svg class='icon xr-icon-database'><use xlink:href='#icon-database'></use></svg></label><div class='xr-index-data'><pre>PandasIndex(Index([0, 1, 2, 3, 4], dtype=&#x27;int32&#x27;, name=&#x27;draw&#x27;))</pre></div></li></ul></div></li><li class='xr-section-item'><input id='section-d4047adf-0849-49c9-bf37-033a76293117' class='xr-section-summary-in' type='checkbox'  checked><label for='section-d4047adf-0849-49c9-bf37-033a76293117' class='xr-section-summary' >Attributes: <span>(9)</span></label><div class='xr-section-inline-details'></div><div class='xr-section-details'><dl class='xr-attrs'><dt><span>created_at :</span></dt><dd>2023-11-07T10:59:11.969301</dd><dt><span>arviz_version :</span></dt><dd>0.16.0</dd><dt><span>inference_library :</span></dt><dd>pymc</dd><dt><span>inference_library_version :</span></dt><dd>5.6.1</dd><dt><span>_n_draws :</span></dt><dd>2000</dd><dt><span>threshold :</span></dt><dd>0.5</dd><dt><span>_n_tune :</span></dt><dd>9</dd><dt><span>correlation_threshold :</span></dt><dd>0.01</dd><dt><span>_t_sampling :</span></dt><dd>303.2604818344116</dd></dl></div></li></ul></div></div>"
     },
     "execution_count": 8,
     "metadata": {},
     "output_type": "execute_result"
    }
   ],
   "source": [
    "idata3.sample_stats"
   ],
   "metadata": {
    "collapsed": false
   }
  },
  {
   "cell_type": "code",
   "execution_count": 9,
   "outputs": [
    {
     "name": "stdout",
     "output_type": "stream",
     "text": [
      "2.9409235066878585\n"
     ]
    }
   ],
   "source": [
    "x = idata3.posterior.b\n",
    "x = np.array(x)\n",
    "print(az.kde(np.ndarray.flatten(x))[0][np.argmax(az.kde(np.ndarray.flatten(x))[1])])"
   ],
   "metadata": {
    "collapsed": false
   }
  },
  {
   "cell_type": "code",
   "execution_count": 10,
   "outputs": [
    {
     "name": "stdout",
     "output_type": "stream",
     "text": [
      "0.8976316569723574\n"
     ]
    }
   ],
   "source": [
    "y = idata3.posterior.g\n",
    "y = np.array(y)\n",
    "print(az.kde(np.ndarray.flatten(y))[0][np.argmax(az.kde(np.ndarray.flatten(y))[1])])"
   ],
   "metadata": {
    "collapsed": false
   }
  }
 ],
 "metadata": {
  "kernelspec": {
   "display_name": "Python 3",
   "language": "python",
   "name": "python3"
  },
  "language_info": {
   "codemirror_mode": {
    "name": "ipython",
    "version": 2
   },
   "file_extension": ".py",
   "mimetype": "text/x-python",
   "name": "python",
   "nbconvert_exporter": "python",
   "pygments_lexer": "ipython2",
   "version": "2.7.6"
  }
 },
 "nbformat": 4,
 "nbformat_minor": 0
}
