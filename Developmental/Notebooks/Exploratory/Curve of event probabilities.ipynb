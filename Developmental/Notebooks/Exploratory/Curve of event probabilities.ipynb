{
 "cells": [
  {
   "cell_type": "code",
   "execution_count": 30,
   "metadata": {
    "collapsed": true
   },
   "outputs": [],
   "source": [
    "import numpy as np"
   ]
  },
  {
   "cell_type": "code",
   "execution_count": 31,
   "outputs": [
    {
     "data": {
      "text/plain": "2.0999999999999996"
     },
     "execution_count": 31,
     "metadata": {},
     "output_type": "execute_result"
    }
   ],
   "source": [
    "0.3*3*7/3"
   ],
   "metadata": {
    "collapsed": false
   }
  },
  {
   "cell_type": "code",
   "execution_count": 32,
   "outputs": [
    {
     "data": {
      "text/plain": "2.097"
     },
     "execution_count": 32,
     "metadata": {},
     "output_type": "execute_result"
    }
   ],
   "source": [
    "0.003*301*699/(301)"
   ],
   "metadata": {
    "collapsed": false
   }
  },
  {
   "cell_type": "code",
   "execution_count": 33,
   "outputs": [
    {
     "name": "stdout",
     "output_type": "stream",
     "text": [
      "Reality took 0.04458880424499512 seconds to run!\n"
     ]
    }
   ],
   "source": [
    "import numpy as np\n",
    "from src.PLS.baseSIR import no_ext_sir\n",
    "from src.PLS.baseSIR import real_sir\n",
    "from src.PLS.baseSIR import real_sir_times\n",
    "from src.PLS.baseSIR import timed_sir\n",
    "from decimal import Decimal, ROUND_UP\n",
    "import time\n",
    "\n",
    "distance_measure_array = [\"sum_sq\",\"sum_sqrt_sq\",\"mixed\",\"rinf\"]\n",
    "dis = distance_measure_array[1]\n",
    "I0 = [\"\",\"_I1\"][0]\n",
    "seed = 1\n",
    "if I0 == \"\":\n",
    "    X0 = [900, 100, 0]\n",
    "elif I0 == \"_I1\":\n",
    "    X0 = [999,1,0]\n",
    "gamma = 1\n",
    "beta = 3\n",
    "mu = 0\n",
    "tstep = 0.05\n",
    "test_time = 100\n",
    "rng = np.random.default_rng(seed)\n",
    "tmax = float(Decimal(tstep) * (Decimal(timed_sir(X0, mu, beta, gamma, test_time, rng) )/ Decimal(tstep)).quantize(1,rounding=ROUND_UP))\n",
    "rng = np.random.default_rng(seed)\n",
    "start_time = time.time()\n",
    "reality = no_ext_sir(X0, mu, beta, gamma, tmax, tstep, rng)\n",
    "print(f\"Reality took {time.time() - start_time} seconds to run!\")"
   ],
   "metadata": {
    "collapsed": false
   }
  },
  {
   "cell_type": "code",
   "execution_count": 34,
   "outputs": [],
   "source": [
    "reality_10 = reality / 100\n",
    "reality_10[:, 0] = np.floor(reality_10[:, 0])\n",
    "reality_10[:, 0] = reality_10[:, 0].astype(int)\n",
    "reality_10[:, 1] = np.ceil(reality_10[:, 1])\n",
    "reality_10[:, 1] = reality_10[:, 1].astype(int)\n",
    "reality_10[:, 2] = 10 - reality_10[:, 1] - reality_10[:, 0]\n",
    "reality_10[:, 2] = reality_10[:, 2].astype(int)"
   ],
   "metadata": {
    "collapsed": false
   }
  },
  {
   "cell_type": "code",
   "execution_count": 35,
   "outputs": [
    {
     "name": "stdout",
     "output_type": "stream",
     "text": [
      "[[ 9.  1.  0.]\n",
      " [ 8.  2.  0.]\n",
      " [ 8.  2.  0.]\n",
      " [ 8.  2.  0.]\n",
      " [ 8.  2.  0.]\n",
      " [ 8.  2.  0.]\n",
      " [ 8.  2.  0.]\n",
      " [ 7.  2.  1.]\n",
      " [ 7.  2.  1.]\n",
      " [ 7.  3.  0.]\n",
      " [ 7.  3.  0.]\n",
      " [ 6.  3.  1.]\n",
      " [ 6.  3.  1.]\n",
      " [ 6.  3.  1.]\n",
      " [ 6.  3.  1.]\n",
      " [ 5.  3.  2.]\n",
      " [ 5.  3.  2.]\n",
      " [ 5.  4.  1.]\n",
      " [ 5.  4.  1.]\n",
      " [ 5.  4.  1.]\n",
      " [ 4.  4.  2.]\n",
      " [ 4.  4.  2.]\n",
      " [ 4.  4.  2.]\n",
      " [ 4.  4.  2.]\n",
      " [ 3.  4.  3.]\n",
      " [ 3.  4.  3.]\n",
      " [ 3.  4.  3.]\n",
      " [ 3.  4.  3.]\n",
      " [ 2.  4.  4.]\n",
      " [ 2.  4.  4.]\n",
      " [ 2.  4.  4.]\n",
      " [ 2.  4.  4.]\n",
      " [ 2.  4.  4.]\n",
      " [ 2.  4.  4.]\n",
      " [ 1.  4.  5.]\n",
      " [ 1.  4.  5.]\n",
      " [ 1.  4.  5.]\n",
      " [ 1.  4.  5.]\n",
      " [ 1.  4.  5.]\n",
      " [ 1.  4.  5.]\n",
      " [ 1.  4.  5.]\n",
      " [ 1.  4.  5.]\n",
      " [ 1.  4.  5.]\n",
      " [ 1.  3.  6.]\n",
      " [ 1.  3.  6.]\n",
      " [ 1.  3.  6.]\n",
      " [ 1.  3.  6.]\n",
      " [ 0.  3.  7.]\n",
      " [ 0.  3.  7.]\n",
      " [ 0.  3.  7.]\n",
      " [ 0.  3.  7.]\n",
      " [ 0.  3.  7.]\n",
      " [ 0.  3.  7.]\n",
      " [ 0.  3.  7.]\n",
      " [ 0.  3.  7.]\n",
      " [ 0.  3.  7.]\n",
      " [ 0.  3.  7.]\n",
      " [ 0.  2.  8.]\n",
      " [ 0.  2.  8.]\n",
      " [ 0.  2.  8.]\n",
      " [ 0.  2.  8.]\n",
      " [ 0.  2.  8.]\n",
      " [ 0.  2.  8.]\n",
      " [ 0.  2.  8.]\n",
      " [ 0.  2.  8.]\n",
      " [ 0.  2.  8.]\n",
      " [ 0.  2.  8.]\n",
      " [ 0.  2.  8.]\n",
      " [ 0.  2.  8.]\n",
      " [ 0.  2.  8.]\n",
      " [ 0.  2.  8.]\n",
      " [ 0.  2.  8.]\n",
      " [ 0.  2.  8.]\n",
      " [ 0.  1.  9.]\n",
      " [ 0.  1.  9.]\n",
      " [ 0.  1.  9.]\n",
      " [ 0.  1.  9.]\n",
      " [ 0.  1.  9.]\n",
      " [ 0.  1.  9.]\n",
      " [ 0.  1.  9.]\n",
      " [ 0.  1.  9.]\n",
      " [ 0.  1.  9.]\n",
      " [ 0.  1.  9.]\n",
      " [ 0.  1.  9.]\n",
      " [ 0.  1.  9.]\n",
      " [ 0.  1.  9.]\n",
      " [ 0.  1.  9.]\n",
      " [ 0.  1.  9.]\n",
      " [ 0.  1.  9.]\n",
      " [ 0.  1.  9.]\n",
      " [ 0.  1.  9.]\n",
      " [ 0.  1.  9.]\n",
      " [ 0.  1.  9.]\n",
      " [ 0.  1.  9.]\n",
      " [ 0.  1.  9.]\n",
      " [ 0.  1.  9.]\n",
      " [ 0.  1.  9.]\n",
      " [ 0.  1.  9.]\n",
      " [ 0.  1.  9.]\n",
      " [ 0.  1.  9.]\n",
      " [ 0.  1.  9.]\n",
      " [ 0.  1.  9.]\n",
      " [ 0.  1.  9.]\n",
      " [ 0.  1.  9.]\n",
      " [ 0.  1.  9.]\n",
      " [ 0.  1.  9.]\n",
      " [ 0.  1.  9.]\n",
      " [ 0.  1.  9.]\n",
      " [ 0.  1.  9.]\n",
      " [ 0.  1.  9.]\n",
      " [ 0.  1.  9.]\n",
      " [ 0.  1.  9.]\n",
      " [ 0.  1.  9.]\n",
      " [ 0.  1.  9.]\n",
      " [ 0.  1.  9.]\n",
      " [ 0.  1.  9.]\n",
      " [ 0.  1.  9.]\n",
      " [ 0.  1.  9.]\n",
      " [ 0.  1.  9.]\n",
      " [ 0.  1.  9.]\n",
      " [ 0.  1.  9.]\n",
      " [ 0.  1.  9.]\n",
      " [ 0.  1.  9.]\n",
      " [ 0.  1.  9.]\n",
      " [ 0.  1.  9.]\n",
      " [ 0.  1.  9.]\n",
      " [ 0.  1.  9.]\n",
      " [ 0.  1.  9.]\n",
      " [ 0.  1.  9.]\n",
      " [ 0.  1.  9.]\n",
      " [ 0.  1.  9.]\n",
      " [ 0.  1.  9.]\n",
      " [ 0.  1.  9.]\n",
      " [ 0.  1.  9.]\n",
      " [ 0.  1.  9.]\n",
      " [ 0.  1.  9.]\n",
      " [ 0.  1.  9.]\n",
      " [ 0.  1.  9.]\n",
      " [ 0.  1.  9.]\n",
      " [ 0.  1.  9.]\n",
      " [ 0.  1.  9.]\n",
      " [ 0.  1.  9.]\n",
      " [ 0.  1.  9.]\n",
      " [ 0.  1.  9.]\n",
      " [ 0.  1.  9.]\n",
      " [ 0.  1.  9.]\n",
      " [ 0.  1.  9.]\n",
      " [ 0.  1.  9.]\n",
      " [ 0.  1.  9.]\n",
      " [ 0.  1.  9.]\n",
      " [ 0.  1.  9.]\n",
      " [ 0.  1.  9.]\n",
      " [ 0.  1.  9.]\n",
      " [ 0.  1.  9.]\n",
      " [ 0.  1.  9.]\n",
      " [ 0.  1.  9.]\n",
      " [ 0.  1.  9.]\n",
      " [ 0.  1.  9.]\n",
      " [ 0.  1.  9.]\n",
      " [ 0.  1.  9.]\n",
      " [ 0.  1.  9.]\n",
      " [ 0.  1.  9.]\n",
      " [ 0.  0. 10.]\n",
      " [ 0.  0. 10.]]\n"
     ]
    }
   ],
   "source": [
    "print(reality_10)"
   ],
   "metadata": {
    "collapsed": false
   }
  },
  {
   "cell_type": "code",
   "execution_count": 36,
   "outputs": [],
   "source": [
    "inf_rat_1000 = lambda x: 3*x/1000\n",
    "inf_rat_10 = lambda x: 3*x/10"
   ],
   "metadata": {
    "collapsed": false
   }
  },
  {
   "cell_type": "code",
   "execution_count": 41,
   "outputs": [],
   "source": [
    "s_1000 = np.arange(0,1000,1)[::-1]\n",
    "s_10 = np.repeat(np.arange(0,10,1),100)[::-1]"
   ],
   "metadata": {
    "collapsed": false
   }
  },
  {
   "cell_type": "code",
   "execution_count": 44,
   "outputs": [
    {
     "data": {
      "text/plain": "<Axes: >"
     },
     "execution_count": 44,
     "metadata": {},
     "output_type": "execute_result"
    },
    {
     "data": {
      "text/plain": "<Figure size 640x480 with 1 Axes>",
      "image/png": "[encoded data removed]"
     },
     "metadata": {},
     "output_type": "display_data"
    }
   ],
   "source": [
    "import seaborn as sns\n",
    "sns.lineplot(x=s_1000,y= inf_rat_1000(s_1000),color=\"g\")\n",
    "sns.scatterplot(x=s_10*100,y= inf_rat_10(s_10), color=\"r\")"
   ],
   "metadata": {
    "collapsed": false
   }
  },
  {
   "cell_type": "code",
   "execution_count": null,
   "outputs": [],
   "source": [],
   "metadata": {
    "collapsed": false
   }
  }
 ],
 "metadata": {
  "kernelspec": {
   "display_name": "Python 3",
   "language": "python",
   "name": "python3"
  },
  "language_info": {
   "codemirror_mode": {
    "name": "ipython",
    "version": 2
   },
   "file_extension": ".py",
   "mimetype": "text/x-python",
   "name": "python",
   "nbconvert_exporter": "python",
   "pygments_lexer": "ipython2",
   "version": "2.7.6"
  }
 },
 "nbformat": 4,
 "nbformat_minor": 0
}
