{
 "cells": [
  {
   "cell_type": "code",
   "execution_count": 2,
   "metadata": {
    "collapsed": true
   },
   "outputs": [],
   "source": [
    "import numpy as np"
   ]
  },
  {
   "cell_type": "code",
   "execution_count": null,
   "outputs": [],
   "source": [
    "def meta_mle(beta,gamma,sol,time_list,tmax,kernel,distances,causes):\n",
    "    N = len(sol[0])\n",
    "    L1 = 0\n",
    "    node_list = np.arange(0,N)\n",
    "    for j in range(N): #iterate for each node\n",
    "        t = 0\n",
    "        for i in range(0, len(time_list) - 1):\n",
    "            if ((sol[i+1][j][1] == sol[i][j][1]) and (sol[i+1][j][0] == sol[i][j][0])):\n",
    "                pass # do nothing if the event will be counted later\n",
    "            elif (sol[i + 1][j][1] - sol[i][j][1]) > 0: # if infection\n",
    "\n",
    "                #calculate exponential term: need to iterate over every possible event! Many are possible alas.\n",
    "                expo = 0\n",
    "                #add domestic events\n",
    "                for node in node_list:\n",
    "                    expo += (beta) * sol[i][node][0] * sol[i][node][1] + gamma * sol[i][node][1]\n",
    "                # add foreign infections\n",
    "                for node in node_list:\n",
    "                    foreign_nodes = np.delete(node_list,node)\n",
    "                    for foreign_n in foreign_nodes:\n",
    "                        expo += kernel((beta) * sol[i][node][0] * sol[i][foreign_n][1],distances[node,foreign_n])\n",
    "\n",
    "                expo = -expo*(time_list[i+1]-time_list[i])\n",
    "                if causes[i] == \"d\":\n",
    "                    pre_expo = np.log((beta) * sol[i][j][0] * sol[i][j][1])\n",
    "                else:\n",
    "                    pre_expo = np.log(kernel((beta) * sol[i][j][0] * sol[i][causes[i]-1][1],distances[j,causes[i]-1]))\n",
    "\n",
    "                L1 += (pre_expo+ expo) #infection\n",
    "            else: #if recovery\n",
    "                pre_expo = gamma * sol[i][j][1]\n",
    "                expo = 0\n",
    "                #add domestic events\n",
    "                for node in node_list:\n",
    "                    expo += (beta) * sol[i][node][0] * sol[i][node][1] + gamma * sol[i][node][1]\n",
    "                # add foreign infections\n",
    "                for node in node_list:\n",
    "                    foreign_nodes = np.delete(node_list,node)\n",
    "                    for foreign_n in foreign_nodes:\n",
    "                        expo += kernel((beta) * sol[i][node][0] * sol[i][foreign_n][1],distances[node,foreign_n])\n",
    "                expo = -expo*(time_list[i+1]-time_list[i])\n",
    "                L1 += (np.log(pre_expo) + expo)\n",
    "        L2 = 0\n",
    "    return L1 + L2"
   ],
   "metadata": {
    "collapsed": false
   }
  },
  {
   "cell_type": "code",
   "execution_count": 75,
   "outputs": [
    {
     "name": "stdout",
     "output_type": "stream",
     "text": [
      "-23.61370563888011\n"
     ]
    }
   ],
   "source": [
    "hand_calc = 2*1*1*np.exp(-9) * 2 * np.exp(-16)\n",
    "print(np.log(hand_calc))"
   ],
   "metadata": {
    "collapsed": false
   }
  },
  {
   "cell_type": "code",
   "execution_count": 72,
   "outputs": [],
   "source": [
    "solution = [[[1,1,0],[2,0,0]],[[1,1,0],[1,1,0]],[[1,0,1],[1,1,0]]]\n",
    "times = [0,1,2]\n",
    "def kernel(x,d):\n",
    "    return x/5\n",
    "distances = np.array([[1,1],[1,1]])\n",
    "causes = [1,\"d\"]"
   ],
   "metadata": {
    "collapsed": false
   }
  },
  {
   "cell_type": "code",
   "execution_count": 73,
   "outputs": [],
   "source": [
    "test_answer = meta_mle(5,2,solution,times,100,kernel,distances,causes)"
   ],
   "metadata": {
    "collapsed": false
   }
  },
  {
   "cell_type": "code",
   "execution_count": 74,
   "outputs": [
    {
     "name": "stdout",
     "output_type": "stream",
     "text": [
      "-23.61370563888011\n"
     ]
    }
   ],
   "source": [
    "print(test_answer)"
   ],
   "metadata": {
    "collapsed": false
   }
  },
  {
   "cell_type": "code",
   "execution_count": null,
   "outputs": [],
   "source": [],
   "metadata": {
    "collapsed": false
   }
  }
 ],
 "metadata": {
  "kernelspec": {
   "display_name": "Python 3",
   "language": "python",
   "name": "python3"
  },
  "language_info": {
   "codemirror_mode": {
    "name": "ipython",
    "version": 2
   },
   "file_extension": ".py",
   "mimetype": "text/x-python",
   "name": "python",
   "nbconvert_exporter": "python",
   "pygments_lexer": "ipython2",
   "version": "2.7.6"
  }
 },
 "nbformat": 4,
 "nbformat_minor": 0
}
