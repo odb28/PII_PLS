{
 "cells": [
  {
   "cell_type": "code",
   "execution_count": 10,
   "metadata": {
    "collapsed": true
   },
   "outputs": [],
   "source": [
    "import numpy as np\n",
    "import pickle\n",
    "from src.PLS.utils import sims"
   ]
  },
  {
   "cell_type": "code",
   "execution_count": 11,
   "outputs": [],
   "source": [
    "typ = [\"simple\",\"simple_I0\",\"meta\"][2:]\n",
    "Siz = [\"10\",\"100\",\"1000\"][0:1]\n",
    "point = [\"_point\", \"\"][1]\n",
    "seed =1912\n",
    "sim_scen = [\"\",\"c1\",\"c2\",\"c3\"][0]\n",
    "beta_controls = np.arange(0,1.1,0.1)\n",
    "gamma_additives  = np.arange(0,10,1)\n",
    "thinning_intensities = np.arange(0,0.8,0.2)\n",
    "thinning_frequencies = np.arange(0.5,2,0.5)"
   ],
   "metadata": {
    "collapsed": false
   }
  },
  {
   "cell_type": "code",
   "execution_count": 12,
   "outputs": [
    {
     "name": "stdout",
     "output_type": "stream",
     "text": [
      "[0.  0.2 0.4 0.6]\n",
      "[0.5 1.  1.5]\n"
     ]
    }
   ],
   "source": [
    "print(thinning_intensities)\n",
    "print(thinning_frequencies)"
   ],
   "metadata": {
    "collapsed": false
   }
  },
  {
   "cell_type": "code",
   "execution_count": 13,
   "outputs": [
    {
     "name": "stdout",
     "output_type": "stream",
     "text": [
      "meta\n"
     ]
    }
   ],
   "source": [
    "for Typ in typ:\n",
    "    for siz in Siz:\n",
    "\n",
    "        #import distributions\n",
    "        print(Typ)\n",
    "        if Typ == \"simple\":\n",
    "            distro = np.genfromtxt(f\"../Data/R0_3/Sims_SIR/Sampled_distros/Distro_{Typ}_{siz}.csv\",delimiter=\",\")\n",
    "\n",
    "        elif Typ == \"simple_I0\":\n",
    "            distro = np.genfromtxt(f\"../Data/R0_3/Sims_SIR/Sampled_distros/Distro_{Typ}_{siz}.csv\",delimiter=\",\")\n",
    "        elif Typ == \"meta\":\n",
    "            distro = np.genfromtxt(f\"../Data/R0_3/Sims_SIR/Sampled_distros/Distro_{Typ}_{siz}.csv\",delimiter=\",\")\n",
    "\n",
    "        if sim_scen == \"\":\n",
    "            output_dictionary = sims(distro, Typ, siz, seed, sim_scen, beta_controls[:])\n",
    "\n",
    "\n",
    "        if sim_scen == \"c1\":\n",
    "            output_dictionary = {}\n",
    "            for i in range(len(beta_controls)):\n",
    "                print(f\"{i}\", end=\".\")\n",
    "                run_dictionary = sims(distro, Typ, siz, seed, sim_scen, beta_controls[i:i + 1])\n",
    "                output_dictionary[f\"Control={i}\"] = run_dictionary\n",
    "\n",
    "\n",
    "        if sim_scen == \"c2\":\n",
    "            output_dictionary = {}\n",
    "            for i in range(len(gamma_additives)):\n",
    "                run_dictionary = sims(distro, Typ, siz, seed, sim_scen, gamma_additives[i:i + 1])\n",
    "                output_dictionary[f\"Control={i}\"] = run_dictionary\n",
    "\n",
    "\n",
    "        if sim_scen == \"c3\":\n",
    "            output_dictionary = {}\n",
    "            for j in range(len(thinning_intensities)):\n",
    "                for i in range(len(thinning_frequencies)):\n",
    "                    run_dictionary = sims(distro, Typ, siz, seed, sim_scen,\n",
    "                                          [thinning_intensities[i:i + 1], thinning_frequencies[j:j + 1]])\n",
    "                    output_dictionary[f\"Control={j}_{i}\"] = run_dictionary\n",
    "\n",
    "\n",
    "        #Pickle Sims\n",
    "        with open(f\"../Data/R0_3/Sims_SIR/Pickles/Sim_dict{point}_{Typ}_{siz}{sim_scen}.pickle\", 'wb') as handle:\n",
    "            pickle.dump(output_dictionary, handle, protocol=pickle.HIGHEST_PROTOCOL)"
   ],
   "metadata": {
    "collapsed": false
   }
  },
  {
   "cell_type": "code",
   "execution_count": 14,
   "outputs": [],
   "source": [
    "#if sim_scen == \"c0\":\n",
    "#    output_dictionary = sims(distro,Typ,siz,seed,sim_scen,beta_controls[:])"
   ],
   "metadata": {
    "collapsed": false
   }
  },
  {
   "cell_type": "code",
   "execution_count": 15,
   "outputs": [],
   "source": [
    "#if sim_scen == \"c1\":\n",
    "#    output_dictionary  = {}\n",
    "#    for i in range(len(beta_controls)):\n",
    "#        print(f\"{i}\", end=\".\")\n",
    "#        run_dictionary = sims(distro,Typ,siz,seed,sim_scen,beta_controls[i:i+1])\n",
    "#        output_dictionary[f\"Control={i}\"] = run_dictionary"
   ],
   "metadata": {
    "collapsed": false
   }
  },
  {
   "cell_type": "code",
   "execution_count": 16,
   "outputs": [],
   "source": [
    "#if sim_scen == \"c2\":\n",
    "#    output_dictionary  = {}\n",
    "#    for i in range(len(gamma_additives)):\n",
    "#        run_dictionary = sims(distro,Typ,siz,seed,sim_scen,gamma_additives[i:i+1])\n",
    "#        output_dictionary[f\"Control={i}\"] = run_dictionary"
   ],
   "metadata": {
    "collapsed": false
   }
  },
  {
   "cell_type": "code",
   "execution_count": 17,
   "outputs": [],
   "source": [
    "#if sim_scen == \"c3\":\n",
    "#    output_dictionary  = {}\n",
    "#    for j in range(len(thinning_intensities)):\n",
    "#        for i in range(len(thinning_frequencies)):\n",
    "#            run_dictionary = sims(distro,Typ,siz,seed,sim_scen,[thinning_intensities[i:i+1],thinning_frequencies[j:j+1]])\n",
    "#            output_dictionary[f\"Control={j}_{i}\"] = run_dictionary"
   ],
   "metadata": {
    "collapsed": false
   }
  },
  {
   "cell_type": "code",
   "execution_count": 18,
   "outputs": [],
   "source": [
    "#Pickle Sims\n",
    "#with open(f\"../Data/R0_3/Sims_SIR/Pickles/Sim_dict_{Typ}_{siz}{sim_scen}.pickle\", 'wb') as handle:\n",
    "#    pickle.dump(output_dictionary,handle, protocol=pickle.HIGHEST_PROTOCOL)"
   ],
   "metadata": {
    "collapsed": false
   }
  }
 ],
 "metadata": {
  "kernelspec": {
   "display_name": "Python 3",
   "language": "python",
   "name": "python3"
  },
  "language_info": {
   "codemirror_mode": {
    "name": "ipython",
    "version": 2
   },
   "file_extension": ".py",
   "mimetype": "text/x-python",
   "name": "python",
   "nbconvert_exporter": "python",
   "pygments_lexer": "ipython2",
   "version": "2.7.6"
  }
 },
 "nbformat": 4,
 "nbformat_minor": 0
}
