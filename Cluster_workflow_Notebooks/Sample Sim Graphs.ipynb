{
 "cells": [
  {
   "cell_type": "code",
   "execution_count": 19,
   "metadata": {
    "collapsed": true
   },
   "outputs": [],
   "source": [
    "import numpy as np\n",
    "from matplotlib import pyplot as plt\n",
    "import seaborn as sns\n",
    "from src.PLS.utils import sims_graphs"
   ]
  },
  {
   "cell_type": "code",
   "execution_count": 20,
   "outputs": [],
   "source": [
    "Typ = [\"simple\",\"simple_I0\",\"meta\"][0]\n",
    "siz = [\"10\",\"100\",\"1000\"][2]\n",
    "seed =1912\n",
    "sim_scen = [\"\",\"c1\",\"c2\",\"c3\"][0]\n",
    "beta_controls = np.arange(0,1.1,0.1)\n",
    "gamma_additives  = np.arange(0,10,1)\n",
    "thinning_intensities = np.arange(0,0.55,0.05)\n",
    "thinning_frequencies = np.arange(0.5,3.0,0.5)"
   ],
   "metadata": {
    "collapsed": false
   }
  },
  {
   "cell_type": "code",
   "execution_count": 21,
   "outputs": [],
   "source": [
    "#import distributions\n",
    "distro = np.genfromtxt(f\"../Data/R0_3/Sims_SIR/Sampled_distros/Distro_{Typ}_{siz}.csv\",delimiter=\",\")[0:300]"
   ],
   "metadata": {
    "collapsed": false
   }
  },
  {
   "cell_type": "code",
   "execution_count": 22,
   "outputs": [
    {
     "ename": "KeyboardInterrupt",
     "evalue": "",
     "output_type": "error",
     "traceback": [
      "\u001B[1;31m---------------------------------------------------------------------------\u001B[0m",
      "\u001B[1;31mKeyboardInterrupt\u001B[0m                         Traceback (most recent call last)",
      "Cell \u001B[1;32mIn[22], line 2\u001B[0m\n\u001B[0;32m      1\u001B[0m \u001B[38;5;66;03m#for i in range(len(beta_controls)):\u001B[39;00m\n\u001B[1;32m----> 2\u001B[0m output_dictionary \u001B[38;5;241m=\u001B[39m \u001B[43msims_graphs\u001B[49m\u001B[43m(\u001B[49m\u001B[43mdistro\u001B[49m\u001B[43m,\u001B[49m\u001B[43mTyp\u001B[49m\u001B[43m,\u001B[49m\u001B[43msiz\u001B[49m\u001B[43m,\u001B[49m\u001B[43mseed\u001B[49m\u001B[43m,\u001B[49m\u001B[43msim_scen\u001B[49m\u001B[43m,\u001B[49m\u001B[43mbeta_controls\u001B[49m\u001B[43m[\u001B[49m\u001B[43m:\u001B[49m\u001B[43m]\u001B[49m\u001B[43m)\u001B[49m\n",
      "File \u001B[1;32m~\\PycharmProjects\\PLS Research\\src\\PLS\\utils.py:496\u001B[0m, in \u001B[0;36msims_graphs\u001B[1;34m(distro, Type, Size, seed, control, control_paras)\u001B[0m\n\u001B[0;32m    494\u001B[0m \u001B[38;5;28;01mfor\u001B[39;00m i \u001B[38;5;129;01min\u001B[39;00m \u001B[38;5;28mrange\u001B[39m(n_sims):\n\u001B[0;32m    495\u001B[0m     beta \u001B[38;5;241m=\u001B[39m beta_distro[i]\u001B[38;5;241m/\u001B[39mdiv \u001B[38;5;241m*\u001B[39m beta_multi\n\u001B[1;32m--> 496\u001B[0m     reality,t  \u001B[38;5;241m=\u001B[39m \u001B[43mgraph_meta_sir\u001B[49m\u001B[43m(\u001B[49m\u001B[43mX0\u001B[49m\u001B[43m,\u001B[49m\u001B[43mbeta\u001B[49m\u001B[43m,\u001B[49m\u001B[43mgamma\u001B[49m\u001B[43m,\u001B[49m\u001B[43mN\u001B[49m\u001B[43m,\u001B[49m\u001B[43mtest_distances\u001B[49m\u001B[43m,\u001B[49m\u001B[43mbasic_kernel\u001B[49m\u001B[43m,\u001B[49m\u001B[43mtmax\u001B[49m\u001B[43m,\u001B[49m\u001B[43mtstep\u001B[49m\u001B[43m,\u001B[49m\u001B[43mrng\u001B[49m\u001B[43m)\u001B[49m\n\u001B[0;32m    497\u001B[0m     output_dictionary[\u001B[38;5;124m\"\u001B[39m\u001B[38;5;124mRuns\u001B[39m\u001B[38;5;124m\"\u001B[39m]\u001B[38;5;241m.\u001B[39mappend(reality)\n\u001B[0;32m    498\u001B[0m     output_dictionary[\u001B[38;5;124m\"\u001B[39m\u001B[38;5;124mT\u001B[39m\u001B[38;5;124m\"\u001B[39m]\u001B[38;5;241m.\u001B[39mappend(t)\n",
      "File \u001B[1;32m~\\PycharmProjects\\PLS Research\\src\\PLS\\metaSIR.py:191\u001B[0m, in \u001B[0;36mgraph_meta_sir\u001B[1;34m(X0, beta, gamma, N_nodes, distances, kernel, tmax, tstep, rng)\u001B[0m\n\u001B[0;32m    179\u001B[0m \u001B[38;5;28;01mdef\u001B[39;00m \u001B[38;5;21mgraph_meta_sir\u001B[39m(X0,beta,gamma,N_nodes,distances,kernel,tmax,tstep,rng):\n\u001B[0;32m    180\u001B[0m \u001B[38;5;250m    \u001B[39m\u001B[38;5;124;03m\"\"\"\u001B[39;00m\n\u001B[0;32m    181\u001B[0m \u001B[38;5;124;03m    :param X0: Initial Conditions of the system\u001B[39;00m\n\u001B[0;32m    182\u001B[0m \u001B[38;5;124;03m    :param mu: Birth/Death Rate\u001B[39;00m\n\u001B[1;32m   (...)\u001B[0m\n\u001B[0;32m    188\u001B[0m \u001B[38;5;124;03m    :return: X(t)\u001B[39;00m\n\u001B[0;32m    189\u001B[0m \u001B[38;5;124;03m    \"\"\"\u001B[39;00m\n\u001B[1;32m--> 191\u001B[0m     out, ex, t,   times, timed_sol \u001B[38;5;241m=\u001B[39m \u001B[43mmeta_core_sir\u001B[49m\u001B[43m(\u001B[49m\u001B[43mX0\u001B[49m\u001B[43m,\u001B[49m\u001B[43mbeta\u001B[49m\u001B[43m,\u001B[49m\u001B[43mgamma\u001B[49m\u001B[43m,\u001B[49m\u001B[43mN_nodes\u001B[49m\u001B[43m,\u001B[49m\u001B[43mdistances\u001B[49m\u001B[43m,\u001B[49m\u001B[43mkernel\u001B[49m\u001B[43m,\u001B[49m\u001B[43mtmax\u001B[49m\u001B[43m,\u001B[49m\u001B[43mtstep\u001B[49m\u001B[43m,\u001B[49m\u001B[43mrng\u001B[49m\u001B[43m)\u001B[49m\n\u001B[0;32m    192\u001B[0m     \u001B[38;5;28;01mreturn\u001B[39;00m out,t\n",
      "File \u001B[1;32m~\\PycharmProjects\\PLS Research\\src\\PLS\\metaSIR.py:130\u001B[0m, in \u001B[0;36mmeta_core_sir\u001B[1;34m(X0, beta, gamma, N_nodes, distances, kernel, tmax, tstep, rng, cull_strength, cull_freq)\u001B[0m\n\u001B[0;32m    125\u001B[0m             nodes[\u001B[38;5;124mf\u001B[39m\u001B[38;5;124m\"\u001B[39m\u001B[38;5;124mnode\u001B[39m\u001B[38;5;132;01m{\u001B[39;00mj\u001B[38;5;132;01m}\u001B[39;00m\u001B[38;5;124m\"\u001B[39m][\u001B[38;5;124m\"\u001B[39m\u001B[38;5;124mforeign_inf\u001B[39m\u001B[38;5;124m\"\u001B[39m] \u001B[38;5;241m+\u001B[39m\u001B[38;5;241m=\u001B[39m kernel(beta\u001B[38;5;241m*\u001B[39mX[j\u001B[38;5;241m-\u001B[39m\u001B[38;5;241m1\u001B[39m][\u001B[38;5;241m0\u001B[39m]\u001B[38;5;241m*\u001B[39mX[i\u001B[38;5;241m-\u001B[39m\u001B[38;5;241m1\u001B[39m][\u001B[38;5;241m1\u001B[39m],distances[j\u001B[38;5;241m-\u001B[39m\u001B[38;5;241m1\u001B[39m,i\u001B[38;5;241m-\u001B[39m\u001B[38;5;241m1\u001B[39m])\n\u001B[0;32m    127\u001B[0m         nodes[\u001B[38;5;124mf\u001B[39m\u001B[38;5;124m\"\u001B[39m\u001B[38;5;124mnode\u001B[39m\u001B[38;5;132;01m{\u001B[39;00mj\u001B[38;5;132;01m}\u001B[39;00m\u001B[38;5;124m\"\u001B[39m][\u001B[38;5;124m\"\u001B[39m\u001B[38;5;124mtotal_inf\u001B[39m\u001B[38;5;124m\"\u001B[39m] \u001B[38;5;241m=\u001B[39m nodes[\u001B[38;5;124mf\u001B[39m\u001B[38;5;124m\"\u001B[39m\u001B[38;5;124mnode\u001B[39m\u001B[38;5;132;01m{\u001B[39;00mj\u001B[38;5;132;01m}\u001B[39;00m\u001B[38;5;124m\"\u001B[39m][\u001B[38;5;124m\"\u001B[39m\u001B[38;5;124mdomestic_inf\u001B[39m\u001B[38;5;124m\"\u001B[39m] \u001B[38;5;241m+\u001B[39m nodes[\u001B[38;5;124mf\u001B[39m\u001B[38;5;124m\"\u001B[39m\u001B[38;5;124mnode\u001B[39m\u001B[38;5;132;01m{\u001B[39;00mj\u001B[38;5;132;01m}\u001B[39;00m\u001B[38;5;124m\"\u001B[39m][\u001B[38;5;124m\"\u001B[39m\u001B[38;5;124mforeign_inf\u001B[39m\u001B[38;5;124m\"\u001B[39m]\n\u001B[1;32m--> 130\u001B[0m     timed_sol \u001B[38;5;241m=\u001B[39m \u001B[43mnp\u001B[49m\u001B[38;5;241;43m.\u001B[39;49m\u001B[43mappend\u001B[49m\u001B[43m(\u001B[49m\u001B[43mtimed_sol\u001B[49m\u001B[43m,\u001B[49m\u001B[43m[\u001B[49m\u001B[43mX\u001B[49m\u001B[43m]\u001B[49m\u001B[43m,\u001B[49m\u001B[43maxis\u001B[49m\u001B[43m \u001B[49m\u001B[38;5;241;43m=\u001B[39;49m\u001B[43m \u001B[49m\u001B[38;5;241;43m0\u001B[39;49m\u001B[43m)\u001B[49m\n\u001B[0;32m    131\u001B[0m     times \u001B[38;5;241m=\u001B[39m np\u001B[38;5;241m.\u001B[39mappend(times,t)\n\u001B[0;32m    133\u001B[0m \u001B[38;5;28;01melse\u001B[39;00m:\n",
      "File \u001B[1;32m~\\anaconda3\\envs\\PLS Research\\lib\\site-packages\\numpy\\lib\\function_base.py:5617\u001B[0m, in \u001B[0;36mappend\u001B[1;34m(arr, values, axis)\u001B[0m\n\u001B[0;32m   5615\u001B[0m     values \u001B[38;5;241m=\u001B[39m ravel(values)\n\u001B[0;32m   5616\u001B[0m     axis \u001B[38;5;241m=\u001B[39m arr\u001B[38;5;241m.\u001B[39mndim\u001B[38;5;241m-\u001B[39m\u001B[38;5;241m1\u001B[39m\n\u001B[1;32m-> 5617\u001B[0m \u001B[38;5;28;01mreturn\u001B[39;00m \u001B[43mconcatenate\u001B[49m\u001B[43m(\u001B[49m\u001B[43m(\u001B[49m\u001B[43marr\u001B[49m\u001B[43m,\u001B[49m\u001B[43m \u001B[49m\u001B[43mvalues\u001B[49m\u001B[43m)\u001B[49m\u001B[43m,\u001B[49m\u001B[43m \u001B[49m\u001B[43maxis\u001B[49m\u001B[38;5;241;43m=\u001B[39;49m\u001B[43maxis\u001B[49m\u001B[43m)\u001B[49m\n",
      "\u001B[1;31mKeyboardInterrupt\u001B[0m: "
     ]
    }
   ],
   "source": [
    "#for i in range(len(beta_controls)):\n",
    "output_dictionary = sims_graphs(distro,Typ,siz,seed,sim_scen,beta_controls[:])\n",
    "plot_dict = output_dictionary"
   ],
   "metadata": {
    "collapsed": false
   }
  },
  {
   "cell_type": "code",
   "execution_count": null,
   "outputs": [],
   "source": [
    "if Typ != \"meta\":\n",
    "    fig, ax0 = plt.subplots(figsize = (18,12),nrows=2, ncols=3)\n",
    "    ax0 = ax0.flatten()\n",
    "    times = np.arange(0,max(plot_dict[\"T\"]),0.01)\n",
    "    for i in range(len(plot_dict[\"Runs\"])):\n",
    "        ax0[i].plot(times,np.array(plot_dict[\"Runs\"][i])[0:len(times),1], color = \"orange\", alpha = 1)\n",
    "        ax0[i].plot(times,np.array(plot_dict[\"Runs\"][i])[0:len(times),0], color = \"b\", alpha = 1)\n",
    "        ax0[i].plot(times,np.array(plot_dict[\"Runs\"][i])[0:len(times),2], color = \"g\", alpha = 1)\n",
    "        ax0[i].set_xlabel(\"Time\")\n",
    "    fig.show()"
   ],
   "metadata": {
    "collapsed": false
   }
  },
  {
   "cell_type": "code",
   "execution_count": null,
   "outputs": [],
   "source": [
    "if Typ == \"meta\":\n",
    "    fig, ax0 = plt.subplots(figsize = (18,12),nrows=3, ncols=4)\n",
    "    times = np.arange(0,max(plot_dict[\"T\"]),0.01)\n",
    "    for i in range(round(len(plot_dict[\"Runs\"]))):\n",
    "        for j in range(0,4):\n",
    "\n",
    "            ax0[i,j].plot(times,np.array(plot_dict[\"Runs\"][i][:,j])[0:len(times),1], color = \"orange\", alpha = 1)\n",
    "            ax0[i,j].plot(times,np.array(plot_dict[\"Runs\"][i][:,j])[0:len(times),0], color = \"b\", alpha = 1)\n",
    "            ax0[i,j].plot(times,np.array(plot_dict[\"Runs\"][i][:,j])[0:len(times),2], color = \"g\", alpha = 1)\n",
    "            ax0[i,j].set_xlabel(\"Time\")\n",
    "    fig.show()"
   ],
   "metadata": {
    "collapsed": false
   }
  }
 ],
 "metadata": {
  "kernelspec": {
   "display_name": "Python 3",
   "language": "python",
   "name": "python3"
  },
  "language_info": {
   "codemirror_mode": {
    "name": "ipython",
    "version": 2
   },
   "file_extension": ".py",
   "mimetype": "text/x-python",
   "name": "python",
   "nbconvert_exporter": "python",
   "pygments_lexer": "ipython2",
   "version": "2.7.6"
  }
 },
 "nbformat": 4,
 "nbformat_minor": 0
}
