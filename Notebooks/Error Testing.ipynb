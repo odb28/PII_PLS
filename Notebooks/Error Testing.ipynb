{
 "cells": [
  {
   "cell_type": "code",
   "execution_count": 6,
   "metadata": {
    "collapsed": true
   },
   "outputs": [
    {
     "name": "stdout",
     "output_type": "stream",
     "text": [
      "Reality took 0.04494667053222656 seconds to run!\n"
     ]
    }
   ],
   "source": [
    "import time\n",
    "import numpy as np\n",
    "import pymc as pm\n",
    "from src.baseSIR import real_sir\n",
    "import arviz as az\n",
    "\n",
    "\n",
    "\n",
    "#Initialise RNG\n",
    "seed = 6\n",
    "rng = np.random.default_rng(seed)\n",
    "def sim_sir(model_rng, b, g, size=None):\n",
    "    return real_sir(X0, mu, b, g, tmax, tstep, rng) * factor\n",
    "\n",
    "\n",
    "# Run the \"real world\"\n",
    "X0 = [900, 100, 0]\n",
    "beta = 3\n",
    "gamma = 1\n",
    "mu = 0\n",
    "tmax = 10\n",
    "tstep = 0.05\n",
    "start_time = time.time()\n",
    "reality = real_sir(X0, mu, beta, gamma, tmax, tstep,rng)\n",
    "print(f\"Reality took {time.time() - start_time} seconds to run!\")"
   ]
  },
  {
   "cell_type": "code",
   "execution_count": null,
   "outputs": [],
   "source": [
    "# Resolution X1\n",
    "X0 = [900, 100, 0]\n",
    "mu = 0\n",
    "tmax = 10\n",
    "tstep = 0.05\n",
    "factor = 1\n",
    "start_time = time.time()\n",
    "with pm.Model() as test:\n",
    "    b = pm.HalfNormal(\"b\", 5)\n",
    "    g = pm.HalfNormal(\"g\", 5)\n",
    "    s = pm.Simulator(\"s\", sim_sir, params=(b, g), epsilon=500, observed=reality)\n",
    "    idata1 = pm.sample_smc(progressbar=False)\n",
    "print(f\"Resolution X1 took {time.time() - start_time} seconds to fit!\")"
   ],
   "metadata": {
    "collapsed": false
   }
  },
  {
   "cell_type": "code",
   "execution_count": null,
   "outputs": [],
   "source": [
    "# Resolution X10\n",
    "X0 = [90, 10, 0]\n",
    "mu = 0\n",
    "tmax = 10\n",
    "tstep = 0.05\n",
    "factor = 10\n",
    "start_time = time.time()\n",
    "with pm.Model() as test:\n",
    "    b = pm.HalfNormal(\"b\", 5)\n",
    "    g = pm.HalfNormal(\"g\", 5)\n",
    "    s = pm.Simulator(\"s\", sim_sir, params=(b, g), epsilon=500, observed=reality)\n",
    "    idata2 = pm.sample_smc(progressbar=False)\n",
    "print(f\"Resolution X2 took {time.time() - start_time} seconds to fit!\")\n",
    "\n"
   ],
   "metadata": {
    "collapsed": false
   }
  },
  {
   "cell_type": "code",
   "execution_count": 2,
   "outputs": [
    {
     "name": "stderr",
     "output_type": "stream",
     "text": [
      "Initializing SMC sampler...\n",
      "Sampling 6 chains in 6 jobs\n",
      "The rhat statistic is larger than 1.01 for some parameters. This indicates problems during sampling. See https://arxiv.org/abs/1903.08008 for details\n",
      "The effective sample size per chain is smaller than 100 for some parameters.  A higher number is needed for reliable rhat and ess computation. See https://arxiv.org/abs/1903.08008 for details\n"
     ]
    },
    {
     "name": "stdout",
     "output_type": "stream",
     "text": [
      "Resolution X3 took 153.59133219718933 seconds to fit!\n"
     ]
    }
   ],
   "source": [
    "# Resolution X100\n",
    "X0 = [9, 1, 0]\n",
    "mu = 0\n",
    "tmax = 10\n",
    "tstep = 0.05\n",
    "factor = 100\n",
    "start_time = time.time()\n",
    "with pm.Model() as test:\n",
    "    b = pm.HalfNormal(\"b\", 5)\n",
    "    g = pm.HalfNormal(\"g\", 5)\n",
    "    s = pm.Simulator(\"s\", sim_sir, params=(b, g), epsilon=500, observed=reality)\n",
    "    idata3 = pm.sample_smc(progressbar=False)\n",
    "print(f\"Resolution X3 took {time.time() - start_time} seconds to fit!\")"
   ],
   "metadata": {
    "collapsed": false
   }
  },
  {
   "cell_type": "code",
   "execution_count": 21,
   "outputs": [
    {
     "data": {
      "text/plain": "<xarray.Dataset>\nDimensions:                  (chain: 6, draw: 6)\nCoordinates:\n  * chain                    (chain) int32 0 1 2 3 4 5\n  * draw                     (draw) int32 0 1 2 3 4 5\nData variables:\n    log_marginal_likelihood  (chain, draw) object nan nan nan ... nan nan -10.4\n    beta                     (chain, draw) object 0.0054473876953125 ... 1\n    accept_rate              (chain, draw) object 0.5155 0.3902 ... 0.0219\nAttributes:\n    created_at:                 2023-11-02T09:54:18.608481\n    arviz_version:              0.16.0\n    inference_library:          pymc\n    inference_library_version:  5.6.1\n    _n_draws:                   2000\n    threshold:                  0.5\n    _n_tune:                    4\n    correlation_threshold:      0.01\n    _t_sampling:                152.69866466522217",
      "text/html": "<div><svg style=\"position: absolute; width: 0; height: 0; overflow: hidden\">\n<defs>\n<symbol id=\"icon-database\" viewBox=\"0 0 32 32\">\n<path d=\"M16 0c-8.837 0-16 2.239-16 5v4c0 2.761 7.163 5 16 5s16-2.239 16-5v-4c0-2.761-7.163-5-16-5z\"></path>\n<path d=\"M16 17c-8.837 0-16-2.239-16-5v6c0 2.761 7.163 5 16 5s16-2.239 16-5v-6c0 2.761-7.163 5-16 5z\"></path>\n<path d=\"M16 26c-8.837 0-16-2.239-16-5v6c0 2.761 7.163 5 16 5s16-2.239 16-5v-6c0 2.761-7.163 5-16 5z\"></path>\n</symbol>\n<symbol id=\"icon-file-text2\" viewBox=\"0 0 32 32\">\n<path d=\"M28.681 7.159c-0.694-0.947-1.662-2.053-2.724-3.116s-2.169-2.030-3.116-2.724c-1.612-1.182-2.393-1.319-2.841-1.319h-15.5c-1.378 0-2.5 1.121-2.5 2.5v27c0 1.378 1.122 2.5 2.5 2.5h23c1.378 0 2.5-1.122 2.5-2.5v-19.5c0-0.448-0.137-1.23-1.319-2.841zM24.543 5.457c0.959 0.959 1.712 1.825 2.268 2.543h-4.811v-4.811c0.718 0.556 1.584 1.309 2.543 2.268zM28 29.5c0 0.271-0.229 0.5-0.5 0.5h-23c-0.271 0-0.5-0.229-0.5-0.5v-27c0-0.271 0.229-0.5 0.5-0.5 0 0 15.499-0 15.5 0v7c0 0.552 0.448 1 1 1h7v19.5z\"></path>\n<path d=\"M23 26h-14c-0.552 0-1-0.448-1-1s0.448-1 1-1h14c0.552 0 1 0.448 1 1s-0.448 1-1 1z\"></path>\n<path d=\"M23 22h-14c-0.552 0-1-0.448-1-1s0.448-1 1-1h14c0.552 0 1 0.448 1 1s-0.448 1-1 1z\"></path>\n<path d=\"M23 18h-14c-0.552 0-1-0.448-1-1s0.448-1 1-1h14c0.552 0 1 0.448 1 1s-0.448 1-1 1z\"></path>\n</symbol>\n</defs>\n</svg>\n<style>/* CSS stylesheet for displaying xarray objects in jupyterlab.\n *\n */\n\n:root {\n  --xr-font-color0: var(--jp-content-font-color0, rgba(0, 0, 0, 1));\n  --xr-font-color2: var(--jp-content-font-color2, rgba(0, 0, 0, 0.54));\n  --xr-font-color3: var(--jp-content-font-color3, rgba(0, 0, 0, 0.38));\n  --xr-border-color: var(--jp-border-color2, #e0e0e0);\n  --xr-disabled-color: var(--jp-layout-color3, #bdbdbd);\n  --xr-background-color: var(--jp-layout-color0, white);\n  --xr-background-color-row-even: var(--jp-layout-color1, white);\n  --xr-background-color-row-odd: var(--jp-layout-color2, #eeeeee);\n}\n\nhtml[theme=dark],\nbody[data-theme=dark],\nbody.vscode-dark {\n  --xr-font-color0: rgba(255, 255, 255, 1);\n  --xr-font-color2: rgba(255, 255, 255, 0.54);\n  --xr-font-color3: rgba(255, 255, 255, 0.38);\n  --xr-border-color: #1F1F1F;\n  --xr-disabled-color: #515151;\n  --xr-background-color: #111111;\n  --xr-background-color-row-even: #111111;\n  --xr-background-color-row-odd: #313131;\n}\n\n.xr-wrap {\n  display: block !important;\n  min-width: 300px;\n  max-width: 700px;\n}\n\n.xr-text-repr-fallback {\n  /* fallback to plain text repr when CSS is not injected (untrusted notebook) */\n  display: none;\n}\n\n.xr-header {\n  padding-top: 6px;\n  padding-bottom: 6px;\n  margin-bottom: 4px;\n  border-bottom: solid 1px var(--xr-border-color);\n}\n\n.xr-header > div,\n.xr-header > ul {\n  display: inline;\n  margin-top: 0;\n  margin-bottom: 0;\n}\n\n.xr-obj-type,\n.xr-array-name {\n  margin-left: 2px;\n  margin-right: 10px;\n}\n\n.xr-obj-type {\n  color: var(--xr-font-color2);\n}\n\n.xr-sections {\n  padding-left: 0 !important;\n  display: grid;\n  grid-template-columns: 150px auto auto 1fr 20px 20px;\n}\n\n.xr-section-item {\n  display: contents;\n}\n\n.xr-section-item input {\n  display: none;\n}\n\n.xr-section-item input + label {\n  color: var(--xr-disabled-color);\n}\n\n.xr-section-item input:enabled + label {\n  cursor: pointer;\n  color: var(--xr-font-color2);\n}\n\n.xr-section-item input:enabled + label:hover {\n  color: var(--xr-font-color0);\n}\n\n.xr-section-summary {\n  grid-column: 1;\n  color: var(--xr-font-color2);\n  font-weight: 500;\n}\n\n.xr-section-summary > span {\n  display: inline-block;\n  padding-left: 0.5em;\n}\n\n.xr-section-summary-in:disabled + label {\n  color: var(--xr-font-color2);\n}\n\n.xr-section-summary-in + label:before {\n  display: inline-block;\n  content: '►';\n  font-size: 11px;\n  width: 15px;\n  text-align: center;\n}\n\n.xr-section-summary-in:disabled + label:before {\n  color: var(--xr-disabled-color);\n}\n\n.xr-section-summary-in:checked + label:before {\n  content: '▼';\n}\n\n.xr-section-summary-in:checked + label > span {\n  display: none;\n}\n\n.xr-section-summary,\n.xr-section-inline-details {\n  padding-top: 4px;\n  padding-bottom: 4px;\n}\n\n.xr-section-inline-details {\n  grid-column: 2 / -1;\n}\n\n.xr-section-details {\n  display: none;\n  grid-column: 1 / -1;\n  margin-bottom: 5px;\n}\n\n.xr-section-summary-in:checked ~ .xr-section-details {\n  display: contents;\n}\n\n.xr-array-wrap {\n  grid-column: 1 / -1;\n  display: grid;\n  grid-template-columns: 20px auto;\n}\n\n.xr-array-wrap > label {\n  grid-column: 1;\n  vertical-align: top;\n}\n\n.xr-preview {\n  color: var(--xr-font-color3);\n}\n\n.xr-array-preview,\n.xr-array-data {\n  padding: 0 5px !important;\n  grid-column: 2;\n}\n\n.xr-array-data,\n.xr-array-in:checked ~ .xr-array-preview {\n  display: none;\n}\n\n.xr-array-in:checked ~ .xr-array-data,\n.xr-array-preview {\n  display: inline-block;\n}\n\n.xr-dim-list {\n  display: inline-block !important;\n  list-style: none;\n  padding: 0 !important;\n  margin: 0;\n}\n\n.xr-dim-list li {\n  display: inline-block;\n  padding: 0;\n  margin: 0;\n}\n\n.xr-dim-list:before {\n  content: '(';\n}\n\n.xr-dim-list:after {\n  content: ')';\n}\n\n.xr-dim-list li:not(:last-child):after {\n  content: ',';\n  padding-right: 5px;\n}\n\n.xr-has-index {\n  font-weight: bold;\n}\n\n.xr-var-list,\n.xr-var-item {\n  display: contents;\n}\n\n.xr-var-item > div,\n.xr-var-item label,\n.xr-var-item > .xr-var-name span {\n  background-color: var(--xr-background-color-row-even);\n  margin-bottom: 0;\n}\n\n.xr-var-item > .xr-var-name:hover span {\n  padding-right: 5px;\n}\n\n.xr-var-list > li:nth-child(odd) > div,\n.xr-var-list > li:nth-child(odd) > label,\n.xr-var-list > li:nth-child(odd) > .xr-var-name span {\n  background-color: var(--xr-background-color-row-odd);\n}\n\n.xr-var-name {\n  grid-column: 1;\n}\n\n.xr-var-dims {\n  grid-column: 2;\n}\n\n.xr-var-dtype {\n  grid-column: 3;\n  text-align: right;\n  color: var(--xr-font-color2);\n}\n\n.xr-var-preview {\n  grid-column: 4;\n}\n\n.xr-index-preview {\n  grid-column: 2 / 5;\n  color: var(--xr-font-color2);\n}\n\n.xr-var-name,\n.xr-var-dims,\n.xr-var-dtype,\n.xr-preview,\n.xr-attrs dt {\n  white-space: nowrap;\n  overflow: hidden;\n  text-overflow: ellipsis;\n  padding-right: 10px;\n}\n\n.xr-var-name:hover,\n.xr-var-dims:hover,\n.xr-var-dtype:hover,\n.xr-attrs dt:hover {\n  overflow: visible;\n  width: auto;\n  z-index: 1;\n}\n\n.xr-var-attrs,\n.xr-var-data,\n.xr-index-data {\n  display: none;\n  background-color: var(--xr-background-color) !important;\n  padding-bottom: 5px !important;\n}\n\n.xr-var-attrs-in:checked ~ .xr-var-attrs,\n.xr-var-data-in:checked ~ .xr-var-data,\n.xr-index-data-in:checked ~ .xr-index-data {\n  display: block;\n}\n\n.xr-var-data > table {\n  float: right;\n}\n\n.xr-var-name span,\n.xr-var-data,\n.xr-index-name div,\n.xr-index-data,\n.xr-attrs {\n  padding-left: 25px !important;\n}\n\n.xr-attrs,\n.xr-var-attrs,\n.xr-var-data,\n.xr-index-data {\n  grid-column: 1 / -1;\n}\n\ndl.xr-attrs {\n  padding: 0;\n  margin: 0;\n  display: grid;\n  grid-template-columns: 125px auto;\n}\n\n.xr-attrs dt,\n.xr-attrs dd {\n  padding: 0;\n  margin: 0;\n  float: left;\n  padding-right: 10px;\n  width: auto;\n}\n\n.xr-attrs dt {\n  font-weight: normal;\n  grid-column: 1;\n}\n\n.xr-attrs dt:hover span {\n  display: inline-block;\n  background: var(--xr-background-color);\n  padding-right: 10px;\n}\n\n.xr-attrs dd {\n  grid-column: 2;\n  white-space: pre-wrap;\n  word-break: break-all;\n}\n\n.xr-icon-database,\n.xr-icon-file-text2,\n.xr-no-icon {\n  display: inline-block;\n  vertical-align: middle;\n  width: 1em;\n  height: 1.5em !important;\n  stroke-width: 0;\n  stroke: currentColor;\n  fill: currentColor;\n}\n</style><pre class='xr-text-repr-fallback'>&lt;xarray.Dataset&gt;\nDimensions:                  (chain: 6, draw: 6)\nCoordinates:\n  * chain                    (chain) int32 0 1 2 3 4 5\n  * draw                     (draw) int32 0 1 2 3 4 5\nData variables:\n    log_marginal_likelihood  (chain, draw) object nan nan nan ... nan nan -10.4\n    beta                     (chain, draw) object 0.0054473876953125 ... 1\n    accept_rate              (chain, draw) object 0.5155 0.3902 ... 0.0219\nAttributes:\n    created_at:                 2023-11-02T09:54:18.608481\n    arviz_version:              0.16.0\n    inference_library:          pymc\n    inference_library_version:  5.6.1\n    _n_draws:                   2000\n    threshold:                  0.5\n    _n_tune:                    4\n    correlation_threshold:      0.01\n    _t_sampling:                152.69866466522217</pre><div class='xr-wrap' style='display:none'><div class='xr-header'><div class='xr-obj-type'>xarray.Dataset</div></div><ul class='xr-sections'><li class='xr-section-item'><input id='section-65e98e41-e8dc-4dee-91af-8183e3bf82a6' class='xr-section-summary-in' type='checkbox' disabled ><label for='section-65e98e41-e8dc-4dee-91af-8183e3bf82a6' class='xr-section-summary'  title='Expand/collapse section'>Dimensions:</label><div class='xr-section-inline-details'><ul class='xr-dim-list'><li><span class='xr-has-index'>chain</span>: 6</li><li><span class='xr-has-index'>draw</span>: 6</li></ul></div><div class='xr-section-details'></div></li><li class='xr-section-item'><input id='section-06234f3d-60b4-49fa-9fdb-6d4dd7ddd4af' class='xr-section-summary-in' type='checkbox'  checked><label for='section-06234f3d-60b4-49fa-9fdb-6d4dd7ddd4af' class='xr-section-summary' >Coordinates: <span>(2)</span></label><div class='xr-section-inline-details'></div><div class='xr-section-details'><ul class='xr-var-list'><li class='xr-var-item'><div class='xr-var-name'><span class='xr-has-index'>chain</span></div><div class='xr-var-dims'>(chain)</div><div class='xr-var-dtype'>int32</div><div class='xr-var-preview xr-preview'>0 1 2 3 4 5</div><input id='attrs-138b17cb-40f2-4c9e-bf44-1492d892c04e' class='xr-var-attrs-in' type='checkbox' disabled><label for='attrs-138b17cb-40f2-4c9e-bf44-1492d892c04e' title='Show/Hide attributes'><svg class='icon xr-icon-file-text2'><use xlink:href='#icon-file-text2'></use></svg></label><input id='data-3c4474ff-5eb0-4980-ab6a-1a52979ecd34' class='xr-var-data-in' type='checkbox'><label for='data-3c4474ff-5eb0-4980-ab6a-1a52979ecd34' title='Show/Hide data repr'><svg class='icon xr-icon-database'><use xlink:href='#icon-database'></use></svg></label><div class='xr-var-attrs'><dl class='xr-attrs'></dl></div><div class='xr-var-data'><pre>array([0, 1, 2, 3, 4, 5])</pre></div></li><li class='xr-var-item'><div class='xr-var-name'><span class='xr-has-index'>draw</span></div><div class='xr-var-dims'>(draw)</div><div class='xr-var-dtype'>int32</div><div class='xr-var-preview xr-preview'>0 1 2 3 4 5</div><input id='attrs-56309998-4d1a-45d9-a32d-364681042118' class='xr-var-attrs-in' type='checkbox' disabled><label for='attrs-56309998-4d1a-45d9-a32d-364681042118' title='Show/Hide attributes'><svg class='icon xr-icon-file-text2'><use xlink:href='#icon-file-text2'></use></svg></label><input id='data-3393ee6a-3517-460f-b5ca-70b7ddf5ab35' class='xr-var-data-in' type='checkbox'><label for='data-3393ee6a-3517-460f-b5ca-70b7ddf5ab35' title='Show/Hide data repr'><svg class='icon xr-icon-database'><use xlink:href='#icon-database'></use></svg></label><div class='xr-var-attrs'><dl class='xr-attrs'></dl></div><div class='xr-var-data'><pre>array([0, 1, 2, 3, 4, 5])</pre></div></li></ul></div></li><li class='xr-section-item'><input id='section-729e479a-5ff3-4ec7-b26c-d0fc214f127b' class='xr-section-summary-in' type='checkbox'  checked><label for='section-729e479a-5ff3-4ec7-b26c-d0fc214f127b' class='xr-section-summary' >Data variables: <span>(3)</span></label><div class='xr-section-inline-details'></div><div class='xr-section-details'><ul class='xr-var-list'><li class='xr-var-item'><div class='xr-var-name'><span>log_marginal_likelihood</span></div><div class='xr-var-dims'>(chain, draw)</div><div class='xr-var-dtype'>object</div><div class='xr-var-preview xr-preview'>nan nan nan nan ... nan nan -10.4</div><input id='attrs-6bf486c2-c6c0-41f9-832e-28413f8c7bb5' class='xr-var-attrs-in' type='checkbox' disabled><label for='attrs-6bf486c2-c6c0-41f9-832e-28413f8c7bb5' title='Show/Hide attributes'><svg class='icon xr-icon-file-text2'><use xlink:href='#icon-file-text2'></use></svg></label><input id='data-05d8bd3f-e7f2-4b81-b402-b90053a27b88' class='xr-var-data-in' type='checkbox'><label for='data-05d8bd3f-e7f2-4b81-b402-b90053a27b88' title='Show/Hide data repr'><svg class='icon xr-icon-database'><use xlink:href='#icon-database'></use></svg></label><div class='xr-var-attrs'><dl class='xr-attrs'></dl></div><div class='xr-var-data'><pre>array([[nan, nan, nan, nan, nan, -10.217128625958395],\n       [nan, nan, nan, nan, nan, -10.584653696083429],\n       [nan, nan, nan, nan, nan, -10.401133446327655],\n       [nan, nan, nan, nan, nan, -10.343758780936959],\n       [nan, nan, nan, nan, nan, -10.550599803017013],\n       [nan, nan, nan, nan, nan, -10.400296468131577]], dtype=object)</pre></div></li><li class='xr-var-item'><div class='xr-var-name'><span>beta</span></div><div class='xr-var-dims'>(chain, draw)</div><div class='xr-var-dtype'>object</div><div class='xr-var-preview xr-preview'>0.0054473876953125 ... 1</div><input id='attrs-f9569163-231d-401f-b62d-e1c732d02faa' class='xr-var-attrs-in' type='checkbox' disabled><label for='attrs-f9569163-231d-401f-b62d-e1c732d02faa' title='Show/Hide attributes'><svg class='icon xr-icon-file-text2'><use xlink:href='#icon-file-text2'></use></svg></label><input id='data-805d6a94-1dc6-4110-8967-ebc962735a8f' class='xr-var-data-in' type='checkbox'><label for='data-805d6a94-1dc6-4110-8967-ebc962735a8f' title='Show/Hide data repr'><svg class='icon xr-icon-database'><use xlink:href='#icon-database'></use></svg></label><div class='xr-var-attrs'><dl class='xr-attrs'></dl></div><div class='xr-var-data'><pre>array([[0.0054473876953125, 0.03898615995422006, 0.12839517719751825,\n        0.33767130240345977, 0.7918084636853271, 1],\n       [0.0054473876953125, 0.03746443707495928, 0.13053634456963437,\n        0.346875644538871, 0.7968838614185485, 1],\n       [0.005401611328125, 0.03766287676990032, 0.12916834320958515,\n        0.3294514685764301, 0.7503513915327593, 1],\n       [0.00540924072265625, 0.03724429220892489, 0.1288890747077147,\n        0.3367395314967747, 0.7923494547537617, 1],\n       [0.00554656982421875, 0.03914454020559788, 0.13524847906148807,\n        0.35559509432863645, 0.8160766438415893, 1],\n       [0.005580902099609375, 0.038143591838888824, 0.13297942406933316,\n        0.3437941253310357, 0.8184976646038298, 1]], dtype=object)</pre></div></li><li class='xr-var-item'><div class='xr-var-name'><span>accept_rate</span></div><div class='xr-var-dims'>(chain, draw)</div><div class='xr-var-dtype'>object</div><div class='xr-var-preview xr-preview'>0.5155 0.3902 ... 0.03065 0.0219</div><input id='attrs-63e9cce1-11e2-4ade-a5b9-3d2c5b4d988a' class='xr-var-attrs-in' type='checkbox' disabled><label for='attrs-63e9cce1-11e2-4ade-a5b9-3d2c5b4d988a' title='Show/Hide attributes'><svg class='icon xr-icon-file-text2'><use xlink:href='#icon-file-text2'></use></svg></label><input id='data-8e9b9faa-7919-4367-ac20-192811fdb83f' class='xr-var-data-in' type='checkbox'><label for='data-8e9b9faa-7919-4367-ac20-192811fdb83f' title='Show/Hide data repr'><svg class='icon xr-icon-database'><use xlink:href='#icon-database'></use></svg></label><div class='xr-var-attrs'><dl class='xr-attrs'></dl></div><div class='xr-var-data'><pre>array([[0.5155, 0.39025, 0.2239, 0.08555, 0.024083333333333335,\n        0.019166666666666665],\n       [0.5065, 0.3919166666666667, 0.2232222222222222,\n        0.09078571428571429, 0.03122222222222222, 0.024625],\n       [0.5110833333333333, 0.38275, 0.23013636363636364,\n        0.09166666666666666, 0.03, 0.0195],\n       [0.5089166666666667, 0.3859166666666667, 0.225,\n        0.09297058823529412, 0.02975, 0.0195],\n       [0.5218333333333334, 0.3799375, 0.22166666666666668,\n        0.09795454545454546, 0.0345, 0.019714285714285715],\n       [0.5294166666666666, 0.3811428571428571, 0.2273181818181818,\n        0.09228571428571429, 0.03065, 0.0219]], dtype=object)</pre></div></li></ul></div></li><li class='xr-section-item'><input id='section-274f3bae-7060-4006-bd13-11c47f2d3350' class='xr-section-summary-in' type='checkbox'  ><label for='section-274f3bae-7060-4006-bd13-11c47f2d3350' class='xr-section-summary' >Indexes: <span>(2)</span></label><div class='xr-section-inline-details'></div><div class='xr-section-details'><ul class='xr-var-list'><li class='xr-var-item'><div class='xr-index-name'><div>chain</div></div><div class='xr-index-preview'>PandasIndex</div><div></div><input id='index-68e59b11-0fd2-43b9-90f7-9c2abe532c16' class='xr-index-data-in' type='checkbox'/><label for='index-68e59b11-0fd2-43b9-90f7-9c2abe532c16' title='Show/Hide index repr'><svg class='icon xr-icon-database'><use xlink:href='#icon-database'></use></svg></label><div class='xr-index-data'><pre>PandasIndex(Index([0, 1, 2, 3, 4, 5], dtype=&#x27;int32&#x27;, name=&#x27;chain&#x27;))</pre></div></li><li class='xr-var-item'><div class='xr-index-name'><div>draw</div></div><div class='xr-index-preview'>PandasIndex</div><div></div><input id='index-5ef35e30-cdad-4a11-82fb-02f793e6765e' class='xr-index-data-in' type='checkbox'/><label for='index-5ef35e30-cdad-4a11-82fb-02f793e6765e' title='Show/Hide index repr'><svg class='icon xr-icon-database'><use xlink:href='#icon-database'></use></svg></label><div class='xr-index-data'><pre>PandasIndex(Index([0, 1, 2, 3, 4, 5], dtype=&#x27;int32&#x27;, name=&#x27;draw&#x27;))</pre></div></li></ul></div></li><li class='xr-section-item'><input id='section-7e4e026d-5f7d-4161-b7e5-08402a92eb3a' class='xr-section-summary-in' type='checkbox'  checked><label for='section-7e4e026d-5f7d-4161-b7e5-08402a92eb3a' class='xr-section-summary' >Attributes: <span>(9)</span></label><div class='xr-section-inline-details'></div><div class='xr-section-details'><dl class='xr-attrs'><dt><span>created_at :</span></dt><dd>2023-11-02T09:54:18.608481</dd><dt><span>arviz_version :</span></dt><dd>0.16.0</dd><dt><span>inference_library :</span></dt><dd>pymc</dd><dt><span>inference_library_version :</span></dt><dd>5.6.1</dd><dt><span>_n_draws :</span></dt><dd>2000</dd><dt><span>threshold :</span></dt><dd>0.5</dd><dt><span>_n_tune :</span></dt><dd>4</dd><dt><span>correlation_threshold :</span></dt><dd>0.01</dd><dt><span>_t_sampling :</span></dt><dd>152.69866466522217</dd></dl></div></li></ul></div></div>"
     },
     "execution_count": 21,
     "metadata": {},
     "output_type": "execute_result"
    }
   ],
   "source": [
    "idata3.sample_stats"
   ],
   "metadata": {
    "collapsed": false
   }
  },
  {
   "cell_type": "code",
   "execution_count": null,
   "outputs": [],
   "source": [],
   "metadata": {
    "collapsed": false
   }
  }
 ],
 "metadata": {
  "kernelspec": {
   "display_name": "Python 3",
   "language": "python",
   "name": "python3"
  },
  "language_info": {
   "codemirror_mode": {
    "name": "ipython",
    "version": 2
   },
   "file_extension": ".py",
   "mimetype": "text/x-python",
   "name": "python",
   "nbconvert_exporter": "python",
   "pygments_lexer": "ipython2",
   "version": "2.7.6"
  }
 },
 "nbformat": 4,
 "nbformat_minor": 0
}
