{
 "cells": [
  {
   "cell_type": "code",
   "execution_count": 1,
   "metadata": {
    "collapsed": true
   },
   "outputs": [],
   "source": [
    "#Import modules\n",
    "import numpy as np\n",
    "import pickle\n",
    "import seaborn as sns\n",
    "from matplotlib import pyplot as plt\n",
    "from matplotlib.lines import Line2D\n",
    "import pandas as pd"
   ]
  },
  {
   "cell_type": "code",
   "execution_count": 2,
   "outputs": [],
   "source": [
    "# Set the scenario\n",
    "Typ = [\"simple\", \"simple_I0\", \"meta\"][1]\n",
    "siz = [\"10\", \"100\", \"1000\"][:]\n",
    "beta_controls = np.arange(0,110,10)"
   ],
   "metadata": {
    "collapsed": false
   }
  },
  {
   "cell_type": "code",
   "execution_count": 3,
   "outputs": [
    {
     "name": "stdout",
     "output_type": "stream",
     "text": [
      "[  0  10  20  30  40  50  60  70  80  90 100]\n"
     ]
    }
   ],
   "source": [
    "print(beta_controls)"
   ],
   "metadata": {
    "collapsed": false
   }
  },
  {
   "cell_type": "code",
   "execution_count": 4,
   "outputs": [
    {
     "name": "stdout",
     "output_type": "stream",
     "text": [
      " The Proportions of extinctions for N=10:1.0\n",
      " The Proportions of extinctions for N=10:0.944\n",
      " The Proportions of extinctions for N=10:0.839\n",
      " The Proportions of extinctions for N=10:0.74\n",
      " The Proportions of extinctions for N=10:0.677\n",
      " The Proportions of extinctions for N=10:0.585\n",
      " The Proportions of extinctions for N=10:0.558\n",
      " The Proportions of extinctions for N=10:0.496\n",
      " The Proportions of extinctions for N=10:0.458\n",
      " The Proportions of extinctions for N=10:0.437\n",
      " The Proportions of extinctions for N=10:0.412\n",
      " The Proportions of extinctions for N=100:1.0\n",
      " The Proportions of extinctions for N=100:1.0\n",
      " The Proportions of extinctions for N=100:0.997\n",
      " The Proportions of extinctions for N=100:0.962\n",
      " The Proportions of extinctions for N=100:0.857\n",
      " The Proportions of extinctions for N=100:0.758\n",
      " The Proportions of extinctions for N=100:0.652\n",
      " The Proportions of extinctions for N=100:0.533\n",
      " The Proportions of extinctions for N=100:0.448\n",
      " The Proportions of extinctions for N=100:0.423\n",
      " The Proportions of extinctions for N=100:0.363\n",
      " The Proportions of extinctions for N=1000:1.0\n",
      " The Proportions of extinctions for N=1000:1.0\n",
      " The Proportions of extinctions for N=1000:1.0\n",
      " The Proportions of extinctions for N=1000:0.978\n",
      " The Proportions of extinctions for N=1000:0.796\n",
      " The Proportions of extinctions for N=1000:0.617\n",
      " The Proportions of extinctions for N=1000:0.522\n",
      " The Proportions of extinctions for N=1000:0.46\n",
      " The Proportions of extinctions for N=1000:0.398\n",
      " The Proportions of extinctions for N=1000:0.333\n",
      " The Proportions of extinctions for N=1000:0.33\n"
     ]
    }
   ],
   "source": [
    "#get pickle\n",
    "plot_dict = {}\n",
    "ex_dict ={}\n",
    "ex_dict[\"10\"] = []\n",
    "ex_dict[\"100\"] = []\n",
    "ex_dict[\"1000\"] = []\n",
    "for i in siz:\n",
    "    with open(f\"../../../../Data/R0_3/Sims_SIR/Pickles/Sim_dict_{Typ}_{i}c1.pickle\", 'rb') as handle:\n",
    "        out_dict = pickle.load(handle)\n",
    "    plot_dict[f\"Size_{i}\"] = out_dict\n",
    "    for j in range(len(beta_controls)):\n",
    "        print(f\" The Proportions of extinctions for N={i}:{sum(out_dict[f'Control={j}']['Extinction'])/1000}\")\n",
    "        ex_dict[f'{i}'].append(sum(out_dict[f'Control={j}']['Extinction'])/1000)\n"
   ],
   "metadata": {
    "collapsed": false
   }
  },
  {
   "cell_type": "code",
   "execution_count": 5,
   "outputs": [],
   "source": [
    "#fig, ax0 = plt.subplots()\n",
    "#ax0.scatter(beta_controls,ex_dict[\"10\"], color=\"b\",label = \"N=10\", marker =\"1\",linewidths=3)\n",
    "#ax0.scatter(beta_controls,ex_dict[\"100\"], color=\"g\",label = \"N=100\", marker =\"2\",linewidths=3)\n",
    "#ax0.scatter(beta_controls,ex_dict[\"100\"], color=\"r\",label = \"N=1000\",marker=\"3\",linewidths=3)\n",
    "#ax0.set_xlabel(\"Beta Multiplier for Control\")\n",
    "#ax0.set_ylabel(\"Proportion of runs that result in extinction\")\n",
    "#ax0.legend()\n",
    "#fig.show()"
   ],
   "metadata": {
    "collapsed": false
   }
  },
  {
   "cell_type": "code",
   "execution_count": 7,
   "outputs": [
    {
     "ename": "TypeError",
     "evalue": "cannot convert the series to <class 'int'>",
     "output_type": "error",
     "traceback": [
      "\u001B[1;31m---------------------------------------------------------------------------\u001B[0m",
      "\u001B[1;31mTypeError\u001B[0m                                 Traceback (most recent call last)",
      "Cell \u001B[1;32mIn[7], line 17\u001B[0m\n\u001B[0;32m     15\u001B[0m                 df\u001B[38;5;241m.\u001B[39mloc[counter,\u001B[38;5;124m\"\u001B[39m\u001B[38;5;124mN\u001B[39m\u001B[38;5;124m\"\u001B[39m] \u001B[38;5;241m=\u001B[39m \u001B[38;5;124mf\u001B[39m\u001B[38;5;124m\"\u001B[39m\u001B[38;5;132;01m{\u001B[39;00mk\u001B[38;5;132;01m}\u001B[39;00m\u001B[38;5;124m\"\u001B[39m\n\u001B[0;32m     16\u001B[0m                 counter \u001B[38;5;241m+\u001B[39m\u001B[38;5;241m=\u001B[39m\u001B[38;5;241m1\u001B[39m\n\u001B[1;32m---> 17\u001B[0m df\u001B[38;5;241m.\u001B[39mloc[\u001B[38;5;124m\"\u001B[39m\u001B[38;5;124mControl_int\u001B[39m\u001B[38;5;124m\"\u001B[39m] \u001B[38;5;241m=\u001B[39m \u001B[38;5;28;43mint\u001B[39;49m\u001B[43m(\u001B[49m\u001B[43mdf\u001B[49m\u001B[38;5;241;43m.\u001B[39;49m\u001B[43mloc\u001B[49m\u001B[43m[\u001B[49m\u001B[43m:\u001B[49m\u001B[43m,\u001B[49m\u001B[38;5;124;43m\"\u001B[39;49m\u001B[38;5;124;43mControl\u001B[39;49m\u001B[38;5;124;43m\"\u001B[39;49m\u001B[43m]\u001B[49m\u001B[43m)\u001B[49m\n\u001B[0;32m     18\u001B[0m df \u001B[38;5;241m=\u001B[39m df\u001B[38;5;241m.\u001B[39mset_index(\u001B[38;5;124m\"\u001B[39m\u001B[38;5;124mControl_int\u001B[39m\u001B[38;5;124m\"\u001B[39m)\n\u001B[0;32m     19\u001B[0m df \u001B[38;5;241m=\u001B[39m df\u001B[38;5;241m.\u001B[39msort_values([\u001B[38;5;124m\"\u001B[39m\u001B[38;5;124mControl_int\u001B[39m\u001B[38;5;124m\"\u001B[39m])\n",
      "File \u001B[1;32m~\\anaconda3\\envs\\PLS Research\\lib\\site-packages\\pandas\\core\\series.py:230\u001B[0m, in \u001B[0;36m_coerce_method.<locals>.wrapper\u001B[1;34m(self)\u001B[0m\n\u001B[0;32m    222\u001B[0m     warnings\u001B[38;5;241m.\u001B[39mwarn(\n\u001B[0;32m    223\u001B[0m         \u001B[38;5;124mf\u001B[39m\u001B[38;5;124m\"\u001B[39m\u001B[38;5;124mCalling \u001B[39m\u001B[38;5;132;01m{\u001B[39;00mconverter\u001B[38;5;241m.\u001B[39m\u001B[38;5;18m__name__\u001B[39m\u001B[38;5;132;01m}\u001B[39;00m\u001B[38;5;124m on a single element Series is \u001B[39m\u001B[38;5;124m\"\u001B[39m\n\u001B[0;32m    224\u001B[0m         \u001B[38;5;124m\"\u001B[39m\u001B[38;5;124mdeprecated and will raise a TypeError in the future. \u001B[39m\u001B[38;5;124m\"\u001B[39m\n\u001B[1;32m   (...)\u001B[0m\n\u001B[0;32m    227\u001B[0m         stacklevel\u001B[38;5;241m=\u001B[39mfind_stack_level(),\n\u001B[0;32m    228\u001B[0m     )\n\u001B[0;32m    229\u001B[0m     \u001B[38;5;28;01mreturn\u001B[39;00m converter(\u001B[38;5;28mself\u001B[39m\u001B[38;5;241m.\u001B[39miloc[\u001B[38;5;241m0\u001B[39m])\n\u001B[1;32m--> 230\u001B[0m \u001B[38;5;28;01mraise\u001B[39;00m \u001B[38;5;167;01mTypeError\u001B[39;00m(\u001B[38;5;124mf\u001B[39m\u001B[38;5;124m\"\u001B[39m\u001B[38;5;124mcannot convert the series to \u001B[39m\u001B[38;5;132;01m{\u001B[39;00mconverter\u001B[38;5;132;01m}\u001B[39;00m\u001B[38;5;124m\"\u001B[39m)\n",
      "\u001B[1;31mTypeError\u001B[0m: cannot convert the series to <class 'int'>"
     ]
    }
   ],
   "source": [
    "if Typ != \"meta\":\n",
    "    df = pd.DataFrame(columns=[\"N\",\"Final_size\", \"Tmax\",\"Peak\",\"Tpeak\", \"Control\"])\n",
    "    counter = 0\n",
    "    vars = [\"Final_size\", \"Tmax\",\"Peak\",\"Tpeak\"]\n",
    "    for k in siz:\n",
    "        for j in range(len(beta_controls)):\n",
    "            for i in range(len(plot_dict[f\"Size_{k}\"][f'Control={j}']['Extinction'])):\n",
    "                for w in vars:\n",
    "                    if w in [\"Final_size\", \"Peak\"]:\n",
    "                        df.loc[counter,w] = (plot_dict[f\"Size_{k}\"][f\"Control={j}\"][w][i])/int(k)\n",
    "                    else:\n",
    "                         df.loc[counter,w] = (plot_dict[f\"Size_{k}\"][f\"Control={j}\"][w][i])\n",
    "\n",
    "                df.loc[counter,\"Control\"] = f\"{round(beta_controls[-j-1],2)}\"\n",
    "                df.loc[counter,\"N\"] = f\"{k}\"\n",
    "                counter +=1\n",
    "df.loc[\"Control_int\"] = int(df.loc[:,\"Control\"])\n",
    "df = df.set_index(\"Control_int\")\n",
    "df = df.sort_values([\"Control_int\"])\n",
    "df.reset_index(inplace=True)"
   ],
   "metadata": {
    "collapsed": false
   }
  },
  {
   "cell_type": "code",
   "execution_count": 21,
   "outputs": [
    {
     "name": "stdout",
     "output_type": "stream",
     "text": [
      "9.800000000000008\n",
      "9\n"
     ]
    }
   ],
   "source": [
    "task_id = 888\n",
    "iteration = np.arange(1,10.1,0.1)[int(np.floor(task_id/10))]\n",
    "print(iteration)\n",
    "dispersal_para = np.arange(1,11,1)[int(str(task_id)[-1])]\n",
    "print(dispersal_para)"
   ],
   "metadata": {
    "collapsed": false
   }
  },
  {
   "cell_type": "code",
   "execution_count": null,
   "outputs": [],
   "source": [
    "if Typ != \"meta\":\n",
    "    fig, ax0 = plt.subplots(figsize = (28,16), nrows=2,ncols=2)\n",
    "    #sns.set_context('paper', font_scale=2.4)\n",
    "    # creating a dictionary\n",
    "    font = {'size': 20}\n",
    "    # using rc function\n",
    "    plt.rc('font', **font)\n",
    "    ax0 = ax0.flatten()\n",
    "    vars = [\"Final_size\", \"Extinction\",\"Peak\",\"Tpeak\"]\n",
    "    counter = 0\n",
    "    for w in vars:\n",
    "        if counter == 0:\n",
    "            sns.lineplot(data=df, x = \"Control\", y = w, hue = \"N\", ax =ax0[counter],errorbar=(\"pi\",95),err_style = \"band\",legend=True,marker=\"o\")\n",
    "            ax0[counter].set_xlabel(\"Beta Multiplier for Control\")\n",
    "            ax0[counter].set_ylabel(\"Final Size\")\n",
    "        elif w==\"Extinction\":\n",
    "            ax0[counter].scatter(beta_controls[::-1],ex_dict[\"10\"],label = \"N=10\", marker =\"1\",linewidths=3)\n",
    "            ax0[counter].scatter(beta_controls[::-1],ex_dict[\"100\"],label = \"N=100\", marker =\"2\",linewidths=3)\n",
    "            ax0[counter].scatter(beta_controls[::-1],ex_dict[\"100\"],label = \"N=1000\",marker=\"3\",linewidths=3)\n",
    "            ax0[counter].plot(beta_controls[::-1],ex_dict[\"10\"],label = \"N=10\", alpha = 0.3)\n",
    "            ax0[counter].plot(beta_controls[::-1],ex_dict[\"100\"],label = \"N=100\",alpha=0.3)\n",
    "            ax0[counter].plot(beta_controls[::-1],ex_dict[\"100\"],label = \"N=1000\",alpha=0.3,linestyle = \"--\")\n",
    "            ax0[counter].set_xlabel(\"Beta Multiplier for Control\")\n",
    "            ax0[counter].set_ylabel(\"Proportion of runs that result in extinction\")\n",
    "        else:\n",
    "            sns.lineplot(data=df, x = \"Control\", y = w, hue = \"N\", ax =ax0[counter],errorbar=(\"pi\",95),err_style = \"band\",marker=\"o\")\n",
    "\n",
    "            ax0[counter].get_legend().remove()\n",
    "            ax0[counter].set_xlabel(\"Beta Multiplier for Control\")\n",
    "            ax0[counter].set_ylabel(f\"{['Peak Size', 'Time at Peak Size'][counter-2]}\")\n",
    "        counter +=1\n",
    "    fig.show()"
   ],
   "metadata": {
    "collapsed": false
   }
  },
  {
   "cell_type": "code",
   "execution_count": null,
   "outputs": [],
   "source": [
    "if Typ == \"!meta\":\n",
    "    df = pd.DataFrame(columns=[\"N\",\"Node\",\"Final_size\",\"Peak\",\"Tpeak\", \"Control\"])\n",
    "    counter = 0\n",
    "    vars = [\"Final_size\",\"Peak\",\"Tpeak\"]\n",
    "    nodes = np.arange(1,5,1)\n",
    "    for k in siz:\n",
    "        for j in range(len(beta_controls)):\n",
    "            for i in range(0,1000):\n",
    "                for n in nodes:\n",
    "                    for w in vars:\n",
    "                        if w in [\"Final_size\", \"Peak\"]:\n",
    "                            df.loc[counter,w] = (plot_dict[f\"Size_{k}\"][f\"Control={j}\"][w][f\"Node{n}\"][i])/int(k)\n",
    "                        else:\n",
    "                             df.loc[counter,w] = (plot_dict[f\"Size_{k}\"][f\"Control={j}\"][w][f\"Node{n}\"][i])\n",
    "\n",
    "                    df.loc[counter,\"Control\"] = f\"{round(beta_controls[j],2)}\"\n",
    "                    df.loc[counter,\"N\"] = f\"{k}\"\n",
    "                    df.loc[counter,\"Node\"] = f\"{n}\"\n",
    "                    counter +=1\n",
    "print(df)"
   ],
   "metadata": {
    "collapsed": false
   }
  },
  {
   "cell_type": "code",
   "execution_count": null,
   "outputs": [],
   "source": [
    "if Typ == \"!meta\":\n",
    "    dfT = pd.DataFrame(columns=[\"N\", \"Tmax\",\"Control\"])\n",
    "    counter = 0\n",
    "    vars = [\"Tmax\"]\n",
    "    for k in siz:\n",
    "        for j in range(len(beta_controls)):\n",
    "            for i in range(0,1000):\n",
    "                for w in vars:\n",
    "                    dfT.loc[counter,w] = (plot_dict[f\"Size_{k}\"][f\"Control={j}\"][w][i])\n",
    "\n",
    "                dfT.loc[counter,\"Control\"] = f\"{round(beta_controls[j],2)}\"\n",
    "                dfT.loc[counter,\"N\"] = f\"{k}\"\n",
    "                counter +=1\n",
    "    print(dfT)"
   ],
   "metadata": {
    "collapsed": false
   }
  },
  {
   "cell_type": "code",
   "execution_count": null,
   "outputs": [],
   "source": [
    "if Typ == \"meta\":\n",
    "    fig, ax0 = plt.subplots(figsize = (28,16), nrows=2,ncols=2)\n",
    "    #sns.set_context('paper', font_scale=2.4)\n",
    "    # creating a dictionary\n",
    "    font = {'size': 20}\n",
    "    # using rc function\n",
    "    plt.rc('font', **font)\n",
    "    ax0 = ax0.flatten()\n",
    "    vars = [\"Final_size\", \"Extinction\",\"Peak\",\"Tpeak\"]\n",
    "    df = pd.read_csv(\"METABETA.csv\")\n",
    "    df.drop(df.columns[[0]], axis=1, inplace=True)\n",
    "    print(df)\n",
    "    df['N'] = df['N'].astype(str)\n",
    "    counter = 0\n",
    "    for w in vars:\n",
    "        if counter == 0:\n",
    "\n",
    "            sns.lineplot(data=df, x = \"Control\", y = w, hue = \"N\", ax =ax0[counter],errorbar=(\"pi\",95),err_style = \"band\",marker=\"o\",legend=True)\n",
    "            ax0[counter].set_xlabel(\"Beta Multiplier for Control\")\n",
    "            ax0[counter].set_ylabel(\"Final Size\")\n",
    "        elif w==\"Extinction\":\n",
    "            ax0[counter].scatter(beta_controls,ex_dict[\"10\"],label = \"N=10\", marker =\"1\",linewidths=3)\n",
    "            ax0[counter].scatter(beta_controls,ex_dict[\"100\"],label = \"N=100\", marker =\"2\",linewidths=3)\n",
    "            ax0[counter].scatter(beta_controls,ex_dict[\"100\"],label = \"N=1000\",marker=\"3\",linewidths=3)\n",
    "            ax0[counter].plot(beta_controls,ex_dict[\"10\"],label = \"N=10\", alpha = 0.3)\n",
    "            ax0[counter].plot(beta_controls,ex_dict[\"100\"],label = \"N=100\",alpha=0.3)\n",
    "            ax0[counter].plot(beta_controls,ex_dict[\"100\"],label = \"N=1000\",alpha=0.3,linestyle = \"--\")\n",
    "            ax0[counter].set_xlabel(\"Beta Multiplier for Control\")\n",
    "            ax0[counter].set_ylabel(\"Proportion of runs that result in extinction\")\n",
    "        else:\n",
    "            sns.lineplot(data=df, x = \"Control\", y = w, hue = \"N\", ax =ax0[counter],errorbar=(\"pi\",95),err_style = \"band\",marker=\"o\")\n",
    "            ax0[counter].get_legend().remove()\n",
    "            ax0[counter].set_xlabel(\"Beta Multiplier for Control\")\n",
    "            ax0[counter].set_ylabel(f\"{['Peak Size', 'Time at Peak Size'][counter-2]}\")\n",
    "        counter +=1\n",
    "    fig.show()"
   ],
   "metadata": {
    "collapsed": false
   }
  },
  {
   "cell_type": "code",
   "execution_count": null,
   "outputs": [],
   "source": [],
   "metadata": {
    "collapsed": false
   }
  }
 ],
 "metadata": {
  "kernelspec": {
   "display_name": "Python 3",
   "language": "python",
   "name": "python3"
  },
  "language_info": {
   "codemirror_mode": {
    "name": "ipython",
    "version": 2
   },
   "file_extension": ".py",
   "mimetype": "text/x-python",
   "name": "python",
   "nbconvert_exporter": "python",
   "pygments_lexer": "ipython2",
   "version": "2.7.6"
  }
 },
 "nbformat": 4,
 "nbformat_minor": 0
}
