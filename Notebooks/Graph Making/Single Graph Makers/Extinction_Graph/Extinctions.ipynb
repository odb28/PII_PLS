{
 "cells": [
  {
   "cell_type": "code",
   "execution_count": 22,
   "metadata": {
    "collapsed": true
   },
   "outputs": [],
   "source": [
    "import numpy as np\n",
    "import seaborn as sns\n",
    "from matplotlib import pyplot as plt\n",
    "import pandas as pd\n",
    "import pickle\n",
    "import altair as alt\n",
    "import vl_convert"
   ]
  },
  {
   "cell_type": "code",
   "execution_count": 23,
   "outputs": [],
   "source": [
    "#get pickle\n",
    "exts = []\n",
    "types = []\n",
    "Ns = []\n",
    "for Typ in [\"simple\",\"simple_I0\",\"meta\"]:\n",
    "    for i in [\"10\",\"100\",\"1000\"]:\n",
    "        with open(f\"../../../../Data/R0_3/Sims_SIR/Pickles/Sim_dict_{Typ}_{i}.pickle\", 'rb') as handle:\n",
    "            out_dict = pickle.load(handle)\n",
    "            types.append(Typ)\n",
    "            Ns.append(i)\n",
    "        exts.append(sum(out_dict['Extinction'])/1000)\n",
    "exts_data = np.array([Ns,types,exts]).T"
   ],
   "metadata": {
    "collapsed": false
   }
  },
  {
   "cell_type": "code",
   "execution_count": 24,
   "outputs": [],
   "source": [
    "df= pd.DataFrame(exts_data,columns=(\"N\",\"Type\",\"Pr(Extinction)\"))\n",
    "df.Type.replace(to_replace=dict(simple=\"SIR;I(0)=0.1N\", simple_I0=\"SIR;I(0)=1\",meta=\"Metapopulation\"), inplace=True)"
   ],
   "metadata": {
    "collapsed": false
   }
  },
  {
   "cell_type": "code",
   "execution_count": 30,
   "outputs": [],
   "source": [
    "chart = alt.Chart(df).mark_bar().encode(\n",
    "\n",
    "    # tell Altair which field to group columns on\n",
    "    x=alt.X('Pr(Extinction):Q',\n",
    "        axis=alt.Axis(\n",
    "            grid=False,\n",
    "            title=\"Probability of Extinction\")),\n",
    "\n",
    "    # tell Altair which field to use as Y values and how to calculate\n",
    "    y=alt.Y('N:N', title=None),\n",
    "\n",
    "    # tell Altair which field to use as the set of columns to be  represented in each group\n",
    "    row=alt.Row('Type:N', title=None)\n",
    "\n",
    "        )"
   ],
   "metadata": {
    "collapsed": false
   }
  },
  {
   "cell_type": "code",
   "execution_count": 32,
   "outputs": [
    {
     "name": "stderr",
     "output_type": "stream",
     "text": [
      "C:\\Users\\ollie\\anaconda3\\envs\\PLS Research\\lib\\site-packages\\altair\\utils\\core.py:395: FutureWarning: the convert_dtype parameter is deprecated and will be removed in a future version.  Do ``ser.astype(object).apply()`` instead if you want ``convert_dtype=False``.\n",
      "  col = df[col_name].apply(to_list_if_array, convert_dtype=False)\n"
     ]
    }
   ],
   "source": [
    "chart.save(\"Fig4.png\",  scale_factor=2.0)"
   ],
   "metadata": {
    "collapsed": false
   }
  },
  {
   "cell_type": "code",
   "execution_count": 26,
   "outputs": [],
   "source": [],
   "metadata": {
    "collapsed": false
   }
  }
 ],
 "metadata": {
  "kernelspec": {
   "display_name": "Python 3",
   "language": "python",
   "name": "python3"
  },
  "language_info": {
   "codemirror_mode": {
    "name": "ipython",
    "version": 2
   },
   "file_extension": ".py",
   "mimetype": "text/x-python",
   "name": "python",
   "nbconvert_exporter": "python",
   "pygments_lexer": "ipython2",
   "version": "2.7.6"
  }
 },
 "nbformat": 4,
 "nbformat_minor": 0
}
