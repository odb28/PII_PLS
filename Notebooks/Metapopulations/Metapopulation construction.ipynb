{
 "cells": [
  {
   "cell_type": "code",
   "execution_count": 1,
   "metadata": {
    "collapsed": true
   },
   "outputs": [],
   "source": [
    "import numpy as np\n",
    "import pandas as pd\n",
    "import scipy as sp\n",
    "from matplotlib import pyplot as plt\n",
    "import time\n",
    "from decimal import Decimal, ROUND_UP\n",
    "import src.PLS.metaSIR"
   ]
  },
  {
   "cell_type": "code",
   "execution_count": 2,
   "outputs": [],
   "source": [
    "def basic_square_map(N_nodes):\n",
    "    dimensions =  int(np.ceil(np.sqrt(N_nodes)))\n",
    "    mat = np.arange(1,N_nodes+1,1)\n",
    "    for i in range(dimensions**2 - N_nodes):\n",
    "        mat = np.append(mat,-1)\n",
    "    mat = np.reshape(mat,(-1,dimensions))\n",
    "    return mat"
   ],
   "metadata": {
    "collapsed": false
   }
  },
  {
   "cell_type": "code",
   "execution_count": 3,
   "outputs": [],
   "source": [
    "def straight_line_distances(node_map,N_nodes,scaling =1):\n",
    "    distances = np.zeros((N_nodes,N_nodes))\n",
    "    for i in range(1, N_nodes+1):\n",
    "        node_index = np.argwhere(node_map == i)[0]\n",
    "        for j in range(1, N_nodes+1):\n",
    "            if i !=j:\n",
    "                other_index = np.argwhere(node_map == j)[0]\n",
    "                x_dist = node_index[0] - other_index[0]\n",
    "                y_dist = node_index[1] - other_index[1]\n",
    "                str_line = np.sqrt((x_dist)**2 + (y_dist)**2) #pythagorus\n",
    "                distances[i-1,j-1] = str_line * scaling\n",
    "                distances[j-1,i-1] = str_line * scaling\n",
    "    return distances"
   ],
   "metadata": {
    "collapsed": false
   }
  },
  {
   "cell_type": "code",
   "execution_count": 4,
   "outputs": [],
   "source": [
    "def basic_kernel(rate,distance):\n",
    "    if distance != 0:\n",
    "        return rate/(distance**2)\n",
    "    else:\n",
    "        raise ValueError(\"Dividing by Zero! The Kernel is working on the same node. Stop it!\")"
   ],
   "metadata": {
    "collapsed": false
   }
  },
  {
   "cell_type": "code",
   "execution_count": 5,
   "outputs": [],
   "source": [
    "def meta_SIR(X0,beta,gamma,N_nodes,distances,kernel,tmax,tstep,rng,cull_strength =0):\n",
    "    \"\"\"\n",
    "    :param X0: The initial State of the metapopulations. Needs to match the number of nodes.\n",
    "    :param beta: The rate of infection\n",
    "    :param gamma: The rate of recovery\n",
    "    :param nodes: The number of nodes in the system\n",
    "    :param kernel: The perturbation kernel\n",
    "    :param tmax:\n",
    "    :param tstep:\n",
    "    :param rng:\n",
    "    :param cull_strength:\n",
    "    :return:\n",
    "    \"\"\"\n",
    "    #set initial conditions\n",
    "    t =0.0\n",
    "    times = np.array(t)\n",
    "    X = np.array(X0)\n",
    "    timed_sol = np.array([X0])\n",
    "    sol = np.array([X0])\n",
    "    times = np.array(t)\n",
    "    state = np.array([X0])\n",
    "    nodes = {}\n",
    "    node_list = np.arange(1,N_nodes+1,1)\n",
    "    #set initial infection forces\n",
    "    for j in node_list:\n",
    "        nodes[f\"node{j}\"] = {}\n",
    "        nodes[f\"node{j}\"][\"domestic_inf\"] = beta*X[j-1][0]*X[j-1][1]\n",
    "        nodes[f\"node{j}\"][\"recovery\"] = gamma*X[j-1][1]\n",
    "        nodes[f\"node{j}\"][\"foreign_inf\"] = 0\n",
    "    for j in node_list:\n",
    "        other_nodes = np.delete(node_list,[j-1])\n",
    "        for i in other_nodes:\n",
    "                nodes[f\"node{j}\"][\"foreign_inf\"] += kernel(beta*X[j-1][0]*X[i-1][1],distances[j-1,i-1])\n",
    "        nodes[f\"node{j}\"][\"total_inf\"] =   nodes[f\"node{j}\"][\"domestic_inf\"] + nodes[f\"node{j}\"][\"foreign_inf\"]\n",
    "\n",
    "    while t < tmax:\n",
    "        #work out total event force\n",
    "        R_rec = 0\n",
    "        R_inf = 0\n",
    "        for j in node_list:\n",
    "            R_inf += nodes[f\"node{j}\"][\"total_inf\"]\n",
    "            R_rec += nodes[f\"node{j}\"][\"recovery\"]\n",
    "        R_tot = R_rec + R_inf\n",
    "        #print(R_tot)\n",
    "\n",
    "        #if the system is still dynamic\n",
    "        if R_tot > 0:\n",
    "            u = rng.exponential(1/R_tot)\n",
    "            t = t+ u\n",
    "\n",
    "            z = rng.random()\n",
    "\n",
    "            if z <= R_inf/(R_tot):\n",
    "\n",
    "                chances = np.cumsum(np.array([nodes[f\"node{j}\"][\"total_inf\"]/R_tot for j in node_list]))\n",
    "\n",
    "                probs = chances - z\n",
    "\n",
    "                event_node = N_nodes - len(np.array([node for node in probs if node >= 0])) + 1\n",
    "\n",
    "                X[event_node-1] = X[event_node-1] + [-1,1,0]\n",
    "\n",
    "            elif z > R_inf/R_tot:\n",
    "\n",
    "                chances = np.cumsum(np.array([nodes[f\"node{j}\"][\"recovery\"]/R_tot for j in node_list]))\n",
    "\n",
    "                probs = chances - z + R_inf/R_tot\n",
    "\n",
    "                event_node = N_nodes - len(np.array([node for node in probs if node >= 0])) + 1\n",
    "\n",
    "                X[event_node-1] = X[event_node-1] + [0,-1,1]\n",
    "\n",
    "            else:\n",
    "                raise ValueError(\"Node determination has gone wrong\")\n",
    "\n",
    "            nodes[f\"node{event_node}\"][\"domestic_inf\"] = beta*X[event_node-1][0]*X[event_node-1][1]\n",
    "            nodes[f\"node{event_node}\"][\"recovery\"] = gamma*X[event_node-1][1]\n",
    "\n",
    "            for j in node_list:\n",
    "                other_nodes = np.delete(node_list,[j-1])\n",
    "                nodes[f\"node{j}\"][\"foreign_inf\"] = 0\n",
    "                for i in other_nodes:\n",
    "                    nodes[f\"node{j}\"][\"foreign_inf\"] += kernel(beta*X[j-1][0]*X[i-1][1],distances[j-1,i-1])\n",
    "\n",
    "                nodes[f\"node{j}\"][\"total_inf\"] = nodes[f\"node{j}\"][\"domestic_inf\"] + nodes[f\"node{j}\"][\"foreign_inf\"]\n",
    "\n",
    "\n",
    "            timed_sol = np.append(timed_sol,[X],axis = 0)\n",
    "            times = np.append(times,t)\n",
    "\n",
    "        else:\n",
    "            return timed_sol,times\n",
    "\n",
    "    return timed_sol,times"
   ],
   "metadata": {
    "collapsed": false
   }
  },
  {
   "cell_type": "code",
   "execution_count": 6,
   "outputs": [
    {
     "name": "stdout",
     "output_type": "stream",
     "text": [
      "[[ 0.         10.         10.         14.14213562]\n",
      " [10.          0.         14.14213562 10.        ]\n",
      " [10.         14.14213562  0.         10.        ]\n",
      " [14.14213562 10.         10.          0.        ]]\n"
     ]
    }
   ],
   "source": [
    "N = 4\n",
    "test_map = basic_square_map(N)\n",
    "#print(test_map)\n",
    "#print(np.argwhere(test_map == 5)[0])\n",
    "test_distances = straight_line_distances(test_map,N,scaling=10)\n",
    "print(test_distances)"
   ],
   "metadata": {
    "collapsed": false
   }
  },
  {
   "cell_type": "code",
   "execution_count": 7,
   "outputs": [
    {
     "name": "stdout",
     "output_type": "stream",
     "text": [
      "10\n",
      "4\n",
      "[[9, 1, 0], [10, 0, 0], [10, 0, 0], [10, 0, 0]]\n",
      "0.5\n"
     ]
    }
   ],
   "source": [
    "R0 = 5\n",
    "gamma = 1\n",
    "X0 = [[9,1,0]]\n",
    "div = sum(X0[0])\n",
    "print(div)\n",
    "for i in range(N-1):\n",
    "    X0.append([10,0,0])\n",
    "print(len(X0))\n",
    "print(X0)\n",
    "beta = R0/div\n",
    "print(beta)\n",
    "rng = np.random.default_rng(1)\n",
    "tstep = 0.01\n",
    "tmax = 100\n",
    "tmax = float(Decimal(tstep) * (Decimal(src.PLS.metaSIR.meta_timed_sir(X0,beta,gamma,N,test_distances,basic_kernel,tmax,tstep,rng) )/ Decimal(tstep)).quantize(1,rounding=ROUND_UP))\n",
    "rng = np.random.default_rng(1)"
   ],
   "metadata": {
    "collapsed": false
   }
  },
  {
   "cell_type": "code",
   "execution_count": 7,
   "outputs": [],
   "source": [],
   "metadata": {
    "collapsed": false
   }
  },
  {
   "cell_type": "code",
   "execution_count": 8,
   "outputs": [
    {
     "name": "stdout",
     "output_type": "stream",
     "text": [
      "Run took 0.008072853088378906 seconds!\n"
     ]
    }
   ],
   "source": [
    "start_time = time.time()\n",
    "test_meta = src.PLS.metaSIR.meta_no_ext_sir(X0,beta,gamma,N,test_distances,basic_kernel,tmax,tstep,rng)\n",
    "end_time = time.time()\n",
    "print(f\"Run took {end_time-start_time} seconds!\")"
   ],
   "metadata": {
    "collapsed": false
   }
  },
  {
   "cell_type": "code",
   "execution_count": 9,
   "outputs": [
    {
     "name": "stdout",
     "output_type": "stream",
     "text": [
      "[[[ 9  1  0]\n",
      "  [10  0  0]\n",
      "  [10  0  0]\n",
      "  [10  0  0]]\n",
      "\n",
      " [[ 8  2  0]\n",
      "  [10  0  0]\n",
      "  [10  0  0]\n",
      "  [10  0  0]]\n",
      "\n",
      " [[ 8  2  0]\n",
      "  [10  0  0]\n",
      "  [10  0  0]\n",
      "  [10  0  0]]\n",
      "\n",
      " ...\n",
      "\n",
      " [[ 0  0 10]\n",
      "  [10  0  0]\n",
      "  [ 7  0  3]\n",
      "  [10  0  0]]\n",
      "\n",
      " [[ 0  0 10]\n",
      "  [10  0  0]\n",
      "  [ 7  0  3]\n",
      "  [10  0  0]]\n",
      "\n",
      " [[ 0  0 10]\n",
      "  [10  0  0]\n",
      "  [ 7  0  3]\n",
      "  [10  0  0]]]\n"
     ]
    }
   ],
   "source": [
    "print(test_meta)"
   ],
   "metadata": {
    "collapsed": false
   }
  },
  {
   "cell_type": "code",
   "execution_count": 10,
   "outputs": [],
   "source": [
    "node1 = test_meta[:,0]\n",
    "node2 = test_meta[:,1]\n",
    "node3 = test_meta[:,2]\n",
    "node4 = test_meta[:,3]\n",
    "#node5 = test_meta[:,4]\n",
    "#node6 = test_meta[:,5]\n",
    "#node7 = test_meta[:,6]\n",
    "#node8 = test_meta[:,7]\n",
    "#node9 = test_meta[:,8]\n",
    "final = sum([node1,node2,node3,node4])\n",
    "#final = sum([node1,node2,node3,node4,node5,node6,node7,node8,node9])"
   ],
   "metadata": {
    "collapsed": false
   }
  },
  {
   "cell_type": "code",
   "execution_count": 13,
   "outputs": [],
   "source": [
    "test_times = np.arange(0,tmax+tstep,tstep)"
   ],
   "metadata": {
    "collapsed": false
   }
  },
  {
   "cell_type": "code",
   "execution_count": 14,
   "outputs": [
    {
     "ename": "ValueError",
     "evalue": "x and y must have same first dimension, but have shapes (254,) and (253, 3)",
     "output_type": "error",
     "traceback": [
      "\u001B[1;31m---------------------------------------------------------------------------\u001B[0m",
      "\u001B[1;31mValueError\u001B[0m                                Traceback (most recent call last)",
      "Cell \u001B[1;32mIn[14], line 4\u001B[0m\n\u001B[0;32m      2\u001B[0m plt\u001B[38;5;241m.\u001B[39mtight_layout()\n\u001B[0;32m      3\u001B[0m ax0 \u001B[38;5;241m=\u001B[39m ax0\u001B[38;5;241m.\u001B[39mflatten()\n\u001B[1;32m----> 4\u001B[0m \u001B[43max0\u001B[49m\u001B[43m[\u001B[49m\u001B[38;5;241;43m0\u001B[39;49m\u001B[43m]\u001B[49m\u001B[38;5;241;43m.\u001B[39;49m\u001B[43mplot\u001B[49m\u001B[43m(\u001B[49m\u001B[43mtest_times\u001B[49m\u001B[43m,\u001B[49m\u001B[43mnode1\u001B[49m\u001B[43m)\u001B[49m\n\u001B[0;32m      5\u001B[0m ax0[\u001B[38;5;241m1\u001B[39m]\u001B[38;5;241m.\u001B[39mplot(test_times,node2)\n\u001B[0;32m      6\u001B[0m ax0[\u001B[38;5;241m2\u001B[39m]\u001B[38;5;241m.\u001B[39mplot(test_times,node3)\n",
      "File \u001B[1;32m~\\anaconda3\\envs\\PLS Research\\lib\\site-packages\\matplotlib\\axes\\_axes.py:1688\u001B[0m, in \u001B[0;36mAxes.plot\u001B[1;34m(self, scalex, scaley, data, *args, **kwargs)\u001B[0m\n\u001B[0;32m   1445\u001B[0m \u001B[38;5;250m\u001B[39m\u001B[38;5;124;03m\"\"\"\u001B[39;00m\n\u001B[0;32m   1446\u001B[0m \u001B[38;5;124;03mPlot y versus x as lines and/or markers.\u001B[39;00m\n\u001B[0;32m   1447\u001B[0m \n\u001B[1;32m   (...)\u001B[0m\n\u001B[0;32m   1685\u001B[0m \u001B[38;5;124;03m(``'green'``) or hex strings (``'#008000'``).\u001B[39;00m\n\u001B[0;32m   1686\u001B[0m \u001B[38;5;124;03m\"\"\"\u001B[39;00m\n\u001B[0;32m   1687\u001B[0m kwargs \u001B[38;5;241m=\u001B[39m cbook\u001B[38;5;241m.\u001B[39mnormalize_kwargs(kwargs, mlines\u001B[38;5;241m.\u001B[39mLine2D)\n\u001B[1;32m-> 1688\u001B[0m lines \u001B[38;5;241m=\u001B[39m [\u001B[38;5;241m*\u001B[39m\u001B[38;5;28mself\u001B[39m\u001B[38;5;241m.\u001B[39m_get_lines(\u001B[38;5;241m*\u001B[39margs, data\u001B[38;5;241m=\u001B[39mdata, \u001B[38;5;241m*\u001B[39m\u001B[38;5;241m*\u001B[39mkwargs)]\n\u001B[0;32m   1689\u001B[0m \u001B[38;5;28;01mfor\u001B[39;00m line \u001B[38;5;129;01min\u001B[39;00m lines:\n\u001B[0;32m   1690\u001B[0m     \u001B[38;5;28mself\u001B[39m\u001B[38;5;241m.\u001B[39madd_line(line)\n",
      "File \u001B[1;32m~\\anaconda3\\envs\\PLS Research\\lib\\site-packages\\matplotlib\\axes\\_base.py:311\u001B[0m, in \u001B[0;36m_process_plot_var_args.__call__\u001B[1;34m(self, data, *args, **kwargs)\u001B[0m\n\u001B[0;32m    309\u001B[0m     this \u001B[38;5;241m+\u001B[39m\u001B[38;5;241m=\u001B[39m args[\u001B[38;5;241m0\u001B[39m],\n\u001B[0;32m    310\u001B[0m     args \u001B[38;5;241m=\u001B[39m args[\u001B[38;5;241m1\u001B[39m:]\n\u001B[1;32m--> 311\u001B[0m \u001B[38;5;28;01myield from\u001B[39;00m \u001B[38;5;28;43mself\u001B[39;49m\u001B[38;5;241;43m.\u001B[39;49m\u001B[43m_plot_args\u001B[49m\u001B[43m(\u001B[49m\n\u001B[0;32m    312\u001B[0m \u001B[43m    \u001B[49m\u001B[43mthis\u001B[49m\u001B[43m,\u001B[49m\u001B[43m \u001B[49m\u001B[43mkwargs\u001B[49m\u001B[43m,\u001B[49m\u001B[43m \u001B[49m\u001B[43mambiguous_fmt_datakey\u001B[49m\u001B[38;5;241;43m=\u001B[39;49m\u001B[43mambiguous_fmt_datakey\u001B[49m\u001B[43m)\u001B[49m\n",
      "File \u001B[1;32m~\\anaconda3\\envs\\PLS Research\\lib\\site-packages\\matplotlib\\axes\\_base.py:504\u001B[0m, in \u001B[0;36m_process_plot_var_args._plot_args\u001B[1;34m(self, tup, kwargs, return_kwargs, ambiguous_fmt_datakey)\u001B[0m\n\u001B[0;32m    501\u001B[0m     \u001B[38;5;28mself\u001B[39m\u001B[38;5;241m.\u001B[39maxes\u001B[38;5;241m.\u001B[39myaxis\u001B[38;5;241m.\u001B[39mupdate_units(y)\n\u001B[0;32m    503\u001B[0m \u001B[38;5;28;01mif\u001B[39;00m x\u001B[38;5;241m.\u001B[39mshape[\u001B[38;5;241m0\u001B[39m] \u001B[38;5;241m!=\u001B[39m y\u001B[38;5;241m.\u001B[39mshape[\u001B[38;5;241m0\u001B[39m]:\n\u001B[1;32m--> 504\u001B[0m     \u001B[38;5;28;01mraise\u001B[39;00m \u001B[38;5;167;01mValueError\u001B[39;00m(\u001B[38;5;124mf\u001B[39m\u001B[38;5;124m\"\u001B[39m\u001B[38;5;124mx and y must have same first dimension, but \u001B[39m\u001B[38;5;124m\"\u001B[39m\n\u001B[0;32m    505\u001B[0m                      \u001B[38;5;124mf\u001B[39m\u001B[38;5;124m\"\u001B[39m\u001B[38;5;124mhave shapes \u001B[39m\u001B[38;5;132;01m{\u001B[39;00mx\u001B[38;5;241m.\u001B[39mshape\u001B[38;5;132;01m}\u001B[39;00m\u001B[38;5;124m and \u001B[39m\u001B[38;5;132;01m{\u001B[39;00my\u001B[38;5;241m.\u001B[39mshape\u001B[38;5;132;01m}\u001B[39;00m\u001B[38;5;124m\"\u001B[39m)\n\u001B[0;32m    506\u001B[0m \u001B[38;5;28;01mif\u001B[39;00m x\u001B[38;5;241m.\u001B[39mndim \u001B[38;5;241m>\u001B[39m \u001B[38;5;241m2\u001B[39m \u001B[38;5;129;01mor\u001B[39;00m y\u001B[38;5;241m.\u001B[39mndim \u001B[38;5;241m>\u001B[39m \u001B[38;5;241m2\u001B[39m:\n\u001B[0;32m    507\u001B[0m     \u001B[38;5;28;01mraise\u001B[39;00m \u001B[38;5;167;01mValueError\u001B[39;00m(\u001B[38;5;124mf\u001B[39m\u001B[38;5;124m\"\u001B[39m\u001B[38;5;124mx and y can be no greater than 2D, but have \u001B[39m\u001B[38;5;124m\"\u001B[39m\n\u001B[0;32m    508\u001B[0m                      \u001B[38;5;124mf\u001B[39m\u001B[38;5;124m\"\u001B[39m\u001B[38;5;124mshapes \u001B[39m\u001B[38;5;132;01m{\u001B[39;00mx\u001B[38;5;241m.\u001B[39mshape\u001B[38;5;132;01m}\u001B[39;00m\u001B[38;5;124m and \u001B[39m\u001B[38;5;132;01m{\u001B[39;00my\u001B[38;5;241m.\u001B[39mshape\u001B[38;5;132;01m}\u001B[39;00m\u001B[38;5;124m\"\u001B[39m)\n",
      "\u001B[1;31mValueError\u001B[0m: x and y must have same first dimension, but have shapes (254,) and (253, 3)"
     ]
    },
    {
     "data": {
      "text/plain": "<Figure size 900x900 with 4 Axes>",
      "image/png": "[encoded data removed]"
     },
     "metadata": {},
     "output_type": "display_data"
    }
   ],
   "source": [
    "fig, ax0 = plt.subplots(nrows=2,ncols=2, figsize = (9,9))\n",
    "plt.tight_layout()\n",
    "ax0 = ax0.flatten()\n",
    "ax0[0].plot(test_times,node1)\n",
    "ax0[1].plot(test_times,node2)\n",
    "ax0[2].plot(test_times,node3)\n",
    "ax0[3].plot(test_times,node4)\n",
    "#ax0[4].plot(test_times,node5)\n",
    "#ax0[5].plot(test_times,node6)\n",
    "#ax0[6].plot(test_times,node7)\n",
    "#ax0[7].plot(test_times,node8)\n",
    "#ax0[8].plot(test_times,node9)\n",
    "fig.show()"
   ],
   "metadata": {
    "collapsed": false
   }
  },
  {
   "cell_type": "code",
   "execution_count": null,
   "outputs": [],
   "source": [
    "fig,ax0 = plt.subplots()\n",
    "ax0.plot(test_times,final)\n",
    "\n",
    "fig.show()"
   ],
   "metadata": {
    "collapsed": false
   }
  },
  {
   "cell_type": "code",
   "execution_count": null,
   "outputs": [],
   "source": [],
   "metadata": {
    "collapsed": false
   }
  },
  {
   "cell_type": "code",
   "execution_count": null,
   "outputs": [],
   "source": [],
   "metadata": {
    "collapsed": false
   }
  }
 ],
 "metadata": {
  "kernelspec": {
   "display_name": "Python 3",
   "language": "python",
   "name": "python3"
  },
  "language_info": {
   "codemirror_mode": {
    "name": "ipython",
    "version": 2
   },
   "file_extension": ".py",
   "mimetype": "text/x-python",
   "name": "python",
   "nbconvert_exporter": "python",
   "pygments_lexer": "ipython2",
   "version": "2.7.6"
  }
 },
 "nbformat": 4,
 "nbformat_minor": 0
}
