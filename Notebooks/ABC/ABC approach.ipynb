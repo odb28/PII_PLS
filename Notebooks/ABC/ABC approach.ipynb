{
 "cells": [
  {
   "cell_type": "code",
   "execution_count": 1,
   "metadata": {
    "collapsed": true
   },
   "outputs": [],
   "source": [
    "import numpy as np\n",
    "from matplotlib import pyplot as plt\n",
    "import seaborn as sns\n",
    "import scipy as sp\n",
    "from src.baseSIR import no_ext_sir\n",
    "from src.baseSIR import timed_sir\n",
    "from src.baseSIR import real_si\n",
    "from decimal import Decimal, ROUND_UP\n",
    "import time\n",
    "import pandas as pd\n",
    "from src.ABC import ABC_rejection\n",
    "from src.ABC import ABC_core\n",
    "from src.ABC import ABC_iterate\n",
    "from src.ABC import sum_sqrt_sq_distance"
   ]
  },
  {
   "cell_type": "code",
   "execution_count": 2,
   "outputs": [],
   "source": [
    "def sim_sir_fixed(b,model_rng):\n",
    "    return no_ext_sir(X0, mu, b, gamma, tmax, tstep, model_rng) * factor"
   ],
   "metadata": {
    "collapsed": false
   }
  },
  {
   "cell_type": "code",
   "execution_count": 3,
   "outputs": [
    {
     "name": "stdout",
     "output_type": "stream",
     "text": [
      "8.200000000000001\n",
      "Reality took 0.040511369705200195 seconds to run!\n"
     ]
    }
   ],
   "source": [
    "X0 = [900, 100, 0]\n",
    "gamma = 1\n",
    "beta = 3\n",
    "mu = 0\n",
    "tstep = 0.05\n",
    "test_time = 100\n",
    "rng = np.random.default_rng(1)\n",
    "tmax = float(Decimal(tstep) * (Decimal(timed_sir(X0, mu, beta, gamma, test_time, rng) )/ Decimal(tstep)).quantize(1,rounding=ROUND_UP))\n",
    "rng = np.random.default_rng(1)\n",
    "print(tmax)\n",
    "start_time = time.time()\n",
    "reality = no_ext_sir(X0, mu, beta, gamma, tmax, tstep, rng)\n",
    "print(f\"Reality took {time.time() - start_time} seconds to run!\")"
   ],
   "metadata": {
    "collapsed": false
   }
  },
  {
   "cell_type": "code",
   "execution_count": 4,
   "outputs": [],
   "source": [
    "betas = np.arange(1,5.05,0.05)"
   ],
   "metadata": {
    "collapsed": false
   }
  },
  {
   "cell_type": "code",
   "execution_count": 5,
   "outputs": [],
   "source": [
    "#start_time = time.time()\n",
    "#factor = 1\n",
    "#X0 = [900, 100, 0]\n",
    "#applied_ABC1 = ABC_core(sim_sir_fixed,betas,reality,1000,\"sum_sq\",rng)\n",
    "#np.savetxt(\"../../Home made ABC Results/Traj1_1000b.csv\",applied_ABC1,delimiter=\",\")\n",
    "#print(f\"X1 took {time.time() - start_time} seconds to run!\")"
   ],
   "metadata": {
    "collapsed": false
   }
  },
  {
   "cell_type": "code",
   "execution_count": 6,
   "outputs": [
    {
     "name": "stderr",
     "output_type": "stream",
     "text": [
      "\n",
      "KeyboardInterrupt\n",
      "\n"
     ]
    }
   ],
   "source": [
    "start_time = time.time()\n",
    "factor = 10\n",
    "X0 = [90, 10, 0]\n",
    "applied_ABC2 = ABC_core(sim_sir_fixed,betas,reality,10000,\"sum_sq\",rng)\n",
    "np.savetxt(\"../../Home made ABC Results/Traj1_100b_iterate.csv\",applied_ABC2,delimiter=\",\")\n",
    "print(f\"X1 took {time.time() - start_time} seconds to run!\")"
   ],
   "metadata": {
    "collapsed": false
   }
  },
  {
   "cell_type": "code",
   "execution_count": null,
   "outputs": [],
   "source": [
    "#start_time = time.time()\n",
    "#factor = 100\n",
    "#X0 = [9, 1, 0]\n",
    "#applied_ABC3 = ABC_core(sim_sir_fixed,betas,reality,10000,\"sum_sq\",rng)\n",
    "#np.savetxt(\"../../Home made ABC Results/Traj1_10b_iterate.csv\",applied_ABC3,delimiter=\",\")\n",
    "#print(f\"X3 took {time.time() - start_time} seconds to run!\")"
   ],
   "metadata": {
    "collapsed": false
   }
  },
  {
   "cell_type": "code",
   "execution_count": null,
   "outputs": [],
   "source": [],
   "metadata": {
    "collapsed": false
   }
  }
 ],
 "metadata": {
  "kernelspec": {
   "display_name": "Python 3",
   "language": "python",
   "name": "python3"
  },
  "language_info": {
   "codemirror_mode": {
    "name": "ipython",
    "version": 2
   },
   "file_extension": ".py",
   "mimetype": "text/x-python",
   "name": "python",
   "nbconvert_exporter": "python",
   "pygments_lexer": "ipython2",
   "version": "2.7.6"
  }
 },
 "nbformat": 4,
 "nbformat_minor": 0
}
