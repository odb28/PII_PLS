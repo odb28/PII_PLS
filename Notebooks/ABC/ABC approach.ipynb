{
 "cells": [
  {
   "cell_type": "code",
   "execution_count": 1,
   "metadata": {
    "collapsed": true
   },
   "outputs": [],
   "source": [
    "import numpy as np\n",
    "from src.baseSIR import no_ext_sir\n",
    "from src.baseSIR import real_sir\n",
    "from src.baseSIR import real_sir_times\n",
    "from src.baseSIR import timed_sir\n",
    "from decimal import Decimal, ROUND_UP\n",
    "import time\n",
    "from src.ABC import ABC_core\n",
    "from src.ABC import sum_sqrt_sq_distance"
   ]
  },
  {
   "cell_type": "code",
   "execution_count": 2,
   "outputs": [],
   "source": [
    "distance_measure_array = [\"sum_sq\",\"sum_sqrt_sq\",\"mixed\",\"rinf\"]\n",
    "dis = distance_measure_array[1]"
   ],
   "metadata": {
    "collapsed": false
   }
  },
  {
   "cell_type": "code",
   "execution_count": 3,
   "outputs": [],
   "source": [
    "def sim_sir_fixed(b,model_rng):\n",
    "    return real_sir(X0, mu, b, gamma, tmax, tstep, model_rng) * factor"
   ],
   "metadata": {
    "collapsed": false
   }
  },
  {
   "cell_type": "code",
   "execution_count": 4,
   "outputs": [],
   "source": [
    "def sim_sir_fixed_times(b,model_rng):\n",
    "    return (real_sir_times(X0, mu, b, gamma, tmax, tstep, model_rng))[0] * factor, (real_sir_times(X0, mu, b, gamma, tmax, tstep, model_rng))[1]"
   ],
   "metadata": {
    "collapsed": false
   }
  },
  {
   "cell_type": "code",
   "execution_count": 5,
   "outputs": [
    {
     "name": "stdout",
     "output_type": "stream",
     "text": [
      "8.200000000000001\n",
      "Reality took 0.04018402099609375 seconds to run!\n"
     ]
    }
   ],
   "source": [
    "X0 = [900, 100, 0]\n",
    "gamma = 1\n",
    "beta = 3\n",
    "mu = 0\n",
    "tstep = 0.05\n",
    "test_time = 100\n",
    "rng = np.random.default_rng(1)\n",
    "tmax = float(Decimal(tstep) * (Decimal(timed_sir(X0, mu, beta, gamma, test_time, rng) )/ Decimal(tstep)).quantize(1,rounding=ROUND_UP))\n",
    "rng = np.random.default_rng(1)\n",
    "print(tmax)\n",
    "start_time = time.time()\n",
    "reality = no_ext_sir(X0, mu, beta, gamma, tmax, tstep, rng)\n",
    "print(f\"Reality took {time.time() - start_time} seconds to run!\")"
   ],
   "metadata": {
    "collapsed": false
   }
  },
  {
   "cell_type": "code",
   "execution_count": 6,
   "outputs": [],
   "source": [
    "betas = np.arange(1,10.05,0.05)"
   ],
   "metadata": {
    "collapsed": false
   }
  },
  {
   "cell_type": "code",
   "execution_count": 12,
   "outputs": [
    {
     "name": "stdout",
     "output_type": "stream",
     "text": [
      ".X1 took 7.104666709899902 seconds to run!\n"
     ]
    }
   ],
   "source": [
    "start_time = time.time()\n",
    "factor = 1\n",
    "X0 = [900, 100, 0]\n",
    "applied_ABC1 = ABC_core(sim_sir_fixed,betas,reality,1,f\"{dis}\",rng)\n",
    "np.savetxt(f\"../../Home made ABC Results/Traj1_1000b_{dis}_ext_widerB.csv\",applied_ABC1,delimiter=\",\")\n",
    "print(f\"X1 took {time.time() - start_time} seconds to run!\")"
   ],
   "metadata": {
    "collapsed": false
   }
  },
  {
   "cell_type": "code",
   "execution_count": 13,
   "outputs": [
    {
     "name": "stdout",
     "output_type": "stream",
     "text": [
      ".X1 took 0.8148014545440674 seconds to run!\n"
     ]
    }
   ],
   "source": [
    "start_time = time.time()\n",
    "factor = 10\n",
    "X0 = [90, 10, 0]\n",
    "applied_ABC2 = ABC_core(sim_sir_fixed,betas,reality,1,f\"{dis}\",rng)\n",
    "np.savetxt(f\"../../Home made ABC Results/Traj1_100b_{dis}_ext_widerB.csv\",applied_ABC2,delimiter=\",\")\n",
    "print(f\"X1 took {time.time() - start_time} seconds to run!\")"
   ],
   "metadata": {
    "collapsed": false
   }
  },
  {
   "cell_type": "code",
   "execution_count": null,
   "outputs": [],
   "source": [
    "start_time = time.time()\n",
    "factor = 100\n",
    "X0 = [9, 1, 0]\n",
    "applied_ABC3 = ABC_core(sim_sir_fixed,betas,reality,100000,f\"{dis}\",rng)\n",
    "np.savetxt(f\"../../Home made ABC Results/Traj1_10b_{dis}_ext_widerB.csv\",applied_ABC3,delimiter=\",\")\n",
    "print(f\"X3 took {time.time() - start_time} seconds to run!\")"
   ],
   "metadata": {
    "collapsed": false,
    "pycharm": {
     "is_executing": true
    }
   }
  },
  {
   "cell_type": "code",
   "execution_count": null,
   "outputs": [],
   "source": [],
   "metadata": {
    "collapsed": false
   }
  }
 ],
 "metadata": {
  "kernelspec": {
   "display_name": "Python 3",
   "language": "python",
   "name": "python3"
  },
  "language_info": {
   "codemirror_mode": {
    "name": "ipython",
    "version": 2
   },
   "file_extension": ".py",
   "mimetype": "text/x-python",
   "name": "python",
   "nbconvert_exporter": "python",
   "pygments_lexer": "ipython2",
   "version": "2.7.6"
  }
 },
 "nbformat": 4,
 "nbformat_minor": 0
}
