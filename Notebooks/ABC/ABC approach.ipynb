{
 "cells": [
  {
   "cell_type": "code",
   "execution_count": 1,
   "metadata": {
    "collapsed": true
   },
   "outputs": [],
   "source": [
    "import numpy as np\n",
    "from matplotlib import pyplot as plt\n",
    "import seaborn as sns\n",
    "import scipy as sp\n",
    "from src.baseSIR import no_ext_sir\n",
    "from src.baseSIR import real_sir\n",
    "from src.baseSIR import real_sir_times\n",
    "from src.baseSIR import no_ext_sir_times\n",
    "from src.baseSIR import timed_sir\n",
    "from src.baseSIR import real_si\n",
    "from decimal import Decimal, ROUND_UP\n",
    "import time\n",
    "import pandas as pd\n",
    "from src.ABC import ABC_rejection\n",
    "from src.ABC import ABC_core\n",
    "from src.ABC import ABC_iterate\n",
    "from src.ABC import sum_sqrt_sq_distance"
   ]
  },
  {
   "cell_type": "code",
   "execution_count": 2,
   "outputs": [],
   "source": [
    "distance_measure_array = [\"sum_sq\",\"sum_sqrt_sq\",\"mixed\",\"rinf\"]\n",
    "dis = distance_measure_array[1]"
   ],
   "metadata": {
    "collapsed": false
   }
  },
  {
   "cell_type": "code",
   "execution_count": 3,
   "outputs": [],
   "source": [
    "def sim_sir_fixed(b,model_rng):\n",
    "    return real_sir(X0, mu, b, gamma, tmax, tstep, model_rng) * factor"
   ],
   "metadata": {
    "collapsed": false
   }
  },
  {
   "cell_type": "code",
   "execution_count": 4,
   "outputs": [],
   "source": [
    "def sim_sir_fixed_times(b,model_rng):\n",
    "    return (real_sir_times(X0, mu, b, gamma, tmax, tstep, model_rng))[0] * factor, (real_sir_times(X0, mu, b, gamma, tmax, tstep, model_rng))[1]"
   ],
   "metadata": {
    "collapsed": false
   }
  },
  {
   "cell_type": "code",
   "execution_count": 5,
   "outputs": [
    {
     "name": "stdout",
     "output_type": "stream",
     "text": [
      "8.200000000000001\n",
      "Reality took 0.04018402099609375 seconds to run!\n"
     ]
    }
   ],
   "source": [
    "X0 = [900, 100, 0]\n",
    "gamma = 1\n",
    "beta = 3\n",
    "mu = 0\n",
    "tstep = 0.05\n",
    "test_time = 100\n",
    "rng = np.random.default_rng(1)\n",
    "tmax = float(Decimal(tstep) * (Decimal(timed_sir(X0, mu, beta, gamma, test_time, rng) )/ Decimal(tstep)).quantize(1,rounding=ROUND_UP))\n",
    "rng = np.random.default_rng(1)\n",
    "print(tmax)\n",
    "start_time = time.time()\n",
    "reality = no_ext_sir(X0, mu, beta, gamma, tmax, tstep, rng)\n",
    "print(f\"Reality took {time.time() - start_time} seconds to run!\")"
   ],
   "metadata": {
    "collapsed": false
   }
  },
  {
   "cell_type": "code",
   "execution_count": 6,
   "outputs": [],
   "source": [
    "betas = np.arange(1,10.05,0.05)"
   ],
   "metadata": {
    "collapsed": false
   }
  },
  {
   "cell_type": "code",
   "execution_count": 44,
   "outputs": [
    {
     "ename": "KeyboardInterrupt",
     "evalue": "",
     "output_type": "error",
     "traceback": [
      "\u001B[1;31m---------------------------------------------------------------------------\u001B[0m",
      "\u001B[1;31mKeyboardInterrupt\u001B[0m                         Traceback (most recent call last)",
      "Cell \u001B[1;32mIn[44], line 4\u001B[0m\n\u001B[0;32m      2\u001B[0m factor \u001B[38;5;241m=\u001B[39m \u001B[38;5;241m1\u001B[39m\n\u001B[0;32m      3\u001B[0m X0 \u001B[38;5;241m=\u001B[39m [\u001B[38;5;241m900\u001B[39m, \u001B[38;5;241m100\u001B[39m, \u001B[38;5;241m0\u001B[39m]\n\u001B[1;32m----> 4\u001B[0m applied_ABC1 \u001B[38;5;241m=\u001B[39m \u001B[43mABC_core\u001B[49m\u001B[43m(\u001B[49m\u001B[43msim_sir_fixed\u001B[49m\u001B[43m,\u001B[49m\u001B[43mbetas\u001B[49m\u001B[43m,\u001B[49m\u001B[43mreality\u001B[49m\u001B[43m,\u001B[49m\u001B[38;5;241;43m1000\u001B[39;49m\u001B[43m,\u001B[49m\u001B[38;5;124;43mf\u001B[39;49m\u001B[38;5;124;43m\"\u001B[39;49m\u001B[38;5;132;43;01m{\u001B[39;49;00m\u001B[43mdis\u001B[49m\u001B[38;5;132;43;01m}\u001B[39;49;00m\u001B[38;5;124;43m\"\u001B[39;49m\u001B[43m,\u001B[49m\u001B[43mrng\u001B[49m\u001B[43m)\u001B[49m\n\u001B[0;32m      5\u001B[0m np\u001B[38;5;241m.\u001B[39msavetxt(\u001B[38;5;124mf\u001B[39m\u001B[38;5;124m\"\u001B[39m\u001B[38;5;124m../../Home made ABC Results/Traj1_1000b_\u001B[39m\u001B[38;5;132;01m{\u001B[39;00mdis\u001B[38;5;132;01m}\u001B[39;00m\u001B[38;5;124m_ext_widerB.csv\u001B[39m\u001B[38;5;124m\"\u001B[39m,applied_ABC1,delimiter\u001B[38;5;241m=\u001B[39m\u001B[38;5;124m\"\u001B[39m\u001B[38;5;124m,\u001B[39m\u001B[38;5;124m\"\u001B[39m)\n\u001B[0;32m      6\u001B[0m \u001B[38;5;28mprint\u001B[39m(\u001B[38;5;124mf\u001B[39m\u001B[38;5;124m\"\u001B[39m\u001B[38;5;124mX1 took \u001B[39m\u001B[38;5;132;01m{\u001B[39;00mtime\u001B[38;5;241m.\u001B[39mtime()\u001B[38;5;250m \u001B[39m\u001B[38;5;241m-\u001B[39m\u001B[38;5;250m \u001B[39mstart_time\u001B[38;5;132;01m}\u001B[39;00m\u001B[38;5;124m seconds to run!\u001B[39m\u001B[38;5;124m\"\u001B[39m)\n",
      "File \u001B[1;32m~\\PycharmProjects\\PLS Research\\src\\ABC.py:98\u001B[0m, in \u001B[0;36mABC_core\u001B[1;34m(func, para_distro, reality, N, distance, rng, reality_times)\u001B[0m\n\u001B[0;32m     96\u001B[0m \u001B[38;5;28;01mfor\u001B[39;00m parameter \u001B[38;5;129;01min\u001B[39;00m para_distro:\n\u001B[0;32m     97\u001B[0m     \u001B[38;5;28;01mfor\u001B[39;00m i \u001B[38;5;129;01min\u001B[39;00m \u001B[38;5;28mrange\u001B[39m(N):\n\u001B[1;32m---> 98\u001B[0m         dis \u001B[38;5;241m=\u001B[39m dis_func((\u001B[43mfunc\u001B[49m\u001B[43m(\u001B[49m\u001B[43mparameter\u001B[49m\u001B[43m,\u001B[49m\u001B[43mrng\u001B[49m\u001B[43m)\u001B[49m),reality)\n\u001B[0;32m     99\u001B[0m         out_pair \u001B[38;5;241m=\u001B[39m np\u001B[38;5;241m.\u001B[39marray([parameter,dis])\n\u001B[0;32m    100\u001B[0m         output \u001B[38;5;241m=\u001B[39m np\u001B[38;5;241m.\u001B[39mappend(output,[out_pair],axis \u001B[38;5;241m=\u001B[39m \u001B[38;5;241m0\u001B[39m)\n",
      "Cell \u001B[1;32mIn[40], line 2\u001B[0m, in \u001B[0;36msim_sir_fixed\u001B[1;34m(b, model_rng)\u001B[0m\n\u001B[0;32m      1\u001B[0m \u001B[38;5;28;01mdef\u001B[39;00m \u001B[38;5;21msim_sir_fixed\u001B[39m(b,model_rng):\n\u001B[1;32m----> 2\u001B[0m     \u001B[38;5;28;01mreturn\u001B[39;00m \u001B[43mreal_sir\u001B[49m\u001B[43m(\u001B[49m\u001B[43mX0\u001B[49m\u001B[43m,\u001B[49m\u001B[43m \u001B[49m\u001B[43mmu\u001B[49m\u001B[43m,\u001B[49m\u001B[43m \u001B[49m\u001B[43mb\u001B[49m\u001B[43m,\u001B[49m\u001B[43m \u001B[49m\u001B[43mgamma\u001B[49m\u001B[43m,\u001B[49m\u001B[43m \u001B[49m\u001B[43mtmax\u001B[49m\u001B[43m,\u001B[49m\u001B[43m \u001B[49m\u001B[43mtstep\u001B[49m\u001B[43m,\u001B[49m\u001B[43m \u001B[49m\u001B[43mmodel_rng\u001B[49m\u001B[43m)\u001B[49m \u001B[38;5;241m*\u001B[39m factor\n",
      "File \u001B[1;32m~\\PycharmProjects\\PLS Research\\src\\baseSIR.py:17\u001B[0m, in \u001B[0;36mreal_sir\u001B[1;34m(X0, mu, beta, gamma, tmax, tstep, rng)\u001B[0m\n\u001B[0;32m      5\u001B[0m \u001B[38;5;28;01mdef\u001B[39;00m \u001B[38;5;21mreal_sir\u001B[39m(X0,mu,beta,gamma,tmax,tstep,rng):\n\u001B[0;32m      6\u001B[0m \u001B[38;5;250m    \u001B[39m\u001B[38;5;124;03m\"\"\"\u001B[39;00m\n\u001B[0;32m      7\u001B[0m \u001B[38;5;124;03m    :param X0: Initial Conditions of the system\u001B[39;00m\n\u001B[0;32m      8\u001B[0m \u001B[38;5;124;03m    :param mu: Birth/Death Rate\u001B[39;00m\n\u001B[1;32m   (...)\u001B[0m\n\u001B[0;32m     14\u001B[0m \u001B[38;5;124;03m    :return: X(t)\u001B[39;00m\n\u001B[0;32m     15\u001B[0m \u001B[38;5;124;03m    \"\"\"\u001B[39;00m\n\u001B[1;32m---> 17\u001B[0m     out, ex, t, rinf,  times, timed_sol \u001B[38;5;241m=\u001B[39m \u001B[43mcore_sir\u001B[49m\u001B[43m(\u001B[49m\u001B[43mX0\u001B[49m\u001B[43m,\u001B[49m\u001B[43mmu\u001B[49m\u001B[43m,\u001B[49m\u001B[43mbeta\u001B[49m\u001B[43m,\u001B[49m\u001B[43mgamma\u001B[49m\u001B[43m,\u001B[49m\u001B[43mtmax\u001B[49m\u001B[43m,\u001B[49m\u001B[43mtstep\u001B[49m\u001B[43m,\u001B[49m\u001B[43mrng\u001B[49m\u001B[43m,\u001B[49m\u001B[43mcull_strength\u001B[49m\u001B[38;5;241;43m=\u001B[39;49m\u001B[38;5;241;43m0\u001B[39;49m\u001B[43m)\u001B[49m\n\u001B[0;32m     18\u001B[0m     \u001B[38;5;28;01mreturn\u001B[39;00m out\n",
      "File \u001B[1;32m~\\PycharmProjects\\PLS Research\\src\\baseSIR.py:260\u001B[0m, in \u001B[0;36mcore_sir\u001B[1;34m(X0, mu, beta, gamma, tmax, tstep, rng, cull_strength)\u001B[0m\n\u001B[0;32m    258\u001B[0m         X \u001B[38;5;241m=\u001B[39m X \u001B[38;5;241m+\u001B[39m [\u001B[38;5;241m1\u001B[39m,\u001B[38;5;241m0\u001B[39m,\u001B[38;5;241m0\u001B[39m]\n\u001B[0;32m    259\u001B[0m     times \u001B[38;5;241m=\u001B[39m np\u001B[38;5;241m.\u001B[39mappend(times,t)\n\u001B[1;32m--> 260\u001B[0m     timed_sol \u001B[38;5;241m=\u001B[39m \u001B[43mnp\u001B[49m\u001B[38;5;241;43m.\u001B[39;49m\u001B[43mappend\u001B[49m\u001B[43m(\u001B[49m\u001B[43mtimed_sol\u001B[49m\u001B[43m,\u001B[49m\u001B[43m[\u001B[49m\u001B[43mX\u001B[49m\u001B[43m]\u001B[49m\u001B[43m,\u001B[49m\u001B[43maxis\u001B[49m\u001B[43m \u001B[49m\u001B[38;5;241;43m=\u001B[39;49m\u001B[43m \u001B[49m\u001B[38;5;241;43m0\u001B[39;49m\u001B[43m)\u001B[49m\n\u001B[0;32m    261\u001B[0m \u001B[38;5;28;01melse\u001B[39;00m:\n\u001B[0;32m    262\u001B[0m     r_t \u001B[38;5;241m=\u001B[39m tmax \u001B[38;5;241m-\u001B[39m t\n",
      "File \u001B[1;32m~\\anaconda3\\envs\\PLS Research\\lib\\site-packages\\numpy\\lib\\function_base.py:5617\u001B[0m, in \u001B[0;36mappend\u001B[1;34m(arr, values, axis)\u001B[0m\n\u001B[0;32m   5615\u001B[0m     values \u001B[38;5;241m=\u001B[39m ravel(values)\n\u001B[0;32m   5616\u001B[0m     axis \u001B[38;5;241m=\u001B[39m arr\u001B[38;5;241m.\u001B[39mndim\u001B[38;5;241m-\u001B[39m\u001B[38;5;241m1\u001B[39m\n\u001B[1;32m-> 5617\u001B[0m \u001B[38;5;28;01mreturn\u001B[39;00m \u001B[43mconcatenate\u001B[49m\u001B[43m(\u001B[49m\u001B[43m(\u001B[49m\u001B[43marr\u001B[49m\u001B[43m,\u001B[49m\u001B[43m \u001B[49m\u001B[43mvalues\u001B[49m\u001B[43m)\u001B[49m\u001B[43m,\u001B[49m\u001B[43m \u001B[49m\u001B[43maxis\u001B[49m\u001B[38;5;241;43m=\u001B[39;49m\u001B[43maxis\u001B[49m\u001B[43m)\u001B[49m\n",
      "\u001B[1;31mKeyboardInterrupt\u001B[0m: "
     ]
    }
   ],
   "source": [
    "start_time = time.time()\n",
    "factor = 1\n",
    "X0 = [900, 100, 0]\n",
    "applied_ABC1 = ABC_core(sim_sir_fixed,betas,reality,1000,f\"{dis}\",rng)\n",
    "np.savetxt(f\"../../Home made ABC Results/Traj1_1000b_{dis}_ext_widerB.csv\",applied_ABC1,delimiter=\",\")\n",
    "print(f\"X1 took {time.time() - start_time} seconds to run!\")"
   ],
   "metadata": {
    "collapsed": false
   }
  },
  {
   "cell_type": "code",
   "execution_count": null,
   "outputs": [],
   "source": [
    "start_time = time.time()\n",
    "factor = 10\n",
    "X0 = [90, 10, 0]\n",
    "applied_ABC2 = ABC_core(sim_sir_fixed,betas,reality,10000,f\"{dis}\",rng)\n",
    "np.savetxt(f\"../../Home made ABC Results/Traj1_100b_{dis}_ext_widerB.csv\",applied_ABC2,delimiter=\",\")\n",
    "print(f\"X1 took {time.time() - start_time} seconds to run!\")"
   ],
   "metadata": {
    "collapsed": false
   }
  },
  {
   "cell_type": "code",
   "execution_count": null,
   "outputs": [],
   "source": [
    "start_time = time.time()\n",
    "factor = 100\n",
    "X0 = [9, 1, 0]\n",
    "applied_ABC3 = ABC_core(sim_sir_fixed,betas,reality,100000,f\"{dis}\",rng)\n",
    "np.savetxt(f\"../../Home made ABC Results/Traj1_10b_{dis}_ext_widerB.csv\",applied_ABC3,delimiter=\",\")\n",
    "print(f\"X3 took {time.time() - start_time} seconds to run!\")"
   ],
   "metadata": {
    "collapsed": false,
    "pycharm": {
     "is_executing": true
    }
   }
  },
  {
   "cell_type": "code",
   "execution_count": null,
   "outputs": [],
   "source": [],
   "metadata": {
    "collapsed": false
   }
  }
 ],
 "metadata": {
  "kernelspec": {
   "display_name": "Python 3",
   "language": "python",
   "name": "python3"
  },
  "language_info": {
   "codemirror_mode": {
    "name": "ipython",
    "version": 2
   },
   "file_extension": ".py",
   "mimetype": "text/x-python",
   "name": "python",
   "nbconvert_exporter": "python",
   "pygments_lexer": "ipython2",
   "version": "2.7.6"
  }
 },
 "nbformat": 4,
 "nbformat_minor": 0
}
