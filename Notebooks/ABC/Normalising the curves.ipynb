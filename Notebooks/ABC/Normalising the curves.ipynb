{
 "cells": [
  {
   "cell_type": "code",
   "execution_count": 1,
   "metadata": {
    "collapsed": true
   },
   "outputs": [],
   "source": [
    "import numpy as np\n",
    "from matplotlib import pyplot as plt\n",
    "import seaborn as sns\n",
    "import scipy as sp\n",
    "from src.baseSIR import no_ext_sir\n",
    "from src.baseSIR import timed_sir\n",
    "from src.baseSIR import real_si\n",
    "from decimal import Decimal, ROUND_UP\n",
    "import time\n",
    "import pandas as pd\n",
    "from src.ABC import ABC_rejection\n",
    "from src.ABC import ABC_core\n",
    "from src.ABC import sum_sqrt_sq_distance"
   ]
  },
  {
   "cell_type": "code",
   "execution_count": null,
   "outputs": [],
   "source": [
    "distance_measure_array = [\"sum_sq\", \"sum_sqrt_sq\", \"mixed\", \"rinf\"]\n",
    "dis = distance_measure_array[1]\n",
    "#applied_ABC1 = np.genfromtxt(\"../../Home made ABC Results/Traj_fixed_g_1_N_1000_b_3.csv\",delimiter=\",\")\n",
    "#applied_ABC2 = np.genfromtxt(\"../../Home made ABC Results/Traj_fixed_g_1_N_100_b_3.csv\",delimiter=\",\")\n",
    "#applied_ABC3 = np.genfromtxt(\"../../Home made ABC Results/Traj_fixed_g_1_N_10_b_3.csv\",delimiter=\",\")\n",
    "\n",
    "applied_ABC1 = np.genfromtxt(f\"../../Home made ABC Results/Traj1_1000b_{dis}_ext_wideB.csv\", delimiter=\",\")\n",
    "applied_ABC2 = np.genfromtxt(f\"../../Home made ABC Results/Traj1_100b_{dis}_ext_wideB.csv\", delimiter=\",\")\n",
    "applied_ABC3 = np.genfromtxt(f\"../../Home made ABC Results/Traj1_10b_{dis}_ext_widerB.csv\", delimiter=\",\")"
   ],
   "metadata": {
    "collapsed": false
   }
  },
  {
   "cell_type": "code",
   "execution_count": null,
   "outputs": [],
   "source": [],
   "metadata": {
    "collapsed": false
   }
  },
  {
   "cell_type": "code",
   "execution_count": null,
   "outputs": [],
   "source": [
    "def threshold_scheduler(results, threshold_references):\n",
    "    sort_res = results.sort_values(by=\"Distance\")\n",
    "    output = []\n",
    "    for i in threshold_references:\n",
    "        temp = sort_res.iloc[0:int(len(sort_res.index) / (100 / i))]\n",
    "        output.append(temp.iloc[-1, 1])\n",
    "    return output"
   ],
   "metadata": {
    "collapsed": false
   }
  },
  {
   "cell_type": "code",
   "execution_count": null,
   "outputs": [],
   "source": [
    "graph_ABC = applied_ABC3\n",
    "reference = [1, 2, 5, 10, 20, 50]\n",
    "df_ABC = pd.DataFrame(graph_ABC, columns=[\"Beta\", \"Distance\"])\n",
    "threshold_schedule = threshold_scheduler(df_ABC, reference)"
   ],
   "metadata": {
    "collapsed": false
   }
  },
  {
   "cell_type": "code",
   "execution_count": null,
   "outputs": [],
   "source": [
    "fig, ax0 = plt.subplots(figsize=(8, 8))\n",
    "cols = sns.color_palette(\"rocket\", n_colors=10)\n",
    "for i in range(len(threshold_schedule)):\n",
    "    thresh = ABC_rejection(threshold_schedule[i], graph_ABC)\n",
    "    ploted = pd.DataFrame(thresh, columns=[\"Beta\", \"Counts\"])\n",
    "    bet_dis = ploted.groupby(\"Beta\").count()\n",
    "    plot_bet_dis = bet_dis[bet_dis[\"Counts\"] != 0]\n",
    "    max_scale = max(plot_bet_dis[\"Counts\"])\n",
    "    plot_bet_dis[\"Counts\"] = plot_bet_dis[\"Counts\"] / max_scale\n",
    "    spline = sp.interpolate.splrep(plot_bet_dis.index, plot_bet_dis[\"Counts\"], s=0)\n",
    "    ax0.scatter(bet_dis.index, plot_bet_dis[\"Counts\"], label=f\"Threshold= {reference[i]}% accepted\", color=cols[i],\n",
    "                alpha=0.25)\n",
    "    ax0.plot(plot_bet_dis.index, sp.interpolate.BSpline(*spline)(plot_bet_dis.index), color=cols[i])\n",
    "mles = np.genfromtxt(\"../../Data/R0_3/Fitted/MLE_b_3.csv\")\n",
    "mle1 = mles[0]\n",
    "ax0.set_ylabel(\"Proportion accepted compared to Max\")\n",
    "ax0.set_xlabel(\"Beta\")\n",
    "ax0.axvline(mle1, color=\"red\")\n",
    "ax0.legend(bbox_to_anchor=(1, 1))\n",
    "ax0.set_ylim(0, 1.05)\n",
    "#ax0.set_xlim(1,5)\n",
    "fig.show()"
   ],
   "metadata": {
    "collapsed": false
   }
  }
 ],
 "metadata": {
  "kernelspec": {
   "display_name": "Python 3",
   "language": "python",
   "name": "python3"
  },
  "language_info": {
   "codemirror_mode": {
    "name": "ipython",
    "version": 2
   },
   "file_extension": ".py",
   "mimetype": "text/x-python",
   "name": "python",
   "nbconvert_exporter": "python",
   "pygments_lexer": "ipython2",
   "version": "2.7.6"
  }
 },
 "nbformat": 4,
 "nbformat_minor": 0
}
