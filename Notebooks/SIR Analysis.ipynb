{
 "cells": [
  {
   "cell_type": "code",
   "execution_count": 1,
   "metadata": {
    "collapsed": true
   },
   "outputs": [],
   "source": [
    "import numpy as np"
   ]
  },
  {
   "cell_type": "code",
   "execution_count": 2,
   "outputs": [],
   "source": [
    "N_10_b = np.empty(shape = (10,2))\n",
    "N_100_b = np.empty(shape = (10,2))\n",
    "N_1000_b = np.empty(shape = (10,2))\n",
    "N_10_g = np.empty(shape = (10,2))\n",
    "N_100_g = np.empty(shape = (10,2))\n",
    "N_1000_g = np.empty(shape = (10,2))"
   ],
   "metadata": {
    "collapsed": false
   }
  },
  {
   "cell_type": "code",
   "execution_count": 3,
   "outputs": [],
   "source": [
    "for i in range(1,11):\n",
    "    b_10 = np.genfromtxt(f\"../Data/Traj_{i}_N_10_b.csv\", delimiter= \",\")\n",
    "    b_100 = np.genfromtxt(f\"../Data/Traj_{i}_N_100_b.csv\", delimiter= \",\")\n",
    "    b_1000 = np.genfromtxt(f\"../Data/Traj_{i}_N_1000_b.csv\", delimiter= \",\")\n",
    "    g_10 = np.genfromtxt(f\"../Data/Traj_{i}_N_10_g.csv\", delimiter= \",\")\n",
    "    g_100 = np.genfromtxt(f\"../Data/Traj_{i}_N_100_g.csv\", delimiter= \",\")\n",
    "    g_1000 = np.genfromtxt(f\"../Data/Traj_{i}_N_1000_g.csv\", delimiter= \",\")\n",
    "\n",
    "    N_10_b[i-1][0] = np.mean(b_10)\n",
    "    N_10_b[i-1][1] = np.std(b_10)\n",
    "\n",
    "    N_100_b[i-1][0] = np.mean(b_100)\n",
    "    N_100_b[i-1][1] = np.std(b_100)\n",
    "\n",
    "    N_1000_b[i-1][0] = np.mean(b_1000)\n",
    "    N_1000_b[i-1][1] = np.std(b_1000)\n",
    "\n",
    "    N_10_g[i-1][0] = np.mean(g_10)\n",
    "    N_10_g[i-1][1] = np.std(g_10)\n",
    "\n",
    "    N_100_g[i-1][0] = np.mean(g_100)\n",
    "    N_100_g[i-1][1] = np.std(g_100)\n",
    "\n",
    "    N_1000_g[i-1][0] = np.mean(g_1000)\n",
    "    N_1000_g[i-1][1] = np.std(g_1000)"
   ],
   "metadata": {
    "collapsed": false
   }
  },
  {
   "cell_type": "code",
   "execution_count": 4,
   "outputs": [
    {
     "name": "stdout",
     "output_type": "stream",
     "text": [
      "[[3.94720573 1.57458935]\n",
      " [4.07835142 1.64228627]\n",
      " [3.8260831  1.53093485]\n",
      " [3.57990906 1.4331705 ]\n",
      " [3.84957275 1.53177812]\n",
      " [3.7610937  1.45903695]\n",
      " [3.69241104 1.46955475]\n",
      " [3.70459785 1.50619724]\n",
      " [3.64871421 1.42063713]\n",
      " [3.70016515 1.46465201]]\n",
      "[[1.01032873 0.51238345]\n",
      " [1.1085235  0.57582188]\n",
      " [1.07093625 0.55506457]\n",
      " [1.1169044  0.58118948]\n",
      " [1.05642621 0.53621556]\n",
      " [1.11611858 0.59218596]\n",
      " [1.10631553 0.56405556]\n",
      " [1.10090972 0.56978539]\n",
      " [1.04786753 0.54065789]\n",
      " [1.10240281 0.55711133]]\n"
     ]
    }
   ],
   "source": [
    "print(N_10_b)\n",
    "print(N_10_g)"
   ],
   "metadata": {
    "collapsed": false
   }
  },
  {
   "cell_type": "code",
   "execution_count": 5,
   "outputs": [
    {
     "name": "stdout",
     "output_type": "stream",
     "text": [
      "[[3.80379877 0.96762547]\n",
      " [3.97832508 1.05840753]\n",
      " [3.70093415 0.97296984]\n",
      " [3.54181783 0.96548222]\n",
      " [3.73543605 0.98210704]\n",
      " [3.64589963 0.93727136]\n",
      " [3.64748403 0.9680067 ]\n",
      " [3.68050299 0.9843812 ]\n",
      " [3.55150946 0.91397581]\n",
      " [3.65033275 0.966846  ]]\n",
      "[[1.05520174 0.38916896]\n",
      " [1.16272877 0.45070676]\n",
      " [1.13453343 0.44291973]\n",
      " [1.18072173 0.48645165]\n",
      " [1.09094478 0.41766063]\n",
      " [1.14325057 0.4306473 ]\n",
      " [1.1598829  0.45855483]\n",
      " [1.15607279 0.45331958]\n",
      " [1.10985291 0.4227694 ]\n",
      " [1.17057413 0.45895749]]\n"
     ]
    }
   ],
   "source": [
    "print(N_100_b)\n",
    "print(N_100_g)"
   ],
   "metadata": {
    "collapsed": false
   }
  },
  {
   "cell_type": "code",
   "execution_count": 6,
   "outputs": [
    {
     "name": "stdout",
     "output_type": "stream",
     "text": [
      "[[3.69668049 0.8386852 ]\n",
      " [3.89939971 0.94932759]\n",
      " [3.59703187 0.82274746]\n",
      " [3.41501608 0.79190561]\n",
      " [3.63347336 0.84873887]\n",
      " [3.54744904 0.79067641]\n",
      " [3.5100243  0.80910025]\n",
      " [3.57509823 0.83403499]\n",
      " [3.43454061 0.77325619]\n",
      " [3.55553317 0.83212375]]\n",
      "[[1.02602012 0.32978066]\n",
      " [1.13059233 0.38692105]\n",
      " [1.0854696  0.36530427]\n",
      " [1.12388233 0.38925973]\n",
      " [1.05929584 0.35701653]\n",
      " [1.10258287 0.36375577]\n",
      " [1.12290248 0.38938026]\n",
      " [1.11394608 0.38984535]\n",
      " [1.06886352 0.36069477]\n",
      " [1.12847391 0.38990698]]\n"
     ]
    }
   ],
   "source": [
    "print(N_1000_b)\n",
    "print(N_1000_g)"
   ],
   "metadata": {
    "collapsed": false
   }
  },
  {
   "cell_type": "code",
   "execution_count": 7,
   "outputs": [],
   "source": [
    "from matplotlib import pyplot as plt\n",
    "import seaborn as sns\n",
    "import pandas as pd"
   ],
   "metadata": {
    "collapsed": false
   }
  },
  {
   "cell_type": "code",
   "execution_count": 8,
   "outputs": [],
   "source": [
    "plot_traj_b = np.empty(shape=(10,4))\n",
    "plot_traj_g = np.empty(shape=(10,4))\n",
    "box_b = np.empty(shape= (30,2))\n",
    "box_g = np.empty(shape= (30,2))\n",
    "\n",
    "for i in range(10):\n",
    "    plot_traj_b[i-1,0] = i -1\n",
    "    plot_traj_b[i,1] = N_10_b[:,0][i]\n",
    "    plot_traj_b[i,2] = N_100_b[:,0][i]\n",
    "    plot_traj_b[i,3] = N_1000_b[:,0][i]\n",
    "\n",
    "    plot_traj_g[i,0] = i +1\n",
    "    plot_traj_g[i,1] = N_10_g[:,0][i]\n",
    "    plot_traj_g[i,2] = N_100_g[:,0][i]\n",
    "    plot_traj_g[i,3] = N_1000_g[:,0][i]\n",
    "\n",
    "for j in range(30):\n",
    "    if j < 10:\n",
    "        box_b[j,0] = N_10_b[:,0][j]\n",
    "        box_b[j,1] = \"10\"\n",
    "\n",
    "        box_g[j,0] = N_10_g[:,0][j]\n",
    "        box_g[j,1] = \"10\"\n",
    "    elif 10 <= j < 20:\n",
    "        box_b[j,0] = N_100_b[:,0][j-10]\n",
    "        box_b[j,1] = \"100\"\n",
    "\n",
    "        box_g[j,0] = N_100_g[:,0][j-10]\n",
    "        box_g[j,1] = \"100\"\n",
    "    else:\n",
    "        box_b[j,0] = N_1000_b[:,0][j-20]\n",
    "        box_b[j,1] = \"1000\"\n",
    "\n",
    "        box_g[j,0] = N_1000_g[:,0][j-20]\n",
    "        box_g[j,1] = \"1000\""
   ],
   "metadata": {
    "collapsed": false
   }
  },
  {
   "cell_type": "code",
   "execution_count": 9,
   "outputs": [
    {
     "name": "stdout",
     "output_type": "stream",
     "text": [
      "           b       N\n",
      "0   3.947206    10.0\n",
      "1   4.078351    10.0\n",
      "2   3.826083    10.0\n",
      "3   3.579909    10.0\n",
      "4   3.849573    10.0\n",
      "5   3.761094    10.0\n",
      "6   3.692411    10.0\n",
      "7   3.704598    10.0\n",
      "8   3.648714    10.0\n",
      "9   3.700165    10.0\n",
      "10  3.803799   100.0\n",
      "11  3.978325   100.0\n",
      "12  3.700934   100.0\n",
      "13  3.541818   100.0\n",
      "14  3.735436   100.0\n",
      "15  3.645900   100.0\n",
      "16  3.647484   100.0\n",
      "17  3.680503   100.0\n",
      "18  3.551509   100.0\n",
      "19  3.650333   100.0\n",
      "20  3.696680  1000.0\n",
      "21  3.899400  1000.0\n",
      "22  3.597032  1000.0\n",
      "23  3.415016  1000.0\n",
      "24  3.633473  1000.0\n",
      "25  3.547449  1000.0\n",
      "26  3.510024  1000.0\n",
      "27  3.575098  1000.0\n",
      "28  3.434541  1000.0\n",
      "29  3.555533  1000.0\n"
     ]
    }
   ],
   "source": [
    "df_b = pd.DataFrame(box_b)\n",
    "df_g =pd.DataFrame(box_g)\n",
    "df_b.columns = [\"b\",\"N\"]\n",
    "df_g.columns = [\"g\",\"N\"]\n",
    "print(df_b)"
   ],
   "metadata": {
    "collapsed": false
   }
  },
  {
   "cell_type": "code",
   "execution_count": 10,
   "outputs": [
    {
     "data": {
      "text/plain": "<Axes: xlabel='N', ylabel='b'>"
     },
     "execution_count": 10,
     "metadata": {},
     "output_type": "execute_result"
    },
    {
     "data": {
      "text/plain": "<Figure size 640x480 with 1 Axes>",
      "image/png": "[encoded data removed]"
     },
     "metadata": {},
     "output_type": "display_data"
    }
   ],
   "source": [
    "sns.boxplot(df_b,x=\"N\",y=\"b\")"
   ],
   "metadata": {
    "collapsed": false
   }
  },
  {
   "cell_type": "code",
   "execution_count": 11,
   "outputs": [
    {
     "data": {
      "text/plain": "<Axes: xlabel='N', ylabel='g'>"
     },
     "execution_count": 11,
     "metadata": {},
     "output_type": "execute_result"
    },
    {
     "data": {
      "text/plain": "<Figure size 640x480 with 1 Axes>",
      "image/png": "[encoded data removed]"
     },
     "metadata": {},
     "output_type": "display_data"
    }
   ],
   "source": [
    "sns.boxplot(df_g,x=\"N\",y=\"g\")"
   ],
   "metadata": {
    "collapsed": false
   }
  },
  {
   "cell_type": "code",
   "execution_count": 12,
   "outputs": [
    {
     "data": {
      "text/plain": "<bound method Figure.show of <Figure size 640x480 with 1 Axes>>"
     },
     "execution_count": 12,
     "metadata": {},
     "output_type": "execute_result"
    },
    {
     "data": {
      "text/plain": "<Figure size 640x480 with 1 Axes>",
      "image/png": "[encoded data removed]"
     },
     "metadata": {},
     "output_type": "display_data"
    }
   ],
   "source": [
    "fig, ax0 = plt.subplots()\n",
    "ax0.scatter(plot_traj_b[:,0],plot_traj_b[:,1], color = \"red\", label = \"N = 10\")\n",
    "ax0.scatter(plot_traj_b[:,0],plot_traj_b[:,2], color = \"green\", label = \"N = 100\")\n",
    "ax0.scatter(plot_traj_b[:,0],plot_traj_b[:,3], color = \"blue\", label = \"N = 1000\")\n",
    "ax0.set_xlabel(\"Trajectory (seed)\")\n",
    "ax0.set_ylabel(\"b\")\n",
    "ax0.legend()\n",
    "fig.show"
   ],
   "metadata": {
    "collapsed": false
   }
  },
  {
   "cell_type": "code",
   "execution_count": 13,
   "outputs": [
    {
     "data": {
      "text/plain": "<bound method Figure.show of <Figure size 640x480 with 1 Axes>>"
     },
     "execution_count": 13,
     "metadata": {},
     "output_type": "execute_result"
    },
    {
     "data": {
      "text/plain": "<Figure size 640x480 with 1 Axes>",
      "image/png": "[encoded data removed]"
     },
     "metadata": {},
     "output_type": "display_data"
    }
   ],
   "source": [
    "fig, ax0 = plt.subplots()\n",
    "ax0.scatter(plot_traj_g[:, 0], plot_traj_g[:, 1], color=\"red\", label=\"N = 10\")\n",
    "ax0.scatter(plot_traj_g[:, 0], plot_traj_g[:, 2], color=\"green\", label=\"N = 100\")\n",
    "ax0.scatter(plot_traj_g[:, 0], plot_traj_g[:, 3], color=\"blue\", label=\"N = 1000\")\n",
    "ax0.set_xlabel(\"Trajectory (seed)\")\n",
    "ax0.set_ylabel(\"g\")\n",
    "ax0.legend()\n",
    "fig.show"
   ],
   "metadata": {
    "collapsed": false
   }
  },
  {
   "cell_type": "code",
   "execution_count": 14,
   "outputs": [],
   "source": [
    "def model_sir(X0, mu, beta, gamma, tmax, tstep, rng): #define a SIR Model with births and deaths. There are 6 possible events here: birth; S death; I death; R death; infection; recovery\n",
    "    \"\"\"\n",
    "    :param X0: Initial Conditions for reality\n",
    "    :param mu: Birth/death rate\n",
    "    :param beta: Infection rate\n",
    "    :param gamma: Recovery rate\n",
    "    :param tmax: length of simulation#\n",
    "    :return: Time, final epidemic size and whether it went extinct\n",
    "    \"\"\"\n",
    "\n",
    "    #initilise the required arrays\n",
    "\n",
    "    t = 0.0\n",
    "    X = np.array(X0)\n",
    "    sol = np.array([X0])\n",
    "    counter = 0.0\n",
    "\n",
    "    # Run\n",
    "    while(t<tmax):\n",
    "        N = X[0] + X[1] + X[2]\n",
    "        Rt = (beta*X[0]*X[1]/N)\n",
    "        Rr = gamma*X[1]\n",
    "        Rds = (mu*X[0])\n",
    "        Rdi = (mu*X[1])\n",
    "        Rdr = (mu*X[2])\n",
    "        Rb = (mu*N)\n",
    "        Rtotal = Rt + Rr + Rds + Rdr + Rdi + Rb\n",
    "        if Rtotal != 0:\n",
    "            u = rng.exponential(1/Rtotal)\n",
    "            t = t + u\n",
    "            counter += u\n",
    "            #times = np.append(times,t)\n",
    "\n",
    "            # chose the event\n",
    "\n",
    "            z = rng.random()\n",
    "            P = z*Rtotal\n",
    "            fil = np.array([Rt,Rt+Rr,Rt+Rr+Rds,Rt+Rr+Rds+Rdi,Rt+Rr+Rds+Rdi+Rdr,Rt+Rr+Rds+Rdi+Rdr+Rb])\n",
    "            event = min(i for i in fil if i >= P)\n",
    "            if event == fil[0]:\n",
    "                X = X + [-1,1,0]\n",
    "\n",
    "            elif event == fil[1]:\n",
    "                X = X + [0,-1,1]\n",
    "            elif event == fil[2]:\n",
    "                X = X + [-1,0,0]\n",
    "            elif event == fil[3]:\n",
    "                X = X + [0,-1,0]\n",
    "            elif event == fil[4]:\n",
    "                X = X + [0,0,-1]\n",
    "            else:\n",
    "                X = X + [1,0,0]\n",
    "        else:\n",
    "\n",
    "            r_t = tmax - t\n",
    "            r_step = int(r_t/tstep)\n",
    "            for i in range(r_step):\n",
    "                sol = np.append(sol,[X],axis=0)\n",
    "            return sol\n",
    "        while counter >= tstep:\n",
    "            counter = counter - tstep\n",
    "            sol = np.append(sol,[X],axis=0)\n",
    "    while len(sol) > tmax/tstep:\n",
    "        sol = np.delete(sol,-1,0)\n",
    "    if t < 5/gamma:\n",
    "        ex = 1\n",
    "    else:\n",
    "        ex = 0\n",
    "    r_inf = sol[-1][2]\n",
    "    print(r_inf)\n",
    "    return t,r_inf,ex"
   ],
   "metadata": {
    "collapsed": false
   }
  },
  {
   "cell_type": "code",
   "execution_count": 15,
   "outputs": [
    {
     "ename": "ValueError",
     "evalue": "too many values to unpack (expected 3)",
     "output_type": "error",
     "traceback": [
      "\u001B[1;31m---------------------------------------------------------------------------\u001B[0m",
      "\u001B[1;31mValueError\u001B[0m                                Traceback (most recent call last)",
      "Cell \u001B[1;32mIn[15], line 26\u001B[0m\n\u001B[0;32m     24\u001B[0m X0 \u001B[38;5;241m=\u001B[39m [\u001B[38;5;241m9\u001B[39m, \u001B[38;5;241m1\u001B[39m, \u001B[38;5;241m0\u001B[39m]\n\u001B[0;32m     25\u001B[0m \u001B[38;5;28;01mfor\u001B[39;00m j \u001B[38;5;129;01min\u001B[39;00m \u001B[38;5;28mrange\u001B[39m(\u001B[38;5;241m1000\u001B[39m):\n\u001B[1;32m---> 26\u001B[0m     t,s,ext \u001B[38;5;241m=\u001B[39m model_sir(X0,mu,beta\u001B[38;5;241m=\u001B[39mdf_b\u001B[38;5;241m.\u001B[39miloc[i,\u001B[38;5;241m0\u001B[39m],gamma\u001B[38;5;241m=\u001B[39mdf_g\u001B[38;5;241m.\u001B[39miloc[i,\u001B[38;5;241m0\u001B[39m],tmax\u001B[38;5;241m=\u001B[39mtmax,tstep\u001B[38;5;241m=\u001B[39mtstep,rng\u001B[38;5;241m=\u001B[39mrng)\n\u001B[0;32m     28\u001B[0m     final_s\u001B[38;5;241m.\u001B[39mappend(s)\n\u001B[0;32m     29\u001B[0m     final_t\u001B[38;5;241m.\u001B[39mappend(t)\n",
      "\u001B[1;31mValueError\u001B[0m: too many values to unpack (expected 3)"
     ]
    }
   ],
   "source": [
    "seed = 1912\n",
    "rng = np.random.default_rng(seed)\n",
    "\n",
    "mu = 0\n",
    "tmax = 10\n",
    "tstep = 0.05\n",
    "\n",
    "final_sizes = np.empty(shape = (30,2))\n",
    "size_stds = np.empty(shape = (30,2))\n",
    "final_times = np.empty(shape = (30,2))\n",
    "times_stds = np.empty(shape = (30,2))\n",
    "pr_ext= np.empty(shape = (30,2))\n",
    "for i in range(30):\n",
    "    final_s = []\n",
    "    final_t = []\n",
    "    exts = []\n",
    "\n",
    "    if i <10:\n",
    "        final_sizes[i,1] = \"10\"\n",
    "        size_stds[i,1] = \"10\"\n",
    "        final_times[i,1] = \"10\"\n",
    "        times_stds[i,1] = \"10\"\n",
    "        pr_ext[i,1] = \"10\"\n",
    "        X0 = [9, 1, 0]\n",
    "        for j in range(1000):\n",
    "            t,s,ext = model_sir(X0,mu,beta=df_b.iloc[i,0],gamma=df_g.iloc[i,0],tmax=tmax,tstep=tstep,rng=rng)\n",
    "\n",
    "            final_s.append(s)\n",
    "            final_t.append(t)\n",
    "            exts.append(ext)\n",
    "        print(exts)\n"
   ],
   "metadata": {
    "collapsed": false
   }
  },
  {
   "cell_type": "code",
   "execution_count": null,
   "outputs": [],
   "source": [
    "print(exts)"
   ],
   "metadata": {
    "collapsed": false
   }
  },
  {
   "cell_type": "code",
   "execution_count": null,
   "outputs": [],
   "source": [],
   "metadata": {
    "collapsed": false
   }
  }
 ],
 "metadata": {
  "kernelspec": {
   "display_name": "Python 3",
   "language": "python",
   "name": "python3"
  },
  "language_info": {
   "codemirror_mode": {
    "name": "ipython",
    "version": 2
   },
   "file_extension": ".py",
   "mimetype": "text/x-python",
   "name": "python",
   "nbconvert_exporter": "python",
   "pygments_lexer": "ipython2",
   "version": "2.7.6"
  }
 },
 "nbformat": 4,
 "nbformat_minor": 0
}
