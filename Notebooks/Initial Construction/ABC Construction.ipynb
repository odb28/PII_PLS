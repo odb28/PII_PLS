{
 "cells": [
  {
   "cell_type": "code",
   "execution_count": 1,
   "metadata": {
    "collapsed": true
   },
   "outputs": [],
   "source": [
    "import numpy as np\n",
    "from matplotlib import pyplot as plt\n",
    "import seaborn as sns\n",
    "import scipy as sp"
   ]
  },
  {
   "cell_type": "code",
   "execution_count": null,
   "outputs": [],
   "source": [
    "def sum_sq_distance(array1,array2):\n",
    "    if len(array1) != len(array2):\n",
    "        raise ValueError(\"Arrays not of equal length\")\n",
    "    dist = 0\n",
    "    try:\n",
    "        x=len(array1[0])\n",
    "    except:\n",
    "        for i in range(len(array1)):\n",
    "            dist += (array1[i] - array2[i])**2\n",
    "    else:\n",
    "        for i in range(len(array1)):\n",
    "            for j in len(array1[i]):\n",
    "                dist += (array1[i][j] - array2[i][j])**2\n",
    "    return dist\n",
    "\n"
   ],
   "metadata": {
    "collapsed": false
   }
  },
  {
   "cell_type": "code",
   "execution_count": null,
   "outputs": [],
   "source": [
    "def ABC_core(func,para_distro,reality,N,distance,rng):\n",
    "    \"\"\"\n",
    "    :param func: The function to iterate over\n",
    "    :param para_distro: An array of parameter values\n",
    "    :param N: The number of iterations for each parameter value\n",
    "    :param distance: The method for choosing a distance measure\n",
    "    :param rng: RNG\n",
    "    :return: An array of the parameter values with distance measures\n",
    "    \"\"\"\n",
    "\n",
    "    if distance == \"Sum_sq\":\n",
    "        dis_func = sum_sq_distance()\n",
    "    output = np.array([0,0])\n",
    "    for parameter in para_distro:\n",
    "        out_pair = [parameter]\n",
    "        for i in range(N):\n",
    "            dis = dis_func((func(parameter,rng)),reality)\n",
    "            out_pair.append(dis)\n",
    "            output = np.append(output,out_pair,axis = 0)\n",
    "    return output\n"
   ],
   "metadata": {
    "collapsed": false
   }
  },
  {
   "cell_type": "code",
   "execution_count": null,
   "outputs": [],
   "source": [
    "def test(beta,rng):\n",
    "\n",
    "    return np.array([beta-1,beta,beta+1])"
   ],
   "metadata": {
    "collapsed": false
   }
  },
  {
   "cell_type": "code",
   "execution_count": null,
   "outputs": [],
   "source": [
    "reality = np.array(2,3,4)\n",
    "test_paras = np.array([1,2,3,4,5,6,7,8,9,10])"
   ],
   "metadata": {
    "collapsed": false
   }
  }
 ],
 "metadata": {
  "kernelspec": {
   "display_name": "Python 3",
   "language": "python",
   "name": "python3"
  },
  "language_info": {
   "codemirror_mode": {
    "name": "ipython",
    "version": 2
   },
   "file_extension": ".py",
   "mimetype": "text/x-python",
   "name": "python",
   "nbconvert_exporter": "python",
   "pygments_lexer": "ipython2",
   "version": "2.7.6"
  }
 },
 "nbformat": 4,
 "nbformat_minor": 0
}
