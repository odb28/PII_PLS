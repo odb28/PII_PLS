{
 "cells": [
  {
   "cell_type": "code",
   "execution_count": 11,
   "metadata": {
    "collapsed": true
   },
   "outputs": [],
   "source": [
    "import numpy as np\n",
    "import pickle\n",
    "from src.PLS.utils import sims"
   ]
  },
  {
   "cell_type": "code",
   "execution_count": 12,
   "outputs": [],
   "source": [
    "Typ = [\"simple\",\"simple_I0\",\"meta\"][2]\n",
    "siz = [\"10\",\"100\",\"1000\"][0]\n",
    "seed =1912\n",
    "sim_scen = [\"\",\"c1\",\"c2\",\"c3\"][0]\n",
    "beta_controls = np.arange(0,1.1,0.1)\n",
    "gamma_additives  = np.arange(0,10,1)\n",
    "thinning_intensities = np.arange(0,0.55,0.05)\n",
    "thinning_frequencies = np.arange(0.5,3.0,0.5)"
   ],
   "metadata": {
    "collapsed": false
   }
  },
  {
   "cell_type": "code",
   "execution_count": 13,
   "outputs": [],
   "source": [
    "#import distributions\n",
    "distro = np.genfromtxt(f\"../../Data/R0_3/Sims_SIR/Sampled_distros/Distro_{Typ}_{siz}.csv\",delimiter=\",\")"
   ],
   "metadata": {
    "collapsed": false
   }
  },
  {
   "cell_type": "code",
   "execution_count": 14,
   "outputs": [],
   "source": [
    "#for i in range(len(beta_controls)):\n",
    "output_dictionary = sims(distro,Typ,siz,seed,sim_scen,beta_controls[:])"
   ],
   "metadata": {
    "collapsed": false
   }
  },
  {
   "cell_type": "code",
   "execution_count": 15,
   "outputs": [],
   "source": [
    "#Pickle Sims\n",
    "with open(f\"../../Data/R0_3/Sims_SIR/Pickles/Sim_dict_{Typ}_{siz}{sim_scen}.pickle\", 'wb') as handle:\n",
    "    pickle.dump(output_dictionary,handle, protocol=pickle.HIGHEST_PROTOCOL)"
   ],
   "metadata": {
    "collapsed": false
   }
  }
 ],
 "metadata": {
  "kernelspec": {
   "display_name": "Python 3",
   "language": "python",
   "name": "python3"
  },
  "language_info": {
   "codemirror_mode": {
    "name": "ipython",
    "version": 2
   },
   "file_extension": ".py",
   "mimetype": "text/x-python",
   "name": "python",
   "nbconvert_exporter": "python",
   "pygments_lexer": "ipython2",
   "version": "2.7.6"
  }
 },
 "nbformat": 4,
 "nbformat_minor": 0
}
