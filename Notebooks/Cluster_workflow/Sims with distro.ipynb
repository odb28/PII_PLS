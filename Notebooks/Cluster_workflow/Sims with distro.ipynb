{
 "cells": [
  {
   "cell_type": "code",
   "execution_count": 7,
   "metadata": {
    "collapsed": true
   },
   "outputs": [],
   "source": [
    "import numpy as np\n",
    "from src.PLS.baseSIR import model_sir\n",
    "import pickle\n",
    "from src.PLS.metaSIR import basic_square_map\n",
    "from src.PLS.metaSIR import straight_line_distances\n",
    "from src.PLS.metaSIR import meta_model_sir\n",
    "from src.PLS.metaSIR import basic_kernel"
   ]
  },
  {
   "cell_type": "code",
   "execution_count": 8,
   "outputs": [],
   "source": [
    "Typ = [\"simple\",\"simple_I0\",\"meta\"][2]\n",
    "siz = [\"10\",\"100\",\"1000\"][0]\n",
    "seed =1912"
   ],
   "metadata": {
    "collapsed": false
   }
  },
  {
   "cell_type": "code",
   "execution_count": 9,
   "outputs": [],
   "source": [
    "#import distributions\n",
    "distro = np.genfromtxt(f\"../../Data/R0_3/Sims_SIR/Sampled_distros/Distro_{Typ}_{siz}.csv\",delimiter=\",\")"
   ],
   "metadata": {
    "collapsed": false
   }
  },
  {
   "cell_type": "code",
   "execution_count": 10,
   "outputs": [],
   "source": [
    "#setup dictionary\n",
    "output_dictionary = {}\n",
    "output_dictionary[\"Final_size\"] = []\n",
    "output_dictionary[\"Extinction\"] = []\n",
    "output_dictionary[\"Peak\"] = []\n",
    "output_dictionary[\"Tmax\"] = []\n",
    "output_dictionary[\"Tpeak\"] = []"
   ],
   "metadata": {
    "collapsed": false
   }
  },
  {
   "cell_type": "code",
   "execution_count": 11,
   "outputs": [],
   "source": [
    "#Scen Toggle\n",
    "if Typ == \"simple\":\n",
    "    beta_distro = distro\n",
    "    n_sims = len(beta_distro)\n",
    "    gamma = 1\n",
    "    mu = 0\n",
    "    tstep = 0.05\n",
    "    tmax = 100\n",
    "    rng = np.random.default_rng(seed)\n",
    "    div=1\n",
    "    if siz == \"1000\":\n",
    "        X0 = [900,100,0]\n",
    "    elif siz == \"100\":\n",
    "        X0 = [90,10,0]\n",
    "    elif siz == \"10\":\n",
    "        X0 = [9,1,0]\n",
    "    else:\n",
    "        raise ValueError(\"Not possible! Choose from 1000,100,10\")\n",
    "    #Run Sims\n",
    "    for i in range(n_sims):\n",
    "        beta = beta_distro[i]/div\n",
    "        rinf, ex,t,peak,peak_t  = model_sir(X0,mu,beta,gamma,tmax,tstep,rng)\n",
    "        output_dictionary[\"Final_size\"].append(rinf)\n",
    "        output_dictionary[\"Extinction\"].append(ex)\n",
    "        output_dictionary[\"Peak\"].append(peak)\n",
    "        output_dictionary[\"Tmax\"].append(t)\n",
    "        output_dictionary[\"Tpeak\"].append(peak_t)\n",
    "elif Typ == \"simple_I0\":\n",
    "    beta_distro = distro\n",
    "    n_sims = len(beta_distro)\n",
    "    gamma = 1\n",
    "    mu = 0\n",
    "    tstep = 0.05\n",
    "    tmax = 100\n",
    "    rng = np.random.default_rng(seed)\n",
    "    div=1\n",
    "    if siz == \"1000\":\n",
    "        X0 = [999,1,0]\n",
    "    elif siz == \"100\":\n",
    "        X0 = [99,1,0]\n",
    "    elif siz == \"10\":\n",
    "        X0 = [9,1,0]\n",
    "    else:\n",
    "        raise ValueError(\"Not possible! Choose from 1000,100,10\")\n",
    "    #Run Sims\n",
    "    for i in range(n_sims):\n",
    "        beta = beta_distro[i]/div\n",
    "        rinf, ex,t,peak,peak_t  = model_sir(X0,mu,beta,gamma,tmax,tstep,rng)\n",
    "        output_dictionary[\"Final_size\"].append(rinf)\n",
    "        output_dictionary[\"Extinction\"].append(ex)\n",
    "        output_dictionary[\"Peak\"].append(peak)\n",
    "        output_dictionary[\"Tmax\"].append(t)\n",
    "        output_dictionary[\"Tpeak\"].append(peak_t)\n",
    "elif Typ == \"meta\":\n",
    "    beta_distro = distro\n",
    "    n_sims = len(beta_distro)\n",
    "    N = 4\n",
    "    test_map = basic_square_map(N)\n",
    "    test_distances = straight_line_distances(test_map,N,scaling=10)\n",
    "    gamma = 1\n",
    "    rng = np.random.default_rng(seed)\n",
    "    tstep = 0.01\n",
    "    tmax = 100\n",
    "    if siz == \"1000\":\n",
    "        X0 = [[999,1,0]]\n",
    "        div = sum(X0[0])\n",
    "        for i in range(N-1):\n",
    "            X0.append([1000,0,0])\n",
    "    elif siz == \"100\":\n",
    "        X0 = [[99,1,0]]\n",
    "        div = sum(X0[0])\n",
    "        for i in range(N-1):\n",
    "            X0.append([100,0,0])\n",
    "    elif siz == \"10\":\n",
    "        X0 = [[9,1,0]]\n",
    "        div = sum(X0[0])\n",
    "        for i in range(N-1):\n",
    "            X0.append([10,0,0])\n",
    "    #Run Sims\n",
    "    for i in range(n_sims):\n",
    "        beta = beta_distro[i]/div\n",
    "        rinf, ex,t  = meta_model_sir(X0,beta,gamma,N,test_distances,basic_kernel,tmax,tstep,rng)\n",
    "        output_dictionary[\"Final_size\"].append(rinf)\n",
    "        output_dictionary[\"Extinction\"].append(ex)\n",
    "        #output_dictionary[\"Peak\"].append(peak)\n",
    "        output_dictionary[\"Tmax\"].append(t)\n",
    "        #output_dictionary[\"Tpeak\"].append(peak_t)"
   ],
   "metadata": {
    "collapsed": false
   }
  },
  {
   "cell_type": "code",
   "execution_count": 12,
   "outputs": [],
   "source": [
    "#Pickle Sims\n",
    "with open(f\"../../Data/R0_3/Sims_SIR/Pickles/Sim_dict_{Typ}_{siz}.pickle\", 'wb') as handle:\n",
    "    pickle.dump(output_dictionary,handle, protocol=pickle.HIGHEST_PROTOCOL)"
   ],
   "metadata": {
    "collapsed": false
   }
  }
 ],
 "metadata": {
  "kernelspec": {
   "display_name": "Python 3",
   "language": "python",
   "name": "python3"
  },
  "language_info": {
   "codemirror_mode": {
    "name": "ipython",
    "version": 2
   },
   "file_extension": ".py",
   "mimetype": "text/x-python",
   "name": "python",
   "nbconvert_exporter": "python",
   "pygments_lexer": "ipython2",
   "version": "2.7.6"
  }
 },
 "nbformat": 4,
 "nbformat_minor": 0
}
