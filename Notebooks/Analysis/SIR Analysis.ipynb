{
 "cells": [
  {
   "cell_type": "code",
   "execution_count": 16,
   "metadata": {
    "collapsed": true
   },
   "outputs": [],
   "source": [
    "import numpy as np\n",
    "import scipy as sp\n",
    "import arviz as az\n",
    "from src.baseSIR import mle\n",
    "from src.baseSIR import mle_sir\n",
    "import seaborn as sns\n",
    "import pandas as pd\n",
    "from matplotlib import pyplot as plt\n",
    "import time"
   ]
  },
  {
   "cell_type": "code",
   "execution_count": 17,
   "outputs": [],
   "source": [
    "N_sample = 5\n",
    "R0 = 3\n",
    "g_state =  [\"fixed\",\"free\"]\n",
    "sim_g = g_state[0]\n",
    "extra = [\"\",\"_I1\",\"_I2\"]\n",
    "I0 = extra[1]"
   ],
   "metadata": {
    "collapsed": false
   }
  },
  {
   "cell_type": "code",
   "execution_count": 18,
   "outputs": [],
   "source": [
    "N_10_b = np.genfromtxt(f\"../../Data/R0_{R0}/Fitted/{sim_g}_g_N_10{I0}_b_{R0}.csv\", delimiter= \",\")\n",
    "N_100_b = np.genfromtxt(f\"../../Data/R0_{R0}/Fitted/{sim_g}_g_N_100{I0}_b_{R0}.csv\", delimiter= \",\")\n",
    "N_1000_b = np.genfromtxt(f\"../../Data/R0_{R0}/Fitted/{sim_g}_g_N_1000{I0}_b_{R0}.csv\", delimiter= \",\")\n",
    "\n",
    "if sim_g == \"free\":\n",
    "    N_10_g = np.genfromtxt(f\"../../Data/R0_{R0}/Fitted/{sim_g}_g_N_10{I0}_g_{R0}.csv\", delimiter= \",\")\n",
    "    N_100_g = np.genfromtxt(f\"../../Data/R0_{R0}/Fitted/{sim_g}_g_N_100{I0}_g_{R0}.csv\", delimiter= \",\")\n",
    "    N_1000_g = np.genfromtxt(f\"../../Data/R0_{R0}/Fitted/{sim_g}_g_N_1000{I0}_g_{R0}.csv\", delimiter= \",\")"
   ],
   "metadata": {
    "collapsed": false
   }
  },
  {
   "cell_type": "code",
   "execution_count": 19,
   "outputs": [],
   "source": [
    "plot_traj_b = np.empty(shape=(N_sample,4))\n",
    "plot_traj_g = np.empty(shape=(N_sample,4))\n",
    "box_b = np.empty(shape= (N_sample*3,2))\n",
    "box_g = np.empty(shape= (N_sample*3,2))\n",
    "\n",
    "for i in range(N_sample):\n",
    "    plot_traj_b[i,0] = i +1\n",
    "    plot_traj_b[i,1] = N_10_b[:,0][i]\n",
    "    plot_traj_b[i,2] = N_100_b[:,0][i]\n",
    "    plot_traj_b[i,3] = N_1000_b[:,0][i]\n",
    "\n",
    "    if sim_g == \"free\":\n",
    "        plot_traj_g[i,0] = i +1\n",
    "        plot_traj_g[i,1] = N_10_g[:,0][i]\n",
    "        plot_traj_g[i,2] = N_100_g[:,0][i]\n",
    "        plot_traj_g[i,3] = N_1000_g[:,0][i]\n",
    "\n",
    "for j in range(N_sample*3):\n",
    "    if j < N_sample:\n",
    "        box_b[j,0] = N_10_b[:,0][j]\n",
    "        box_b[j,1] = \"10\"\n",
    "        if sim_g == \"free\":\n",
    "            box_g[j,0] = N_10_g[:,0][j]\n",
    "            box_g[j,1] = \"10\"\n",
    "    elif N_sample <= j < N_sample*2:\n",
    "        box_b[j,0] = N_100_b[:,0][j-N_sample]\n",
    "        box_b[j,1] = \"100\"\n",
    "        if sim_g == \"free\":\n",
    "            box_g[j,0] = N_100_g[:,0][j-N_sample]\n",
    "            box_g[j,1] = \"100\"\n",
    "    else:\n",
    "        box_b[j,0] = N_1000_b[:,0][j-N_sample*2]\n",
    "        box_b[j,1] = \"1000\"\n",
    "        if sim_g == \"free\":\n",
    "            box_g[j,0] = N_1000_g[:,0][j-N_sample*2]\n",
    "            box_g[j,1] = \"1000\""
   ],
   "metadata": {
    "collapsed": false
   }
  },
  {
   "cell_type": "code",
   "execution_count": 20,
   "outputs": [],
   "source": [
    "mle_b = np.genfromtxt(f\"../../Data/R0_{R0}/Fitted/MLE_b_{R0}.csv\", delimiter=\",\")[0:N_sample]\n",
    "mle_g = np.genfromtxt(f\"../../Data/R0_{R0}/Fitted/MLE_g_{R0}.csv\", delimiter=\",\")[0:N_sample]"
   ],
   "metadata": {
    "collapsed": false
   }
  },
  {
   "cell_type": "code",
   "execution_count": 21,
   "outputs": [],
   "source": [
    "test_b = N_1000_b[:,0]\n",
    "if sim_g == \"free\":\n",
    "    test_g = N_1000_g[:,0]"
   ],
   "metadata": {
    "collapsed": false
   }
  },
  {
   "cell_type": "code",
   "execution_count": 22,
   "outputs": [
    {
     "name": "stdout",
     "output_type": "stream",
     "text": [
      "TtestResult(statistic=-0.19314916836543172, pvalue=0.8562531036498269, df=4)\n"
     ]
    }
   ],
   "source": [
    "print(sp.stats.ttest_rel(mle_b,test_b))\n",
    "if sim_g == \"free\":\n",
    "    print(sp.stats.ttest_rel(mle_g,test_g))"
   ],
   "metadata": {
    "collapsed": false
   }
  },
  {
   "cell_type": "code",
   "execution_count": 23,
   "outputs": [],
   "source": [
    "mle_N = [\"MLE_1000\"]*N_sample\n",
    "mle_B = {\"b\":mle_b,\"N\":mle_N}\n",
    "df_mle_b = pd.DataFrame(mle_B, columns=(\"b\",\"N\"))\n",
    "mle_G = {\"g\":mle_g,\"N\":mle_N}\n",
    "df_mle_g = pd.DataFrame(mle_G, columns=(\"g\",\"N\"))"
   ],
   "metadata": {
    "collapsed": false
   }
  },
  {
   "cell_type": "code",
   "execution_count": 24,
   "outputs": [],
   "source": [
    "df_b = pd.DataFrame(box_b)\n",
    "df_g =pd.DataFrame(box_g)\n",
    "df_b.columns = [\"b\",\"N\"]\n",
    "df_g.columns = [\"g\",\"N\"]\n",
    "df_b = pd.concat([df_b,df_mle_b])\n",
    "df_g = pd.concat([df_g,df_mle_g])"
   ],
   "metadata": {
    "collapsed": false
   }
  },
  {
   "cell_type": "code",
   "execution_count": 25,
   "outputs": [
    {
     "data": {
      "text/plain": "<Axes: xlabel='N', ylabel='b'>"
     },
     "execution_count": 25,
     "metadata": {},
     "output_type": "execute_result"
    },
    {
     "data": {
      "text/plain": "<Figure size 640x480 with 1 Axes>",
      "image/png": "[encoded data removed]"
     },
     "metadata": {},
     "output_type": "display_data"
    }
   ],
   "source": [
    "sns.boxplot(df_b,x=\"N\",y=\"b\")"
   ],
   "metadata": {
    "collapsed": false
   }
  },
  {
   "cell_type": "code",
   "execution_count": 26,
   "outputs": [],
   "source": [
    "if sim_g == \"free\":\n",
    "    sns.boxplot(df_g,x=\"N\",y=\"g\")"
   ],
   "metadata": {
    "collapsed": false
   }
  },
  {
   "cell_type": "code",
   "execution_count": 27,
   "outputs": [
    {
     "data": {
      "text/plain": "<bound method Figure.show of <Figure size 640x480 with 1 Axes>>"
     },
     "execution_count": 27,
     "metadata": {},
     "output_type": "execute_result"
    },
    {
     "data": {
      "text/plain": "<Figure size 640x480 with 1 Axes>",
      "image/png": "[encoded data removed]"
     },
     "metadata": {},
     "output_type": "display_data"
    }
   ],
   "source": [
    "fig, ax0 = plt.subplots()\n",
    "ax0.scatter(plot_traj_b[:,0],plot_traj_b[:,1], color = \"red\", label = \"N = 10\")\n",
    "ax0.scatter(plot_traj_b[:,0],plot_traj_b[:,2], color = \"green\", label = \"N = 100\")\n",
    "ax0.scatter(plot_traj_b[:,0],plot_traj_b[:,3], color = \"blue\", label = \"N = 1000\")\n",
    "ax0.scatter(plot_traj_b[:,0],mle_b, color = \"yellow\", label = \"MLE_1000\")\n",
    "ax0.set_xlabel(\"Trajectory (seed)\")\n",
    "ax0.set_ylabel(\"b\")\n",
    "ax0.legend()\n",
    "fig.show"
   ],
   "metadata": {
    "collapsed": false
   }
  },
  {
   "cell_type": "code",
   "execution_count": 28,
   "outputs": [],
   "source": [
    "if sim_g == \"free\":\n",
    "    fig, ax0 = plt.subplots()\n",
    "    ax0.scatter(plot_traj_g[:, 0], plot_traj_g[:, 1], color=\"red\", label=\"N = 10\")\n",
    "    ax0.scatter(plot_traj_g[:, 0], plot_traj_g[:, 2], color=\"green\", label=\"N = 100\")\n",
    "    ax0.scatter(plot_traj_g[:, 0], plot_traj_g[:, 3], color=\"blue\", label=\"N = 1000\")\n",
    "    ax0.scatter(plot_traj_g[:,0],mle_g, color = \"yellow\", label = \"MLE_1000\")\n",
    "    ax0.set_xlabel(\"Trajectory (seed)\")\n",
    "    ax0.set_ylabel(\"g\")\n",
    "    ax0.legend()\n",
    "    fig.show()"
   ],
   "metadata": {
    "collapsed": false
   }
  },
  {
   "cell_type": "code",
   "execution_count": 29,
   "outputs": [],
   "source": [
    "differences_b = plot_traj_b[:,3] - mle_b\n",
    "if sim_g == \"free\":\n",
    "    differences_g = plot_traj_g[:,3] - mle_g\n",
    "zero = [0]*N_sample"
   ],
   "metadata": {
    "collapsed": false
   }
  },
  {
   "cell_type": "code",
   "execution_count": 30,
   "outputs": [
    {
     "data": {
      "text/plain": "<bound method Figure.show of <Figure size 640x480 with 1 Axes>>"
     },
     "execution_count": 30,
     "metadata": {},
     "output_type": "execute_result"
    },
    {
     "data": {
      "text/plain": "<Figure size 640x480 with 1 Axes>",
      "image/png": "[encoded data removed]"
     },
     "metadata": {},
     "output_type": "display_data"
    }
   ],
   "source": [
    "fig, ax0 = plt.subplots()\n",
    "ax0.scatter(plot_traj_b[:,0],differences_b, color = \"red\", label = \"Differences in b\")\n",
    "if sim_g == \"free\":\n",
    "    ax0.scatter(plot_traj_b[:,0],differences_g, color = \"green\", label = \"Differences in g\")\n",
    "ax0.plot(plot_traj_b[:,0],zero, color = \"orange\")\n",
    "ax0.set_xlabel(\"Trajectory (seed)\")\n",
    "ax0.set_ylabel(\"Differences\")\n",
    "ax0.legend()\n",
    "fig.show"
   ],
   "metadata": {
    "collapsed": false
   }
  },
  {
   "cell_type": "code",
   "execution_count": 30,
   "outputs": [],
   "source": [],
   "metadata": {
    "collapsed": false
   }
  }
 ],
 "metadata": {
  "kernelspec": {
   "display_name": "Python 3",
   "language": "python",
   "name": "python3"
  },
  "language_info": {
   "codemirror_mode": {
    "name": "ipython",
    "version": 2
   },
   "file_extension": ".py",
   "mimetype": "text/x-python",
   "name": "python",
   "nbconvert_exporter": "python",
   "pygments_lexer": "ipython2",
   "version": "2.7.6"
  }
 },
 "nbformat": 4,
 "nbformat_minor": 0
}
