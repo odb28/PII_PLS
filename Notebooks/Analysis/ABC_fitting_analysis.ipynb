{
 "cells": [
  {
   "cell_type": "code",
   "execution_count": 1,
   "metadata": {
    "collapsed": true
   },
   "outputs": [],
   "source": [
    "import numpy as np\n",
    "from matplotlib import pyplot as plt\n",
    "import seaborn as sns\n",
    "import scipy as sp\n",
    "from src.PLS.baseSIR import no_ext_sir\n",
    "from src.PLS.baseSIR import timed_sir\n",
    "from src.PLS.baseSIR import real_si\n",
    "from decimal import Decimal, ROUND_UP\n",
    "import time\n",
    "import pandas as pd\n",
    "from src.PLS.ABC import ABC_rejection\n",
    "from src.PLS.ABC import ABC_core\n",
    "from src.PLS.ABC import sum_sqrt_sq_distance"
   ]
  },
  {
   "cell_type": "code",
   "execution_count": 2,
   "outputs": [],
   "source": [
    "trajs = 10\n",
    "iterations = 18"
   ],
   "metadata": {
    "collapsed": false
   }
  },
  {
   "cell_type": "code",
   "execution_count": 3,
   "outputs": [],
   "source": [
    "cluster_fittings ={}\n",
    "cluster_fittings[\"1000\"] = {}\n",
    "cluster_fittings[\"100\"] = {}\n",
    "cluster_fittings[\"10\"] = {}\n",
    "#cluster_fittings[\"1000\"][f\"{i}\"]"
   ],
   "metadata": {
    "collapsed": false
   }
  },
  {
   "cell_type": "code",
   "execution_count": 7,
   "outputs": [],
   "source": [
    "for i in range(1,trajs+1):\n",
    "    total_traj = np.genfromtxt(f\"../../Cluster/fittings/fit1000s/Traj_{i}_1_1000b__I1.csv\",delimiter=\",\")\n",
    "    for j in range(2,iterations +1):\n",
    "        temp = np.genfromtxt(f\"../../Cluster/fittings/fit1000s/Traj_{i}_{j}_1000b__I1.csv\",delimiter=\",\")\n",
    "        total_traj = np.append(temp,total_traj,axis=0)\n",
    "    cluster_fittings[\"1000\"][f\"{i}\"] = total_traj"
   ],
   "metadata": {
    "collapsed": false
   }
  },
  {
   "cell_type": "code",
   "execution_count": null,
   "outputs": [],
   "source": [
    "for i in range(1,3):\n",
    "    total_traj = np.genfromtxt(f\"../../Cluster/fittings/fit100s/Traj_{i}_1_100b.csv\",delimiter=\",\")\n",
    "    for j in range(2,iterations +1):\n",
    "        temp = np.genfromtxt(f\"../../Cluster/fittings/fit100s/Traj_{i}_{j}_100b.csv\",delimiter=\",\")\n",
    "        total_traj = np.append(temp,total_traj,axis=0)\n",
    "    cluster_fittings[\"100\"][f\"{i}\"] = total_traj"
   ],
   "metadata": {
    "collapsed": false
   }
  },
  {
   "cell_type": "code",
   "execution_count": null,
   "outputs": [
    {
     "name": "stdout",
     "output_type": "stream",
     "text": [
      "...."
     ]
    }
   ],
   "source": [
    "for i in range(1,trajs+1):\n",
    "    total_traj = np.genfromtxt(f\"../../Cluster/fittings/fit10s/Traj_{i}_1_10b.csv\",delimiter=\",\")\n",
    "    print(\".\",end=\"\")\n",
    "    for j in range(2,iterations +1):\n",
    "        temp = np.genfromtxt(f\"../../Cluster/fittings/fit10s/Traj_{i}_{j}_10b.csv\",delimiter=\",\")\n",
    "        total_traj = np.append(temp,total_traj,axis=0)\n",
    "    cluster_fittings[\"10\"][f\"{i}\"] = total_traj"
   ],
   "metadata": {
    "collapsed": false,
    "pycharm": {
     "is_executing": true
    }
   }
  },
  {
   "cell_type": "code",
   "execution_count": null,
   "outputs": [],
   "source": [
    "def threshold_scheduler(results, threshold_references):\n",
    "    sort_res = results.sort_values(by=\"Distance\")\n",
    "    output = []\n",
    "    for i in threshold_references:\n",
    "        temp = sort_res.iloc[0:int(len(sort_res.index) / (100 / i))]\n",
    "        output.append(temp.iloc[-1, 1])\n",
    "    return output"
   ],
   "metadata": {
    "collapsed": false,
    "pycharm": {
     "is_executing": true
    }
   }
  },
  {
   "cell_type": "code",
   "execution_count": null,
   "outputs": [],
   "source": [
    "graph_ABC = cluster_fittings[\"10\"][\"7\"]\n",
    "reference = [1]\n",
    "df_ABC = pd.DataFrame(graph_ABC, columns=[\"Beta\", \"Distance\"])\n",
    "threshold_schedule = threshold_scheduler(df_ABC, reference)"
   ],
   "metadata": {
    "collapsed": false,
    "pycharm": {
     "is_executing": true
    }
   }
  },
  {
   "cell_type": "code",
   "execution_count": null,
   "outputs": [],
   "source": [
    "fig, ax0 = plt.subplots(figsize=(8, 8))\n",
    "cols = sns.color_palette(\"rocket\", n_colors=10)\n",
    "for i in range(len(threshold_schedule)):\n",
    "    thresh = ABC_rejection(threshold_schedule[i], graph_ABC)\n",
    "    ploted = pd.DataFrame(thresh, columns=[\"Beta\", \"Counts\"])\n",
    "    bet_dis = ploted.groupby(\"Beta\").count()\n",
    "    plot_bet_dis = bet_dis[bet_dis[\"Counts\"] != 0]\n",
    "    max_scale = max(plot_bet_dis[\"Counts\"])\n",
    "    plot_bet_dis[\"Counts\"] = plot_bet_dis[\"Counts\"] / max_scale\n",
    "    area = np.trapz(plot_bet_dis[\"Counts\"],dx=0.01)\n",
    "    plot_bet_dis[\"Counts\"] = plot_bet_dis[\"Counts\"] / area\n",
    "    spline = sp.interpolate.CubicSpline(plot_bet_dis.index, plot_bet_dis[\"Counts\"])\n",
    "    print(spline)\n",
    "    ax0.scatter(bet_dis.index, plot_bet_dis[\"Counts\"], label=f\"Threshold= {reference[i]}% accepted\", color=cols[i],\n",
    "                alpha=0.25)\n",
    "    ax0.plot(plot_bet_dis.index, spline(plot_bet_dis.index), color=cols[i])\n",
    "mles = np.genfromtxt(\"../../Data/R0_3/Fitted/MLE_b_I0_1_3.csv\")\n",
    "mle1 = mles[6]\n",
    "ax0.set_ylabel(\"Posterior Probability Distribution\")\n",
    "ax0.set_xlabel(\"Beta\")\n",
    "ax0.axvline(mle1, color=\"red\")\n",
    "ax0.legend(bbox_to_anchor=(1, 1))\n",
    "#ax0.set_ylim(0, 1.1)\n",
    "#ax0.set_xlim(1,5)\n",
    "fig.show()"
   ],
   "metadata": {
    "collapsed": false,
    "pycharm": {
     "is_executing": true
    }
   }
  },
  {
   "cell_type": "code",
   "execution_count": null,
   "outputs": [],
   "source": [
    "sample_cum = plot_bet_dis.copy()\n",
    "sample_cum[\"Cum_prob\"] = 0\n",
    "for i in range(len(sample_cum.index)):\n",
    "    sample_cum.iloc[i,1] = np.trapz(plot_bet_dis.iloc[0:i+1,0],dx=0.01)\n",
    "print(sample_cum)"
   ],
   "metadata": {
    "collapsed": false,
    "pycharm": {
     "is_executing": true
    }
   }
  },
  {
   "cell_type": "code",
   "execution_count": null,
   "outputs": [],
   "source": [
    "fig, ax0 = plt.subplots()\n",
    "ax0.plot(sample_cum.index,sample_cum[\"Cum_prob\"])\n",
    "fig.show()"
   ],
   "metadata": {
    "collapsed": false,
    "pycharm": {
     "is_executing": true
    }
   }
  },
  {
   "cell_type": "code",
   "execution_count": null,
   "outputs": [],
   "source": [
    "def beta_sampler(beta,cum_probs,rng,size):\n",
    "    out = []\n",
    "    rng = rng\n",
    "    for i in range(size):\n",
    "        copy_cums = cum_probs\n",
    "        rn = np.random.uniform()\n",
    "        filtered = copy_cums - rn\n",
    "        filtered[filtered<0] = 1.1\n",
    "        upper = np.argmin(filtered)\n",
    "        lower = upper -1\n",
    "        prob_distance = copy_cums[upper] - copy_cums[lower]\n",
    "        beta_distance = beta[upper] - beta[lower]\n",
    "        length_along_probs = (rn-copy_cums[lower])/prob_distance\n",
    "        sampled_beta = beta[lower] + length_along_probs*beta_distance\n",
    "        out.append(sampled_beta)\n",
    "    return out"
   ],
   "metadata": {
    "collapsed": false,
    "pycharm": {
     "is_executing": true
    }
   }
  },
  {
   "cell_type": "code",
   "execution_count": null,
   "outputs": [],
   "source": [
    "rng = np.random.default_rng(1912)"
   ],
   "metadata": {
    "collapsed": false,
    "pycharm": {
     "is_executing": true
    }
   }
  },
  {
   "cell_type": "code",
   "execution_count": null,
   "outputs": [],
   "source": [
    "np.array(sample_cum.index)"
   ],
   "metadata": {
    "collapsed": false,
    "pycharm": {
     "is_executing": true
    }
   }
  },
  {
   "cell_type": "code",
   "execution_count": null,
   "outputs": [],
   "source": [
    "trial_sample = beta_sampler(np.array(sample_cum.index),np.array(sample_cum[\"Cum_prob\"]),rng,100000)"
   ],
   "metadata": {
    "collapsed": false,
    "pycharm": {
     "is_executing": true
    }
   }
  },
  {
   "cell_type": "code",
   "execution_count": null,
   "outputs": [],
   "source": [
    "fig, ax0 = plt.subplots()\n",
    "sns.histplot(trial_sample,ax=ax0)\n",
    "ax0.plot(plot_bet_dis.index, spline(plot_bet_dis.index)*1400)\n",
    "fig.show()"
   ],
   "metadata": {
    "collapsed": false,
    "pycharm": {
     "is_executing": true
    }
   }
  }
 ],
 "metadata": {
  "kernelspec": {
   "display_name": "Python 3",
   "language": "python",
   "name": "python3"
  },
  "language_info": {
   "codemirror_mode": {
    "name": "ipython",
    "version": 2
   },
   "file_extension": ".py",
   "mimetype": "text/x-python",
   "name": "python",
   "nbconvert_exporter": "python",
   "pygments_lexer": "ipython2",
   "version": "2.7.6"
  }
 },
 "nbformat": 4,
 "nbformat_minor": 0
}
