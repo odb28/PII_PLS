{
 "cells": [
  {
   "cell_type": "code",
   "execution_count": 14,
   "metadata": {
    "collapsed": true
   },
   "outputs": [],
   "source": [
    "import numpy as np\n",
    "import scipy as sp\n",
    "import arviz as az\n",
    "from src.baseSIR import mle\n",
    "from src.baseSIR import mle_sir\n",
    "import seaborn as sns\n",
    "import pandas as pd\n",
    "from matplotlib import pyplot as plt\n",
    "import time"
   ]
  },
  {
   "cell_type": "code",
   "execution_count": 15,
   "outputs": [],
   "source": [
    "g_state = [\"fixed\",\"free\"]\n",
    "sim_g = g_state[1]\n",
    "extra = [\"\",\"_I1\"]\n",
    "I0 = extra[0]\n",
    "R0 = 3"
   ],
   "metadata": {
    "collapsed": false
   }
  },
  {
   "cell_type": "code",
   "execution_count": 16,
   "outputs": [
    {
     "ename": "FileNotFoundError",
     "evalue": "../../Data/R0_3/Sims_SIR/Summary/fixed_g_Final_size_c0.csv not found.",
     "output_type": "error",
     "traceback": [
      "\u001B[1;31m---------------------------------------------------------------------------\u001B[0m",
      "\u001B[1;31mFileNotFoundError\u001B[0m                         Traceback (most recent call last)",
      "Cell \u001B[1;32mIn[16], line 1\u001B[0m\n\u001B[1;32m----> 1\u001B[0m Size_c0 \u001B[38;5;241m=\u001B[39m pd\u001B[38;5;241m.\u001B[39mDataFrame(\u001B[43mnp\u001B[49m\u001B[38;5;241;43m.\u001B[39;49m\u001B[43mgenfromtxt\u001B[49m\u001B[43m(\u001B[49m\u001B[38;5;124;43mf\u001B[39;49m\u001B[38;5;124;43m\"\u001B[39;49m\u001B[38;5;124;43m../../Data/R0_\u001B[39;49m\u001B[38;5;132;43;01m{\u001B[39;49;00m\u001B[43mR0\u001B[49m\u001B[38;5;132;43;01m}\u001B[39;49;00m\u001B[38;5;124;43m/Sims_SIR/Summary/\u001B[39;49m\u001B[38;5;132;43;01m{\u001B[39;49;00m\u001B[43msim_g\u001B[49m\u001B[38;5;132;43;01m}\u001B[39;49;00m\u001B[38;5;124;43m_g_Final_size\u001B[39;49m\u001B[38;5;132;43;01m{\u001B[39;49;00m\u001B[43mI0\u001B[49m\u001B[38;5;132;43;01m}\u001B[39;49;00m\u001B[38;5;124;43m_c0.csv\u001B[39;49m\u001B[38;5;124;43m\"\u001B[39;49m\u001B[43m,\u001B[49m\u001B[43m \u001B[49m\u001B[43mdelimiter\u001B[49m\u001B[38;5;241;43m=\u001B[39;49m\u001B[43m \u001B[49m\u001B[38;5;124;43m\"\u001B[39;49m\u001B[38;5;124;43m,\u001B[39;49m\u001B[38;5;124;43m\"\u001B[39;49m\u001B[43m)\u001B[49m, columns \u001B[38;5;241m=\u001B[39m (\u001B[38;5;124m\"\u001B[39m\u001B[38;5;124mS\u001B[39m\u001B[38;5;124m\"\u001B[39m,\u001B[38;5;124m\"\u001B[39m\u001B[38;5;124mN\u001B[39m\u001B[38;5;124m\"\u001B[39m))\n\u001B[0;32m      2\u001B[0m Size_c1 \u001B[38;5;241m=\u001B[39m pd\u001B[38;5;241m.\u001B[39mDataFrame(np\u001B[38;5;241m.\u001B[39mgenfromtxt(\u001B[38;5;124mf\u001B[39m\u001B[38;5;124m\"\u001B[39m\u001B[38;5;124m../../Data/R0_\u001B[39m\u001B[38;5;132;01m{\u001B[39;00mR0\u001B[38;5;132;01m}\u001B[39;00m\u001B[38;5;124m/Sims_SIR/Summary/\u001B[39m\u001B[38;5;132;01m{\u001B[39;00msim_g\u001B[38;5;132;01m}\u001B[39;00m\u001B[38;5;124m_g_Final_size\u001B[39m\u001B[38;5;132;01m{\u001B[39;00mI0\u001B[38;5;132;01m}\u001B[39;00m\u001B[38;5;124m_c1.csv\u001B[39m\u001B[38;5;124m\"\u001B[39m, delimiter\u001B[38;5;241m=\u001B[39m \u001B[38;5;124m\"\u001B[39m\u001B[38;5;124m,\u001B[39m\u001B[38;5;124m\"\u001B[39m), columns \u001B[38;5;241m=\u001B[39m (\u001B[38;5;124m\"\u001B[39m\u001B[38;5;124mS\u001B[39m\u001B[38;5;124m\"\u001B[39m,\u001B[38;5;124m\"\u001B[39m\u001B[38;5;124mN\u001B[39m\u001B[38;5;124m\"\u001B[39m))\n\u001B[0;32m      3\u001B[0m Size_c2 \u001B[38;5;241m=\u001B[39m pd\u001B[38;5;241m.\u001B[39mDataFrame(np\u001B[38;5;241m.\u001B[39mgenfromtxt(\u001B[38;5;124mf\u001B[39m\u001B[38;5;124m\"\u001B[39m\u001B[38;5;124m../../Data/R0_\u001B[39m\u001B[38;5;132;01m{\u001B[39;00mR0\u001B[38;5;132;01m}\u001B[39;00m\u001B[38;5;124m/Sims_SIR/Summary/\u001B[39m\u001B[38;5;132;01m{\u001B[39;00msim_g\u001B[38;5;132;01m}\u001B[39;00m\u001B[38;5;124m_g_Final_size\u001B[39m\u001B[38;5;132;01m{\u001B[39;00mI0\u001B[38;5;132;01m}\u001B[39;00m\u001B[38;5;124m_c2.csv\u001B[39m\u001B[38;5;124m\"\u001B[39m, delimiter\u001B[38;5;241m=\u001B[39m \u001B[38;5;124m\"\u001B[39m\u001B[38;5;124m,\u001B[39m\u001B[38;5;124m\"\u001B[39m), columns \u001B[38;5;241m=\u001B[39m (\u001B[38;5;124m\"\u001B[39m\u001B[38;5;124mS\u001B[39m\u001B[38;5;124m\"\u001B[39m,\u001B[38;5;124m\"\u001B[39m\u001B[38;5;124mN\u001B[39m\u001B[38;5;124m\"\u001B[39m))\n",
      "File \u001B[1;32m~\\anaconda3\\envs\\PLS Research\\lib\\site-packages\\numpy\\lib\\npyio.py:1980\u001B[0m, in \u001B[0;36mgenfromtxt\u001B[1;34m(fname, dtype, comments, delimiter, skip_header, skip_footer, converters, missing_values, filling_values, usecols, names, excludelist, deletechars, replace_space, autostrip, case_sensitive, defaultfmt, unpack, usemask, loose, invalid_raise, max_rows, encoding, ndmin, like)\u001B[0m\n\u001B[0;32m   1978\u001B[0m     fname \u001B[38;5;241m=\u001B[39m os_fspath(fname)\n\u001B[0;32m   1979\u001B[0m \u001B[38;5;28;01mif\u001B[39;00m \u001B[38;5;28misinstance\u001B[39m(fname, \u001B[38;5;28mstr\u001B[39m):\n\u001B[1;32m-> 1980\u001B[0m     fid \u001B[38;5;241m=\u001B[39m \u001B[43mnp\u001B[49m\u001B[38;5;241;43m.\u001B[39;49m\u001B[43mlib\u001B[49m\u001B[38;5;241;43m.\u001B[39;49m\u001B[43m_datasource\u001B[49m\u001B[38;5;241;43m.\u001B[39;49m\u001B[43mopen\u001B[49m\u001B[43m(\u001B[49m\u001B[43mfname\u001B[49m\u001B[43m,\u001B[49m\u001B[43m \u001B[49m\u001B[38;5;124;43m'\u001B[39;49m\u001B[38;5;124;43mrt\u001B[39;49m\u001B[38;5;124;43m'\u001B[39;49m\u001B[43m,\u001B[49m\u001B[43m \u001B[49m\u001B[43mencoding\u001B[49m\u001B[38;5;241;43m=\u001B[39;49m\u001B[43mencoding\u001B[49m\u001B[43m)\u001B[49m\n\u001B[0;32m   1981\u001B[0m     fid_ctx \u001B[38;5;241m=\u001B[39m contextlib\u001B[38;5;241m.\u001B[39mclosing(fid)\n\u001B[0;32m   1982\u001B[0m \u001B[38;5;28;01melse\u001B[39;00m:\n",
      "File \u001B[1;32m~\\anaconda3\\envs\\PLS Research\\lib\\site-packages\\numpy\\lib\\_datasource.py:193\u001B[0m, in \u001B[0;36mopen\u001B[1;34m(path, mode, destpath, encoding, newline)\u001B[0m\n\u001B[0;32m    156\u001B[0m \u001B[38;5;250m\u001B[39m\u001B[38;5;124;03m\"\"\"\u001B[39;00m\n\u001B[0;32m    157\u001B[0m \u001B[38;5;124;03mOpen `path` with `mode` and return the file object.\u001B[39;00m\n\u001B[0;32m    158\u001B[0m \n\u001B[1;32m   (...)\u001B[0m\n\u001B[0;32m    189\u001B[0m \n\u001B[0;32m    190\u001B[0m \u001B[38;5;124;03m\"\"\"\u001B[39;00m\n\u001B[0;32m    192\u001B[0m ds \u001B[38;5;241m=\u001B[39m DataSource(destpath)\n\u001B[1;32m--> 193\u001B[0m \u001B[38;5;28;01mreturn\u001B[39;00m \u001B[43mds\u001B[49m\u001B[38;5;241;43m.\u001B[39;49m\u001B[43mopen\u001B[49m\u001B[43m(\u001B[49m\u001B[43mpath\u001B[49m\u001B[43m,\u001B[49m\u001B[43m \u001B[49m\u001B[43mmode\u001B[49m\u001B[43m,\u001B[49m\u001B[43m \u001B[49m\u001B[43mencoding\u001B[49m\u001B[38;5;241;43m=\u001B[39;49m\u001B[43mencoding\u001B[49m\u001B[43m,\u001B[49m\u001B[43m \u001B[49m\u001B[43mnewline\u001B[49m\u001B[38;5;241;43m=\u001B[39;49m\u001B[43mnewline\u001B[49m\u001B[43m)\u001B[49m\n",
      "File \u001B[1;32m~\\anaconda3\\envs\\PLS Research\\lib\\site-packages\\numpy\\lib\\_datasource.py:533\u001B[0m, in \u001B[0;36mDataSource.open\u001B[1;34m(self, path, mode, encoding, newline)\u001B[0m\n\u001B[0;32m    530\u001B[0m     \u001B[38;5;28;01mreturn\u001B[39;00m _file_openers[ext](found, mode\u001B[38;5;241m=\u001B[39mmode,\n\u001B[0;32m    531\u001B[0m                               encoding\u001B[38;5;241m=\u001B[39mencoding, newline\u001B[38;5;241m=\u001B[39mnewline)\n\u001B[0;32m    532\u001B[0m \u001B[38;5;28;01melse\u001B[39;00m:\n\u001B[1;32m--> 533\u001B[0m     \u001B[38;5;28;01mraise\u001B[39;00m \u001B[38;5;167;01mFileNotFoundError\u001B[39;00m(\u001B[38;5;124mf\u001B[39m\u001B[38;5;124m\"\u001B[39m\u001B[38;5;132;01m{\u001B[39;00mpath\u001B[38;5;132;01m}\u001B[39;00m\u001B[38;5;124m not found.\u001B[39m\u001B[38;5;124m\"\u001B[39m)\n",
      "\u001B[1;31mFileNotFoundError\u001B[0m: ../../Data/R0_3/Sims_SIR/Summary/fixed_g_Final_size_c0.csv not found."
     ]
    }
   ],
   "source": [
    "Size_c0 = pd.DataFrame(np.genfromtxt(f\"../../Data/R0_{R0}/Sims_SIR/Summary/{sim_g}_g_Final_size{I0}_c0.csv\", delimiter= \",\"), columns = (\"S\",\"N\"))\n",
    "Size_c1 = pd.DataFrame(np.genfromtxt(f\"../../Data/R0_{R0}/Sims_SIR/Summary/{sim_g}_g_Final_size{I0}_c1.csv\", delimiter= \",\"), columns = (\"S\",\"N\"))\n",
    "Size_c2 = pd.DataFrame(np.genfromtxt(f\"../../Data/R0_{R0}/Sims_SIR/Summary/{sim_g}_g_Final_size{I0}_c2.csv\", delimiter= \",\"), columns = (\"S\",\"N\"))\n",
    "Size_c3 = pd.DataFrame(np.genfromtxt(f\"../../Data/R0_{R0}/Sims_SIR/Summary/{sim_g}_g_Final_size{I0}_c3.csv\", delimiter= \",\"), columns = (\"S\",\"N\"))\n",
    "\n",
    "Ext_c0 = pd.DataFrame(np.genfromtxt(f\"../../Data/R0_{R0}/Sims_SIR/Summary/{sim_g}_g_Pr_ext{I0}_c0.csv\", delimiter= \",\"),columns = (\"S\",\"N\"))\n",
    "Ext_c1 = pd.DataFrame(np.genfromtxt(f\"../../Data/R0_{R0}/Sims_SIR/Summary/{sim_g}_g_Pr_ext{I0}_c1.csv\", delimiter= \",\"), columns = (\"S\",\"N\"))\n",
    "Ext_c2 = pd.DataFrame(np.genfromtxt(f\"../../Data/R0_{R0}/Sims_SIR/Summary/{sim_g}_g_Pr_ext{I0}_c2.csv\", delimiter= \",\"), columns = (\"S\",\"N\"))\n",
    "Ext_c3 = pd.DataFrame(np.genfromtxt(f\"../../Data/R0_{R0}/Sims_SIR/Summary/{sim_g}_g_Pr_ext{I0}_c3.csv\", delimiter= \",\"), columns = (\"S\",\"N\"))\n",
    "\n",
    "Std_c0 = pd.DataFrame(np.genfromtxt(f\"../../Data/R0_{R0}/Sims_SIR/Summary/{sim_g}_g_Stds{I0}_c0.csv\", delimiter= \",\"),columns = (\"S\",\"N\"))\n",
    "Std_c1 = pd.DataFrame(np.genfromtxt(f\"../../Data/R0_{R0}/Sims_SIR/Summary/{sim_g}_g_Stds{I0}_c1.csv\", delimiter= \",\"), columns = (\"S\",\"N\"))\n",
    "Std_c2 = pd.DataFrame(np.genfromtxt(f\"../../Data/R0_{R0}/Sims_SIR/Summary/{sim_g}_g_Stds{I0}_c2.csv\", delimiter= \",\"), columns = (\"S\",\"N\"))\n",
    "Std_c3 = pd.DataFrame(np.genfromtxt(f\"../../Data/R0_{R0}/Sims_SIR/Summary/{sim_g}_g_Stds{I0}_c3.csv\", delimiter= \",\"), columns = (\"S\",\"N\"))"
   ],
   "metadata": {
    "collapsed": false
   }
  },
  {
   "cell_type": "code",
   "execution_count": null,
   "outputs": [],
   "source": [
    "print(Size_c0)"
   ],
   "metadata": {
    "collapsed": false
   }
  },
  {
   "cell_type": "code",
   "execution_count": null,
   "outputs": [],
   "source": [
    "b_mod = 0.5\n",
    "omega = 1\n",
    "cull_strength = 20"
   ],
   "metadata": {
    "collapsed": false
   }
  },
  {
   "cell_type": "code",
   "execution_count": null,
   "outputs": [],
   "source": [
    "Size_c0[\"C\"] = \"No Control\"\n",
    "Size_c1[\"C\"] = f\"Reduction in Beta: {b_mod}*B\"\n",
    "Size_c2[\"C\"] = f\"Additive Gamma: Gamma + {omega}\"\n",
    "Size_c3[\"C\"] = f\"{cull_strength}% Cull every 0.5 Time Units\"\n",
    "\n",
    "Ext_c0[\"C\"] = \"No Control\"\n",
    "Ext_c1[\"C\"] = f\"Reduction in Beta: {b_mod}*B\"\n",
    "Ext_c2[\"C\"] = f\"Additive Gamma: Gamma + {omega}\"\n",
    "Ext_c3[\"C\"] = f\"{cull_strength}% Cull every 0.5 Time Units\"\n",
    "\n",
    "Std_c0[\"C\"] = \"No Control\"\n",
    "Std_c1[\"C\"] = f\"Reduction in Beta: {b_mod}*B\"\n",
    "Std_c2[\"C\"] = f\"Additive Gamma: Gamma + {omega}\"\n",
    "Std_c3[\"C\"] = f\"{cull_strength}% Cull every 0.5 Time Units\"\n",
    "\n",
    "Sizes = pd.concat([Size_c0,Size_c1,Size_c2,Size_c3])\n",
    "\n",
    "Exts = pd.concat([Ext_c0,Ext_c1,Ext_c2,Ext_c3])\n",
    "\n",
    "Stds = pd.concat([Std_c0,Std_c1,Std_c2,Std_c3])"
   ],
   "metadata": {
    "collapsed": false
   }
  },
  {
   "cell_type": "code",
   "execution_count": null,
   "outputs": [],
   "source": [
    "print(Exts)"
   ],
   "metadata": {
    "collapsed": false
   }
  },
  {
   "cell_type": "code",
   "execution_count": null,
   "outputs": [],
   "source": [
    "print(Sizes[Sizes[\"C\"] == \"1\"])"
   ],
   "metadata": {
    "collapsed": false
   }
  },
  {
   "cell_type": "code",
   "execution_count": null,
   "outputs": [],
   "source": [
    "fig, ax0 = plt.subplots()\n",
    "sns.barplot(data = Sizes, x = \"N\", y = \"S\", hue = \"C\", ax = ax0)\n",
    "sns.move_legend(ax0, \"upper left\", bbox_to_anchor=(1, 1))\n",
    "ax0.set_xlabel(\"N\")\n",
    "ax0.set_ylabel(\"Final Epidemic Size\")\n",
    "fig.show()"
   ],
   "metadata": {
    "collapsed": false
   }
  },
  {
   "cell_type": "code",
   "execution_count": null,
   "outputs": [],
   "source": [
    "fig, ax0 = plt.subplots()\n",
    "sns.barplot(data = Exts, x = \"N\", y = \"S\", hue = \"C\", ax = ax0)\n",
    "ax0.set_xlabel(\"N\")\n",
    "ax0.set_ylabel(\"Extinction Probability\")\n",
    "fig.show()"
   ],
   "metadata": {
    "collapsed": false
   }
  },
  {
   "cell_type": "code",
   "execution_count": null,
   "outputs": [],
   "source": [
    "Size_c0[Size_c0[\"N\"] == 10][\"S\"]"
   ],
   "metadata": {
    "collapsed": false
   }
  },
  {
   "cell_type": "code",
   "execution_count": null,
   "outputs": [],
   "source": [
    "sp.stats.ttest_rel(Size_c0[Size_c0[\"N\"] == 10][\"S\"], Size_c0[Size_c0[\"N\"] == 1000][\"S\"])"
   ],
   "metadata": {
    "collapsed": false
   }
  },
  {
   "cell_type": "code",
   "execution_count": null,
   "outputs": [],
   "source": [
    "fig, ax0 = plt.subplots()\n",
    "sns.barplot(data = Stds, x = \"N\", y = \"S\", hue = \"C\", ax = ax0)\n",
    "sns.move_legend(ax0, \"upper left\", bbox_to_anchor=(1, 1))\n",
    "ax0.set_xlabel(\"N\")\n",
    "ax0.set_ylabel(\"Standard Deviation of Final Sizes\")\n",
    "fig.show()"
   ],
   "metadata": {
    "collapsed": false
   }
  },
  {
   "cell_type": "code",
   "execution_count": null,
   "outputs": [],
   "source": [],
   "metadata": {
    "collapsed": false
   }
  }
 ],
 "metadata": {
  "kernelspec": {
   "display_name": "Python 3",
   "language": "python",
   "name": "python3"
  },
  "language_info": {
   "codemirror_mode": {
    "name": "ipython",
    "version": 2
   },
   "file_extension": ".py",
   "mimetype": "text/x-python",
   "name": "python",
   "nbconvert_exporter": "python",
   "pygments_lexer": "ipython2",
   "version": "2.7.6"
  }
 },
 "nbformat": 4,
 "nbformat_minor": 0
}
