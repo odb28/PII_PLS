{
 "cells": [
  {
   "cell_type": "code",
   "execution_count": 3,
   "metadata": {
    "collapsed": true
   },
   "outputs": [
    {
     "name": "stdout",
     "output_type": "stream",
     "text": [
      ".\n",
      "\n",
      "Time run took 0.1228184700012207 seconds to run!\n",
      "Optimal tmax = 12.541331200770173\n"
     ]
    }
   ],
   "source": [
    "import time\n",
    "import numpy as np\n",
    "import pymc as pm\n",
    "from src.baseSIR import timed_sir\n",
    "from src.baseSIR import real_sir\n",
    "import arviz as az\n",
    "\n",
    "\n",
    "\n",
    "#Initialise RNG\n",
    "\n",
    "# Run the \"real world\"\n",
    "X0 = [999, 1, 0]\n",
    "beta = 3\n",
    "gamma = 1\n",
    "mu = 0\n",
    "tmax = 100\n",
    "start_time = time.time()\n",
    "times = []\n",
    "for i in range(10):\n",
    "    rng = np.random.default_rng(i)\n",
    "    final_time = timed_sir(X0, mu, beta, gamma, tmax,rng)\n",
    "    times.append(final_time)\n",
    "    if i % 10 == 0:\n",
    "        print(\".\",end=\"\")\n",
    "print('\\n')\n",
    "print(f\"Time run took {time.time() - start_time} seconds to run!\")\n",
    "print(f\"Optimal tmax = {np.max(times)}\")"
   ]
  },
  {
   "cell_type": "code",
   "execution_count": null,
   "outputs": [],
   "source": [],
   "metadata": {
    "collapsed": false
   }
  }
 ],
 "metadata": {
  "kernelspec": {
   "display_name": "Python 3",
   "language": "python",
   "name": "python3"
  },
  "language_info": {
   "codemirror_mode": {
    "name": "ipython",
    "version": 2
   },
   "file_extension": ".py",
   "mimetype": "text/x-python",
   "name": "python",
   "nbconvert_exporter": "python",
   "pygments_lexer": "ipython2",
   "version": "2.7.6"
  }
 },
 "nbformat": 4,
 "nbformat_minor": 0
}
