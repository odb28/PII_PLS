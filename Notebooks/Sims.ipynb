{
 "cells": [
  {
   "cell_type": "code",
   "execution_count": null,
   "outputs": [],
   "source": [
    "import numpy as np\n",
    "from src.baseSIR import model_sir\n",
    "import scipy as sp\n",
    "import arviz as az\n",
    "import seaborn as sns\n",
    "import pandas as pd\n",
    "from matplotlib import pyplot as plt\n",
    "import time"
   ],
   "metadata": {
    "collapsed": false
   }
  },
  {
   "cell_type": "code",
   "execution_count": null,
   "outputs": [],
   "source": [],
   "metadata": {
    "collapsed": false
   }
  },
  {
   "cell_type": "code",
   "execution_count": null,
   "outputs": [],
   "source": [
    "seed = 1912\n",
    "rng = np.random.default_rng(seed)\n",
    "\n",
    "mu = 0\n",
    "tmax = 10\n",
    "tstep = 0.05\n",
    "\n",
    "final_sizes = np.empty(shape = (30,2))\n",
    "size_stds = np.empty(shape = (30,2))\n",
    "pr_ext= np.empty(shape = (30,2))\n",
    "for i in range(30):\n",
    "    final_s = []\n",
    "    exts = []\n",
    "\n",
    "    if i <10:\n",
    "        final_sizes[i,1] = \"10\"\n",
    "        size_stds[i,1] = \"10\"\n",
    "        pr_ext[i,1] = \"10\"\n",
    "        X0 = [9, 1, 0]\n",
    "        for j in range(1000):\n",
    "            ext,s = model_sir(X0,mu,beta=df_b.iloc[i,0],gamma=df_g.iloc[i,0],tmax=tmax,tstep=tstep,rng=rng)\n",
    "\n"
   ],
   "metadata": {
    "collapsed": false
   }
  }
 ],
 "metadata": {
  "kernelspec": {
   "display_name": "Python 3",
   "language": "python",
   "name": "python3"
  },
  "language_info": {
   "codemirror_mode": {
    "name": "ipython",
    "version": 2
   },
   "file_extension": ".py",
   "mimetype": "text/x-python",
   "name": "python",
   "nbconvert_exporter": "python",
   "pygments_lexer": "ipython2",
   "version": "2.7.6"
  }
 },
 "nbformat": 4,
 "nbformat_minor": 0
}
