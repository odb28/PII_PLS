{
 "cells": [
  {
   "cell_type": "code",
   "execution_count": 1,
   "outputs": [],
   "source": [
    "import numpy as np\n",
    "from src.baseSIR import model_sir\n",
    "import scipy as sp\n",
    "import arviz as az\n",
    "import seaborn as sns\n",
    "import pandas as pd\n",
    "from matplotlib import pyplot as plt\n",
    "import time"
   ],
   "metadata": {
    "collapsed": false
   }
  },
  {
   "cell_type": "code",
   "execution_count": 2,
   "outputs": [],
   "source": [
    "N_10_b = np.genfromtxt(f\"../Data/N_10_b.csv\", delimiter= \",\")\n",
    "N_100_b = np.genfromtxt(f\"../Data/N_100_b.csv\", delimiter= \",\")\n",
    "N_1000_b = np.genfromtxt(f\"../Data/N_1000_b.csv\", delimiter= \",\")\n",
    "\n",
    "N_10_g = np.genfromtxt(f\"../Data/N_10_g.csv\", delimiter= \",\")\n",
    "N_100_g = np.genfromtxt(f\"../Data/N_100_g.csv\", delimiter= \",\")\n",
    "N_1000_g = np.genfromtxt(f\"../Data/N_1000_g.csv\", delimiter= \",\")"
   ],
   "metadata": {
    "collapsed": false
   }
  },
  {
   "cell_type": "code",
   "execution_count": null,
   "outputs": [],
   "source": [
    "print(N_10_b)"
   ],
   "metadata": {
    "collapsed": false,
    "pycharm": {
     "is_executing": true
    }
   }
  },
  {
   "cell_type": "code",
   "execution_count": null,
   "outputs": [],
   "source": [
    "seed = 1912\n",
    "rng = np.random.default_rng(seed)\n",
    "\n",
    "mu = 0\n",
    "tmax = 10\n",
    "tstep = 0.05\n",
    "n_sim = 1000\n",
    "\n",
    "final_sizes = np.empty(shape = (30,2))\n",
    "size_stds = np.empty(shape = (30,2))\n",
    "pr_ext= np.empty(shape = (30,2))\n",
    "for i in range(30):\n",
    "    final_s = []\n",
    "    exts = []\n",
    "\n",
    "    if i <10:\n",
    "        final_sizes[i,1] = \"10\"\n",
    "        size_stds[i,1] = \"10\"\n",
    "        pr_ext[i,1] = \"10\"\n",
    "        X0 = [9, 1, 0]\n",
    "        for j in range(n_sim):\n",
    "            s,ext = model_sir(X0,mu,beta=N_10_b[i,0],gamma=N_10_g[i,0],tmax=tmax,tstep=tstep,rng=rng)\n",
    "            final_s.append(s)\n",
    "            exts.append(ext)\n",
    "\n",
    "    elif 10 < i <20:\n",
    "        final_sizes[i,1] = \"100\"\n",
    "        size_stds[i,1] = \"100\"\n",
    "        pr_ext[i,1] = \"100\"\n",
    "        X0 = [90, 10, 0]\n",
    "        for j in range(n_sim):\n",
    "            ext,s = model_sir(X0,mu,beta=N_100_b[i-10,0],gamma=N_100_g[i-10,0],tmax=tmax,tstep=tstep,rng=rng)\n",
    "            final_s.append(s)\n",
    "            exts.append(ext)\n",
    "\n",
    "        else:\n",
    "            final_sizes[i,1] = \"1000\"\n",
    "            size_stds[i,1] = \"1000\"\n",
    "            pr_ext[i,1] = \"1000\"\n",
    "            X0 = [900, 100, 0]\n",
    "            for j in range(n_sim):\n",
    "                ext,s = model_sir(X0,mu,beta=N_1000_b[i-20,0],gamma=N_1000_g[i-20,0],tmax=tmax,tstep=tstep,rng=rng)\n",
    "                final_s.append(s)\n",
    "                exts.append(ext)\n",
    "\n",
    "    final_sizes[i,0] = np.mean(final_s)\n",
    "    pr_ext[i,0] = sum(exts)/n_sim\n",
    "    size_stds[i,0] = np.std(final_s)\n",
    "\n"
   ],
   "metadata": {
    "collapsed": false,
    "pycharm": {
     "is_executing": true
    }
   }
  },
  {
   "cell_type": "code",
   "execution_count": null,
   "outputs": [],
   "source": [
    "print(pr_ext)"
   ],
   "metadata": {
    "collapsed": false,
    "pycharm": {
     "is_executing": true
    }
   }
  },
  {
   "cell_type": "code",
   "execution_count": null,
   "outputs": [],
   "source": [],
   "metadata": {
    "collapsed": false
   }
  }
 ],
 "metadata": {
  "kernelspec": {
   "display_name": "Python 3",
   "language": "python",
   "name": "python3"
  },
  "language_info": {
   "codemirror_mode": {
    "name": "ipython",
    "version": 2
   },
   "file_extension": ".py",
   "mimetype": "text/x-python",
   "name": "python",
   "nbconvert_exporter": "python",
   "pygments_lexer": "ipython2",
   "version": "2.7.6"
  }
 },
 "nbformat": 4,
 "nbformat_minor": 0
}
