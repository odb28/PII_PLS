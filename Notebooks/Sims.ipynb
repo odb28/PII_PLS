{
 "cells": [
  {
   "cell_type": "code",
   "execution_count": 2,
   "outputs": [],
   "source": [
    "import numpy as np\n",
    "from src.baseSIR import model_sir\n",
    "import scipy as sp\n",
    "import arviz as az\n",
    "import seaborn as sns\n",
    "import pandas as pd\n",
    "from matplotlib import pyplot as plt\n",
    "import time"
   ],
   "metadata": {
    "collapsed": false
   }
  },
  {
   "cell_type": "code",
   "execution_count": 3,
   "outputs": [],
   "source": [
    "N_10_b = np.genfromtxt(f\"../Data/N_10_b.csv\", delimiter= \",\")\n",
    "N_100_b = np.genfromtxt(f\"../Data/N_100_b.csv\", delimiter= \",\")\n",
    "N_1000_b = np.genfromtxt(f\"../Data/N_1000_b.csv\", delimiter= \",\")\n",
    "\n",
    "N_10_g = np.genfromtxt(f\"../Data/N_10_g.csv\", delimiter= \",\")\n",
    "N_100_g = np.genfromtxt(f\"../Data/N_100_g.csv\", delimiter= \",\")\n",
    "N_1000_g = np.genfromtxt(f\"../Data/N_1000_g.csv\", delimiter= \",\")"
   ],
   "metadata": {
    "collapsed": false
   }
  },
  {
   "cell_type": "code",
   "execution_count": 18,
   "outputs": [
    {
     "name": "stdout",
     "output_type": "stream",
     "text": [
      "[[2.89875301 1.26970271]\n",
      " [3.03867664 1.27624137]\n",
      " [2.62141952 1.19868672]\n",
      " [1.60014338 1.15286876]\n",
      " [2.99866971 1.24366965]\n",
      " [3.17584889 1.2374088 ]\n",
      " [2.7874885  1.0863717 ]\n",
      " [2.40130316 1.1002095 ]\n",
      " [2.55066392 1.13253797]\n",
      " [2.38935047 1.13608279]]\n"
     ]
    }
   ],
   "source": [
    "print(N_10_b)"
   ],
   "metadata": {
    "collapsed": false
   }
  },
  {
   "cell_type": "code",
   "execution_count": 36,
   "outputs": [],
   "source": [
    "seed = 1912\n",
    "rng = np.random.default_rng(seed)\n",
    "\n",
    "mu = 0\n",
    "tmax = 10\n",
    "tstep = 0.05\n",
    "n_sim = 1000\n",
    "\n",
    "final_sizes = pd.DataFrame(np.empty(shape=(30,2)),columns=(\"S\",\"N\"))\n",
    "size_stds = pd.DataFrame(np.empty(shape=(30,2)),columns=(\"S_std\",\"N\"))\n",
    "pr_ext= pd.DataFrame(np.empty(shape=(30,2)),columns=(\"Pr_ext\",\"N\"))\n",
    "for i in range(30):\n",
    "    final_s = []\n",
    "    exts = []\n",
    "\n",
    "    if i < 10:\n",
    "        final_sizes.iloc[i,1] = \"10\"\n",
    "        size_stds.iloc[i,1] = \"10\"\n",
    "        pr_ext.iloc[i,1] = \"10\"\n",
    "        X0 = [9, 1, 0]\n",
    "        for j in range(n_sim):\n",
    "            s,ext = model_sir(X0,mu,beta=N_10_b[i,0],gamma=N_10_g[i,0],tmax=tmax,tstep=tstep,rng=rng)\n",
    "            final_s.append(s)\n",
    "            exts.append(ext)\n",
    "\n",
    "    elif 10 <= i < 20:\n",
    "        final_sizes.iloc[i,1] = \"100\"\n",
    "        size_stds.iloc[i,1] = \"100\"\n",
    "        pr_ext.iloc[i,1] = \"100\"\n",
    "        X0 = [90, 10, 0]\n",
    "        for j in range(n_sim):\n",
    "            s,ext = model_sir(X0,mu,beta=N_100_b[i-10,0],gamma=N_100_g[i-10,0],tmax=tmax,tstep=tstep,rng=rng)\n",
    "            final_s.append(s)\n",
    "            exts.append(ext)\n",
    "\n",
    "    elif i >= 20:\n",
    "        final_sizes.iloc[i,1] = \"1000\"\n",
    "        size_stds.iloc[i,1] = \"1000\"\n",
    "        pr_ext.iloc[i,1] = \"1000\"\n",
    "        X0 = [900, 100, 0]\n",
    "        for j in range(n_sim):\n",
    "            s,ext = model_sir(X0,mu,beta=N_1000_b[i-20,0],gamma=N_1000_g[i-20,0],tmax=tmax,tstep=tstep,rng=rng)\n",
    "            final_s.append(s)\n",
    "            exts.append(ext)\n",
    "\n",
    "    final_sizes.iloc[i,0] = np.mean(final_s)\n",
    "    pr_ext.iloc[i,0] = sum(exts)/n_sim\n",
    "    size_stds.iloc[i,0] = np.std(final_s)"
   ],
   "metadata": {
    "collapsed": false
   }
  },
  {
   "cell_type": "code",
   "execution_count": 37,
   "outputs": [
    {
     "name": "stdout",
     "output_type": "stream",
     "text": [
      "    Pr_ext     N\n",
      "0    0.887    10\n",
      "1    0.880    10\n",
      "2    0.895    10\n",
      "3    0.885    10\n",
      "4    0.878    10\n",
      "5    0.886    10\n",
      "6    0.884    10\n",
      "7    0.874    10\n",
      "8    0.882    10\n",
      "9    0.874    10\n",
      "10   0.098   100\n",
      "11   0.076   100\n",
      "12   0.064   100\n",
      "13   0.050   100\n",
      "14   0.099   100\n",
      "15   0.081   100\n",
      "16   0.063   100\n",
      "17   0.088   100\n",
      "18   0.059   100\n",
      "19   0.074   100\n",
      "20   0.000  1000\n",
      "21   0.000  1000\n",
      "22   0.000  1000\n",
      "23   0.000  1000\n",
      "24   0.000  1000\n",
      "25   0.000  1000\n",
      "26   0.000  1000\n",
      "27   0.000  1000\n",
      "28   0.000  1000\n",
      "29   0.000  1000\n"
     ]
    }
   ],
   "source": [
    "\n",
    "print(pr_ext)"
   ],
   "metadata": {
    "collapsed": false
   }
  },
  {
   "cell_type": "code",
   "execution_count": 38,
   "outputs": [
    {
     "name": "stdout",
     "output_type": "stream",
     "text": [
      "          S     N\n",
      "0     7.398    10\n",
      "1     6.147    10\n",
      "2     6.197    10\n",
      "3     4.308    10\n",
      "4     6.378    10\n",
      "5     6.296    10\n",
      "6     6.179    10\n",
      "7     6.219    10\n",
      "8     5.077    10\n",
      "9     6.213    10\n",
      "10   96.565   100\n",
      "11   95.457   100\n",
      "12   94.886   100\n",
      "13   93.922   100\n",
      "14   96.352   100\n",
      "15   95.146   100\n",
      "16   94.771   100\n",
      "17   95.069   100\n",
      "18   94.360   100\n",
      "19   94.457   100\n",
      "20  973.385  1000\n",
      "21  962.330  1000\n",
      "22  954.432  1000\n",
      "23  935.855  1000\n",
      "24  965.926  1000\n",
      "25  957.130  1000\n",
      "26  948.572  1000\n",
      "27  954.441  1000\n",
      "28  958.644  1000\n",
      "29  960.575  1000\n"
     ]
    }
   ],
   "source": [
    "print(final_sizes)"
   ],
   "metadata": {
    "collapsed": false
   }
  },
  {
   "cell_type": "code",
   "execution_count": 9,
   "outputs": [
    {
     "name": "stdout",
     "output_type": "stream",
     "text": [
      "955\n",
      "0\n"
     ]
    }
   ],
   "source": [
    "seed = 1912\n",
    "rng = np.random.default_rng(seed)\n",
    "\n",
    "mu = 0\n",
    "tmax = 10\n",
    "tstep = 0.05\n",
    "n_sim = 1000\n",
    "X0 = [900,100,0]\n",
    "\n",
    "s,ext = model_sir(X0,mu,beta=N_1000_b[25-20,0],gamma=N_1000_g[25-20,0],tmax=tmax,tstep=tstep,rng=rng)\n",
    "print(s)\n",
    "print(ext)"
   ],
   "metadata": {
    "collapsed": false
   }
  },
  {
   "cell_type": "code",
   "execution_count": null,
   "outputs": [],
   "source": [],
   "metadata": {
    "collapsed": false
   }
  }
 ],
 "metadata": {
  "kernelspec": {
   "display_name": "Python 3",
   "language": "python",
   "name": "python3"
  },
  "language_info": {
   "codemirror_mode": {
    "name": "ipython",
    "version": 2
   },
   "file_extension": ".py",
   "mimetype": "text/x-python",
   "name": "python",
   "nbconvert_exporter": "python",
   "pygments_lexer": "ipython2",
   "version": "2.7.6"
  }
 },
 "nbformat": 4,
 "nbformat_minor": 0
}
