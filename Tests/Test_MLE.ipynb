{
 "cells": [
  {
   "cell_type": "code",
   "execution_count": 2,
   "metadata": {
    "collapsed": true
   },
   "outputs": [],
   "source": [
    "import pytest\n",
    "from src.baseSIR import mle\n",
    "from src.baseSIR import mle_sir\n",
    "import numpy as np"
   ]
  },
  {
   "cell_type": "code",
   "execution_count": 6,
   "outputs": [
    {
     "name": "stdout",
     "output_type": "stream",
     "text": [
      "[[2 1 0]\n",
      " [1 2 0]\n",
      " [0 3 0]\n",
      " [0 2 1]\n",
      " [0 1 2]\n",
      " [0 0 3]]\n",
      "[0.         0.7983963  1.05073965 1.39331947 1.4533709  2.3108022 ]\n"
     ]
    }
   ],
   "source": [
    "beta = 3\n",
    "gamma = 1\n",
    "mu = 0\n",
    "X0 = [2,1,0]\n",
    "rng = np.random.default_rng(1912)\n",
    "tmax = 10\n",
    "t_step = 0.1\n",
    "tested,times_test, timed_test = mle_sir(X0,mu,beta,gamma,tmax,t_step,rng)\n",
    "print(timed_test)\n",
    "print(times_test)"
   ],
   "metadata": {
    "collapsed": false
   }
  },
  {
   "cell_type": "code",
   "execution_count": 9,
   "outputs": [
    {
     "name": "stdout",
     "output_type": "stream",
     "text": [
      "-2.231782093362974\n"
     ]
    }
   ],
   "source": [
    "print(mle(beta,gamma,timed_test,times_test,10))"
   ],
   "metadata": {
    "collapsed": false
   }
  },
  {
   "cell_type": "code",
   "execution_count": 12,
   "outputs": [
    {
     "name": "stdout",
     "output_type": "stream",
     "text": [
      "-2.2317820896520546\n"
     ]
    }
   ],
   "source": [
    "val_1 = np.log(3/3 * 1 * 2 * np.exp(-(3/3 *1 *2 +1)*(0.7983963)))\n",
    "val_2 = np.log(3/3 * 2 * 1 * np.exp(-(3/3 *2 *1 +2)*(1.05073965 - 0.7983963)))\n",
    "val_3 = np.log(1 * 3 * np.exp(-(3/3 *0 *3 + 3)*(1.39331947 - 1.05073965)))\n",
    "val_4 = np.log(1 * 2 * np.exp(-(3/3 *0 *2 +2)*(1.4533709- 1.39331947)))\n",
    "val_5 = np.log(1 * 1 * np.exp(-(3/3 *0 *1 + 1)*(2.3108022 - 1.4533709)))\n",
    "True_val = val_1 + val_2 + val_3 + val_4 + val_5\n",
    "print(True_val)"
   ],
   "metadata": {
    "collapsed": false
   }
  }
 ],
 "metadata": {
  "kernelspec": {
   "display_name": "Python 3",
   "language": "python",
   "name": "python3"
  },
  "language_info": {
   "codemirror_mode": {
    "name": "ipython",
    "version": 2
   },
   "file_extension": ".py",
   "mimetype": "text/x-python",
   "name": "python",
   "nbconvert_exporter": "python",
   "pygments_lexer": "ipython2",
   "version": "2.7.6"
  }
 },
 "nbformat": 4,
 "nbformat_minor": 0
}
